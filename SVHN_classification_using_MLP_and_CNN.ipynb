{
 "cells": [
  {
   "cell_type": "markdown",
   "metadata": {},
   "source": [
    "# Capstone Project\n",
    "## Image classifier for the SVHN dataset\n",
    "### Instructions\n",
    "\n",
    "In this notebook, you will create a neural network that classifies real-world images digits. You will use concepts from throughout this course in building, training, testing, validating and saving your Tensorflow classifier model.\n",
    "\n",
    "This project is peer-assessed. Within this notebook you will find instructions in each section for how to complete the project. Pay close attention to the instructions as the peer review will be carried out according to a grading rubric that checks key parts of the project instructions. Feel free to add extra cells into the notebook as required.\n",
    "\n",
    "### How to submit\n",
    "\n",
    "When you have completed the Capstone project notebook, you will submit a pdf of the notebook for peer review. First ensure that the notebook has been fully executed from beginning to end, and all of the cell outputs are visible. This is important, as the grading rubric depends on the reviewer being able to view the outputs of your notebook. Save the notebook as a pdf (File -> Download as -> PDF via LaTeX). You should then submit this pdf for review.\n",
    "\n",
    "### Let's get started!\n",
    "\n",
    "We'll start by running some imports, and loading the dataset. For this project you are free to make further imports throughout the notebook as you wish. "
   ]
  },
  {
   "cell_type": "code",
   "execution_count": 2,
   "metadata": {},
   "outputs": [],
   "source": [
    "import tensorflow as tf\n",
    "import numpy as np\n",
    "import matplotlib.pyplot as plt\n",
    "%matplotlib inline\n",
    "import pandas as pd\n",
    "from scipy.io import loadmat\n",
    "#from tensorflow.keras.callbacks import Callback"
   ]
  },
  {
   "cell_type": "markdown",
   "metadata": {},
   "source": [
    "![SVHN overview image](data/svhn_examples.jpg)\n",
    "For the capstone project, you will use the [SVHN dataset](http://ufldl.stanford.edu/housenumbers/). This is an  image dataset of over 600,000 digit images in all, and is a harder dataset than MNIST as the numbers appear in the context of natural scene images. SVHN is obtained from house numbers in Google Street View images. \n",
    "\n",
    "* Y. Netzer, T. Wang, A. Coates, A. Bissacco, B. Wu and A. Y. Ng. \"Reading Digits in Natural Images with Unsupervised Feature Learning\". NIPS Workshop on Deep Learning and Unsupervised Feature Learning, 2011.\n",
    "\n",
    "Your goal is to develop an end-to-end workflow for building, training, validating, evaluating and saving a neural network that classifies a real-world image into one of ten classes."
   ]
  },
  {
   "cell_type": "code",
   "execution_count": 3,
   "metadata": {},
   "outputs": [],
   "source": [
    "# Run this cell to load the dataset\n",
    "\n",
    "train = loadmat('data/train_32x32.mat')\n",
    "test = loadmat('data/test_32x32.mat')"
   ]
  },
  {
   "cell_type": "markdown",
   "metadata": {},
   "source": [
    "Both `train` and `test` are dictionaries with keys `X` and `y` for the input images and labels respectively."
   ]
  },
  {
   "cell_type": "markdown",
   "metadata": {},
   "source": [
    "## 1. Inspect and preprocess the dataset\n",
    "* Extract the training and testing images and labels separately from the train and test dictionaries loaded for you.\n",
    "* Select a random sample of images and corresponding labels from the dataset (at least 10), and display them in a figure.\n",
    "* Convert the training and test images to grayscale by taking the average across all colour channels for each pixel. _Hint: retain the channel dimension, which will now have size 1._\n",
    "* Select a random sample of the grayscale images and corresponding labels from the dataset (at least 10), and display them in a figure."
   ]
  },
  {
   "cell_type": "code",
   "execution_count": 4,
   "metadata": {},
   "outputs": [
    {
     "name": "stdout",
     "output_type": "stream",
     "text": [
      "X_train.shape:  (32, 32, 3, 73257)\n",
      "y_train.shape:  (73257, 1)\n",
      "\n",
      "\n",
      "X_test.shape:  (32, 32, 3, 26032)\n",
      "y_test.shape:  (26032, 1)\n"
     ]
    }
   ],
   "source": [
    "X_train, y_train = train['X'], train['y']\n",
    "print(\"X_train.shape: \", X_train.shape)\n",
    "print(\"y_train.shape: \", y_train.shape)\n",
    "print(\"\\n\")\n",
    "X_test, y_test = test['X'], test['y']\n",
    "print(\"X_test.shape: \", X_test.shape)\n",
    "print(\"y_test.shape: \", y_test.shape)"
   ]
  },
  {
   "cell_type": "code",
   "execution_count": 5,
   "metadata": {},
   "outputs": [
    {
     "name": "stdout",
     "output_type": "stream",
     "text": [
      "training example:  11759 \n",
      "\n",
      "[[[52 41 45]\n",
      "  [55 33 51]\n",
      "  [53 36 54]\n",
      "  ...\n",
      "  [50 30 47]\n",
      "  [46 34 38]\n",
      "  [46 36 39]]\n",
      "\n",
      " [[45 41 43]\n",
      "  [48 41 49]\n",
      "  [46 39 47]\n",
      "  ...\n",
      "  [38 32 41]\n",
      "  [34 36 38]\n",
      "  [34 36 48]]\n",
      "\n",
      " [[37 40 40]\n",
      "  [34 40 37]\n",
      "  [37 39 38]\n",
      "  ...\n",
      "  [27 35 34]\n",
      "  [25 36 35]\n",
      "  [28 36 50]]\n",
      "\n",
      " ...\n",
      "\n",
      " [[15 36 16]\n",
      "  [17 38 22]\n",
      "  [22 36 36]\n",
      "  ...\n",
      "  [24 26 31]\n",
      "  [28 25 37]\n",
      "  [27 23 35]]\n",
      "\n",
      " [[19 31 20]\n",
      "  [24 34 19]\n",
      "  [28 32 34]\n",
      "  ...\n",
      "  [27 27 34]\n",
      "  [28 20 36]\n",
      "  [31 21 38]]\n",
      "\n",
      " [[21 33 27]\n",
      "  [23 32 18]\n",
      "  [26 27 26]\n",
      "  ...\n",
      "  [26 25 29]\n",
      "  [27 26 31]\n",
      "  [27 27 37]]]\n",
      "label for example:  11759 \n",
      "\n",
      "[1]\n",
      "training example:  33844 \n",
      "\n",
      "[[[130 125 129]\n",
      "  [128 125 128]\n",
      "  [124 124 126]\n",
      "  ...\n",
      "  [227 227 235]\n",
      "  [224 227 231]\n",
      "  [222 226 229]]\n",
      "\n",
      " [[130 125 128]\n",
      "  [128 124 127]\n",
      "  [123 123 125]\n",
      "  ...\n",
      "  [221 221 231]\n",
      "  [223 224 231]\n",
      "  [224 226 231]]\n",
      "\n",
      " [[132 125 127]\n",
      "  [128 123 125]\n",
      "  [122 120 123]\n",
      "  ...\n",
      "  [208 207 219]\n",
      "  [217 217 226]\n",
      "  [223 223 231]]\n",
      "\n",
      " ...\n",
      "\n",
      " [[106  93 102]\n",
      "  [106  93 103]\n",
      "  [107  95 105]\n",
      "  ...\n",
      "  [116 104 134]\n",
      "  [130 123 145]\n",
      "  [140 137 153]]\n",
      "\n",
      " [[116 103 111]\n",
      "  [116 103 111]\n",
      "  [116 105 112]\n",
      "  ...\n",
      "  [165 154 182]\n",
      "  [169 163 184]\n",
      "  [172 170 186]]\n",
      "\n",
      " [[122 109 116]\n",
      "  [122 110 116]\n",
      "  [122 111 117]\n",
      "  ...\n",
      "  [199 190 217]\n",
      "  [196 191 211]\n",
      "  [195 192 208]]]\n",
      "label for example:  33844 \n",
      "\n",
      "[2]\n",
      "training example:  41392 \n",
      "\n",
      "[[[ 82  69 158]\n",
      "  [ 77  69 154]\n",
      "  [ 53  51 135]\n",
      "  ...\n",
      "  [129 131 139]\n",
      "  [132 130 140]\n",
      "  [137 132 140]]\n",
      "\n",
      " [[144 129 203]\n",
      "  [183 176 236]\n",
      "  [181 180 237]\n",
      "  ...\n",
      "  [156 159 167]\n",
      "  [163 162 173]\n",
      "  [157 154 162]]\n",
      "\n",
      " [[200 188 238]\n",
      "  [235 232 255]\n",
      "  [230 234 253]\n",
      "  ...\n",
      "  [186 189 192]\n",
      "  [195 194 200]\n",
      "  [193 191 196]]\n",
      "\n",
      " ...\n",
      "\n",
      " [[125 125 183]\n",
      "  [148 149 207]\n",
      "  [159 163 223]\n",
      "  ...\n",
      "  [191 191 190]\n",
      "  [195 195 193]\n",
      "  [194 193 191]]\n",
      "\n",
      " [[ 45  42 120]\n",
      "  [ 72  70 155]\n",
      "  [ 74  74 163]\n",
      "  ...\n",
      "  [185 188 184]\n",
      "  [193 194 191]\n",
      "  [195 194 192]]\n",
      "\n",
      " [[ 82  78 157]\n",
      "  [ 78  77 162]\n",
      "  [ 63  64 155]\n",
      "  ...\n",
      "  [190 194 187]\n",
      "  [192 192 189]\n",
      "  [194 193 191]]]\n",
      "label for example:  41392 \n",
      "\n",
      "[7]\n",
      "training example:  2855 \n",
      "\n",
      "[[[206 223 235]\n",
      "  [204 223 233]\n",
      "  [198 216 231]\n",
      "  ...\n",
      "  [203 203 214]\n",
      "  [179 171 186]\n",
      "  [137 123 141]]\n",
      "\n",
      " [[198 207 225]\n",
      "  [193 203 221]\n",
      "  [187 198 221]\n",
      "  ...\n",
      "  [202 206 216]\n",
      "  [180 173 189]\n",
      "  [139 124 141]]\n",
      "\n",
      " [[161 163 190]\n",
      "  [155 157 186]\n",
      "  [152 153 189]\n",
      "  ...\n",
      "  [203 207 217]\n",
      "  [180 176 191]\n",
      "  [141 130 147]]\n",
      "\n",
      " ...\n",
      "\n",
      " [[191 196 214]\n",
      "  [189 192 210]\n",
      "  [178 180 197]\n",
      "  ...\n",
      "  [207 214 217]\n",
      "  [197 199 204]\n",
      "  [157 157 164]]\n",
      "\n",
      " [[198 205 216]\n",
      "  [203 208 219]\n",
      "  [201 205 216]\n",
      "  ...\n",
      "  [204 213 214]\n",
      "  [191 196 199]\n",
      "  [153 155 159]]\n",
      "\n",
      " [[201 210 217]\n",
      "  [203 210 216]\n",
      "  [202 208 217]\n",
      "  ...\n",
      "  [202 210 211]\n",
      "  [188 193 196]\n",
      "  [150 153 158]]]\n",
      "label for example:  2855 \n",
      "\n",
      "[5]\n",
      "training example:  37809 \n",
      "\n",
      "[[[173 152 111]\n",
      "  [178 152 113]\n",
      "  [176 149 111]\n",
      "  ...\n",
      "  [171 152 116]\n",
      "  [174 150 116]\n",
      "  [172 148 114]]\n",
      "\n",
      " [[177 144 112]\n",
      "  [180 145 114]\n",
      "  [178 141 111]\n",
      "  ...\n",
      "  [174 149 114]\n",
      "  [176 146 112]\n",
      "  [175 143 110]]\n",
      "\n",
      " [[167 120 100]\n",
      "  [165 114  97]\n",
      "  [159 109  90]\n",
      "  ...\n",
      "  [177 142 113]\n",
      "  [177 137 110]\n",
      "  [177 134 108]]\n",
      "\n",
      " ...\n",
      "\n",
      " [[136  84  65]\n",
      "  [133  87  67]\n",
      "  [137 103  79]\n",
      "  ...\n",
      "  [126  52  42]\n",
      "  [126  42  39]\n",
      "  [124  36  39]]\n",
      "\n",
      " [[174 140 112]\n",
      "  [171 140 113]\n",
      "  [166 142 111]\n",
      "  ...\n",
      "  [134  66  54]\n",
      "  [126  54  45]\n",
      "  [124  54  43]]\n",
      "\n",
      " [[172 146 114]\n",
      "  [170 146 113]\n",
      "  [168 148 113]\n",
      "  ...\n",
      "  [156 101  83]\n",
      "  [147  93  73]\n",
      "  [141  90  68]]]\n",
      "label for example:  37809 \n",
      "\n",
      "[9]\n",
      "training example:  7839 \n",
      "\n",
      "[[[108 105 101]\n",
      "  [111 108 102]\n",
      "  [111 108  97]\n",
      "  ...\n",
      "  [121 112 107]\n",
      "  [122 113 108]\n",
      "  [119 110 105]]\n",
      "\n",
      " [[109 104 101]\n",
      "  [111 105 101]\n",
      "  [109 105  98]\n",
      "  ...\n",
      "  [119 111 106]\n",
      "  [120 112 107]\n",
      "  [117 109 105]]\n",
      "\n",
      " [[110 104 102]\n",
      "  [113 103 103]\n",
      "  [111 102  99]\n",
      "  ...\n",
      "  [119 112 106]\n",
      "  [120 113 108]\n",
      "  [116 110 107]]\n",
      "\n",
      " ...\n",
      "\n",
      " [[112 112 104]\n",
      "  [110 109 105]\n",
      "  [112 110 104]\n",
      "  ...\n",
      "  [107  97  94]\n",
      "  [ 98  90  87]\n",
      "  [ 85  81  79]]\n",
      "\n",
      " [[112 112 105]\n",
      "  [111 110 105]\n",
      "  [112 112 107]\n",
      "  ...\n",
      "  [112 102  96]\n",
      "  [106  99  92]\n",
      "  [ 95  90  85]]\n",
      "\n",
      " [[113 111 104]\n",
      "  [112 112 107]\n",
      "  [113 112 107]\n",
      "  ...\n",
      "  [116 106  98]\n",
      "  [111 103  94]\n",
      "  [102  98  88]]]\n",
      "label for example:  7839 \n",
      "\n",
      "[2]\n",
      "training example:  26615 \n",
      "\n",
      "[[[129 111 114]\n",
      "  [125 107 108]\n",
      "  [122 109 104]\n",
      "  ...\n",
      "  [ 34  18  62]\n",
      "  [ 39  31  68]\n",
      "  [ 61  65  80]]\n",
      "\n",
      " [[124 111 115]\n",
      "  [123 110 105]\n",
      "  [120 111  99]\n",
      "  ...\n",
      "  [ 44  26  65]\n",
      "  [ 48  32  68]\n",
      "  [ 68  58  76]]\n",
      "\n",
      " [[125 115 110]\n",
      "  [123 115 103]\n",
      "  [123 116 101]\n",
      "  ...\n",
      "  [ 66  65  75]\n",
      "  [ 66  61  75]\n",
      "  [ 78  72  78]]\n",
      "\n",
      " ...\n",
      "\n",
      " [[128 124 112]\n",
      "  [126 121 118]\n",
      "  [123 119 122]\n",
      "  ...\n",
      "  [ 58  74  84]\n",
      "  [ 35  58  72]\n",
      "  [ 32  47  70]]\n",
      "\n",
      " [[128 121 116]\n",
      "  [125 120 118]\n",
      "  [123 118 119]\n",
      "  ...\n",
      "  [ 31  45  60]\n",
      "  [ 17  42  55]\n",
      "  [ 27  43  65]]\n",
      "\n",
      " [[127 119 119]\n",
      "  [125 120 117]\n",
      "  [123 119 113]\n",
      "  ...\n",
      "  [ 32  40  59]\n",
      "  [ 34  45  57]\n",
      "  [ 43  45  64]]]\n",
      "label for example:  26615 \n",
      "\n",
      "[1]\n",
      "training example:  65119 \n",
      "\n",
      "[[[151 140 149]\n",
      "  [162 153 161]\n",
      "  [184 177 185]\n",
      "  ...\n",
      "  [142 155 164]\n",
      "  [162 177 184]\n",
      "  [172 187 194]]\n",
      "\n",
      " [[152 141 150]\n",
      "  [163 153 162]\n",
      "  [184 177 185]\n",
      "  ...\n",
      "  [141 154 164]\n",
      "  [160 173 182]\n",
      "  [169 183 191]]\n",
      "\n",
      " [[154 143 153]\n",
      "  [164 155 164]\n",
      "  [184 178 185]\n",
      "  ...\n",
      "  [142 152 162]\n",
      "  [155 168 176]\n",
      "  [163 176 184]]\n",
      "\n",
      " ...\n",
      "\n",
      " [[136 132 131]\n",
      "  [146 143 141]\n",
      "  [166 164 161]\n",
      "  ...\n",
      "  [178 182 189]\n",
      "  [188 194 199]\n",
      "  [193 200 204]]\n",
      "\n",
      " [[126 124 122]\n",
      "  [135 134 131]\n",
      "  [152 153 148]\n",
      "  ...\n",
      "  [183 183 191]\n",
      "  [190 193 199]\n",
      "  [194 198 203]]\n",
      "\n",
      " [[121 120 118]\n",
      "  [129 129 126]\n",
      "  [146 147 142]\n",
      "  ...\n",
      "  [185 184 192]\n",
      "  [191 193 198]\n",
      "  [194 197 202]]]\n",
      "label for example:  65119 \n",
      "\n",
      "[9]\n",
      "training example:  42863 \n",
      "\n",
      "[[[ 83  72  52]\n",
      "  [ 83  72  52]\n",
      "  [ 83  74  53]\n",
      "  ...\n",
      "  [ 98  96  94]\n",
      "  [ 98  96  94]\n",
      "  [ 98  96  94]]\n",
      "\n",
      " [[ 83  72  52]\n",
      "  [ 83  72  52]\n",
      "  [ 83  74  53]\n",
      "  ...\n",
      "  [ 99  98  96]\n",
      "  [ 99  98  96]\n",
      "  [ 99  98  96]]\n",
      "\n",
      " [[ 80  68  48]\n",
      "  [ 80  70  50]\n",
      "  [ 82  73  52]\n",
      "  ...\n",
      "  [102 103 103]\n",
      "  [102 102 103]\n",
      "  [102 102 103]]\n",
      "\n",
      " ...\n",
      "\n",
      " [[ 86  70  64]\n",
      "  [ 86  72  64]\n",
      "  [ 87  74  66]\n",
      "  ...\n",
      "  [114  97 105]\n",
      "  [115  98 105]\n",
      "  [115  98 105]]\n",
      "\n",
      " [[ 85  69  61]\n",
      "  [ 85  69  62]\n",
      "  [ 86  71  64]\n",
      "  ...\n",
      "  [109  90  95]\n",
      "  [111  91  96]\n",
      "  [111  91  96]]\n",
      "\n",
      " [[ 85  68  61]\n",
      "  [ 85  68  61]\n",
      "  [ 86  70  63]\n",
      "  ...\n",
      "  [107  87  92]\n",
      "  [109  88  93]\n",
      "  [109  88  93]]]\n",
      "label for example:  42863 \n",
      "\n",
      "[9]\n",
      "training example:  21582 \n",
      "\n",
      "[[[64 48 48]\n",
      "  [63 48 45]\n",
      "  [60 48 41]\n",
      "  ...\n",
      "  [91 97 97]\n",
      "  [89 94 94]\n",
      "  [88 92 93]]\n",
      "\n",
      " [[66 51 50]\n",
      "  [64 50 47]\n",
      "  [61 47 42]\n",
      "  ...\n",
      "  [71 80 80]\n",
      "  [72 80 80]\n",
      "  [73 80 80]]\n",
      "\n",
      " [[65 51 50]\n",
      "  [63 49 47]\n",
      "  [60 46 42]\n",
      "  ...\n",
      "  [50 61 62]\n",
      "  [54 65 65]\n",
      "  [58 67 66]]\n",
      "\n",
      " ...\n",
      "\n",
      " [[53 44 47]\n",
      "  [51 44 47]\n",
      "  [50 44 48]\n",
      "  ...\n",
      "  [76 79 94]\n",
      "  [75 76 89]\n",
      "  [74 74 86]]\n",
      "\n",
      " [[50 41 43]\n",
      "  [49 42 44]\n",
      "  [48 42 45]\n",
      "  ...\n",
      "  [61 62 77]\n",
      "  [61 61 74]\n",
      "  [61 61 73]]\n",
      "\n",
      " [[47 38 39]\n",
      "  [46 39 40]\n",
      "  [46 40 43]\n",
      "  ...\n",
      "  [52 52 64]\n",
      "  [52 52 63]\n",
      "  [51 51 63]]]\n",
      "label for example:  21582 \n",
      "\n",
      "[2]\n"
     ]
    }
   ],
   "source": [
    "#samples is an numpy array of 10 elements, each is randomly picked from the range (0, 73257)\n",
    "samples = np.random.randint(X_train.shape[3], size=10)\n",
    "for i in samples:\n",
    "    print(\"training example: \", i, \"\\n\")\n",
    "    print(X_train[:, :, :, i])\n",
    "    print(\"label for example: \", i, \"\\n\")\n",
    "    print(y_train[i, :])"
   ]
  },
  {
   "cell_type": "code",
   "execution_count": 6,
   "metadata": {},
   "outputs": [
    {
     "name": "stdout",
     "output_type": "stream",
     "text": [
      "(32, 32, 1, 73257)\n",
      "(32, 32, 1, 26032)\n",
      "\n",
      "\n",
      "(73257, 1, 32, 32)\n",
      "(26032, 1, 32, 32)\n"
     ]
    }
   ],
   "source": [
    "#converting each rgb training image into grayscale by taking mean accross the color channels(axis 2)\n",
    "X_train = np.mean(X_train, axis=2, keepdims=True) #keepdims=True will retain the channel dimension\n",
    "X_test = np.mean(X_test, axis=2, keepdims=True)\n",
    "\n",
    "print(X_train.shape)\n",
    "print(X_test.shape)\n",
    "\n",
    "#scale the images\n",
    "X_train = X_train / 255.\n",
    "X_test = X_test / 255.\n",
    "\n",
    "X_train = X_train.T\n",
    "X_test = X_test.T\n",
    "print(\"\\n\")\n",
    "print(X_train.shape)\n",
    "print(X_test.shape)"
   ]
  },
  {
   "cell_type": "code",
   "execution_count": 110,
   "metadata": {},
   "outputs": [
    {
     "name": "stdout",
     "output_type": "stream",
     "text": [
      "training example:  14943 \n",
      "\n",
      "[[[0.44444444 0.37647059 0.33856209 ... 0.32941176 0.32941176 0.34117647]\n",
      "  [0.42222222 0.38039216 0.34901961 ... 0.35555556 0.32418301 0.32287582]\n",
      "  [0.38823529 0.37908497 0.36078431 ... 0.38300654 0.36078431 0.33856209]\n",
      "  ...\n",
      "  [0.37124183 0.3254902  0.32418301 ... 0.36993464 0.38169935 0.38562092]\n",
      "  [0.37124183 0.31764706 0.32810458 ... 0.36993464 0.38300654 0.38954248]\n",
      "  [0.39346405 0.33202614 0.33856209 ... 0.36470588 0.39084967 0.4       ]]]\n",
      "label for example:  14943 \n",
      "\n",
      "[3]\n",
      "training example:  2531 \n",
      "\n",
      "[[[0.24444444 0.32287582 0.37254902 ... 0.45098039 0.49411765 0.5503268 ]\n",
      "  [0.22614379 0.29934641 0.35816993 ... 0.44705882 0.49673203 0.54640523]\n",
      "  [0.22091503 0.29542484 0.37385621 ... 0.45882353 0.49281046 0.54901961]\n",
      "  ...\n",
      "  [0.15686275 0.16732026 0.17385621 ... 0.37777778 0.36470588 0.3620915 ]\n",
      "  [0.15163399 0.16732026 0.1869281  ... 0.43137255 0.41568627 0.40784314]\n",
      "  [0.15686275 0.17647059 0.20784314 ... 0.49542484 0.4745098  0.45751634]]]\n",
      "label for example:  2531 \n",
      "\n",
      "[7]\n",
      "training example:  69346 \n",
      "\n",
      "[[[0.47973856 0.45228758 0.42875817 ... 0.36732026 0.40392157 0.43660131]\n",
      "  [0.48366013 0.45098039 0.42352941 ... 0.38431373 0.42614379 0.4496732 ]\n",
      "  [0.48627451 0.44705882 0.41830065 ... 0.41045752 0.45228758 0.45620915]\n",
      "  ...\n",
      "  [0.52418301 0.5254902  0.52810458 ... 0.47712418 0.49281046 0.50196078]\n",
      "  [0.49411765 0.49542484 0.49673203 ... 0.46797386 0.48104575 0.48627451]\n",
      "  [0.75555556 0.75816993 0.75816993 ... 0.7503268  0.75686275 0.75816993]]]\n",
      "label for example:  69346 \n",
      "\n",
      "[8]\n",
      "training example:  28956 \n",
      "\n",
      "[[[0.45098039 0.45098039 0.45098039 ... 0.45751634 0.45882353 0.46013072]\n",
      "  [0.45098039 0.45098039 0.45098039 ... 0.44836601 0.45098039 0.45098039]\n",
      "  [0.45098039 0.4496732  0.45359477 ... 0.45098039 0.45359477 0.45359477]\n",
      "  ...\n",
      "  [0.25751634 0.27581699 0.2627451  ... 0.36862745 0.31111111 0.26143791]\n",
      "  [0.25751634 0.27712418 0.26535948 ... 0.36732026 0.30457516 0.25620915]\n",
      "  [0.25620915 0.27581699 0.26405229 ... 0.35294118 0.30065359 0.26405229]]]\n",
      "label for example:  28956 \n",
      "\n",
      "[2]\n",
      "training example:  49797 \n",
      "\n",
      "[[[0.76862745 0.76601307 0.76078431 ... 0.59869281 0.59738562 0.6       ]\n",
      "  [0.76862745 0.76993464 0.76470588 ... 0.59607843 0.59738562 0.6       ]\n",
      "  [0.77254902 0.77385621 0.77254902 ... 0.59477124 0.60130719 0.60653595]\n",
      "  ...\n",
      "  [0.76078431 0.76601307 0.77777778 ... 0.78954248 0.75816993 0.73856209]\n",
      "  [0.7503268  0.75163399 0.75947712 ... 0.76601307 0.73986928 0.72810458]\n",
      "  [0.74117647 0.74117647 0.74640523 ... 0.74901961 0.73071895 0.72418301]]]\n",
      "label for example:  49797 \n",
      "\n",
      "[0]\n",
      "training example:  70301 \n",
      "\n",
      "[[[0.59607843 0.59869281 0.60522876 ... 0.62875817 0.62875817 0.63267974]\n",
      "  [0.61045752 0.60261438 0.60261438 ... 0.62875817 0.63267974 0.63660131]\n",
      "  [0.60653595 0.59477124 0.59215686 ... 0.61699346 0.62091503 0.62352941]\n",
      "  ...\n",
      "  [0.56339869 0.56862745 0.5620915  ... 0.40653595 0.44052288 0.46405229]\n",
      "  [0.54771242 0.5372549  0.5124183  ... 0.34379085 0.38039216 0.41699346]\n",
      "  [0.52941176 0.50326797 0.46143791 ... 0.29542484 0.33464052 0.37647059]]]\n",
      "label for example:  70301 \n",
      "\n",
      "[2]\n",
      "training example:  48373 \n",
      "\n",
      "[[[0.46405229 0.47320261 0.47320261 ... 0.42352941 0.42745098 0.43529412]\n",
      "  [0.40784314 0.40392157 0.43137255 ... 0.51503268 0.52810458 0.52810458]\n",
      "  [0.33071895 0.32418301 0.38431373 ... 0.50588235 0.5124183  0.51895425]\n",
      "  ...\n",
      "  [0.17385621 0.16993464 0.17124183 ... 0.17385621 0.16993464 0.16601307]\n",
      "  [0.18954248 0.18431373 0.18562092 ... 0.16993464 0.16732026 0.16470588]\n",
      "  [0.2        0.19607843 0.19477124 ... 0.17385621 0.16862745 0.16993464]]]\n",
      "label for example:  48373 \n",
      "\n",
      "[8]\n",
      "training example:  60215 \n",
      "\n",
      "[[[0.46535948 0.43006536 0.35555556 ... 0.5372549  0.58169935 0.60392157]\n",
      "  [0.46535948 0.43006536 0.35555556 ... 0.54117647 0.58562092 0.60784314]\n",
      "  [0.4627451  0.43006536 0.35555556 ... 0.55163399 0.59346405 0.61699346]\n",
      "  ...\n",
      "  [0.4627451  0.4627451  0.45882353 ... 0.56470588 0.59738562 0.61045752]\n",
      "  [0.4745098  0.47058824 0.46143791 ... 0.55424837 0.58823529 0.60392157]\n",
      "  [0.47712418 0.47320261 0.46143791 ... 0.54771242 0.58562092 0.60130719]]]\n",
      "label for example:  60215 \n",
      "\n",
      "[0]\n",
      "training example:  32241 \n",
      "\n",
      "[[[0.8        0.80392157 0.80392157 ... 0.57385621 0.63398693 0.68366013]\n",
      "  [0.8130719  0.81176471 0.80522876 ... 0.50849673 0.57777778 0.64052288]\n",
      "  [0.81699346 0.8130719  0.80261438 ... 0.43921569 0.50718954 0.57908497]\n",
      "  ...\n",
      "  [0.79346405 0.79738562 0.79738562 ... 0.81699346 0.8130719  0.82091503]\n",
      "  [0.80130719 0.80130719 0.80261438 ... 0.8130719  0.80522876 0.80915033]\n",
      "  [0.80522876 0.80392157 0.80653595 ... 0.80130719 0.79346405 0.79738562]]]\n",
      "label for example:  32241 \n",
      "\n",
      "[2]\n",
      "training example:  72659 \n",
      "\n",
      "[[[0.37124183 0.36993464 0.36470588 ... 0.34117647 0.34117647 0.34509804]\n",
      "  [0.36993464 0.36601307 0.36601307 ... 0.34248366 0.33856209 0.34248366]\n",
      "  [0.33986928 0.33071895 0.3372549  ... 0.36078431 0.34901961 0.34509804]\n",
      "  ...\n",
      "  [0.17254902 0.19607843 0.21045752 ... 0.13333333 0.12941176 0.11503268]\n",
      "  [0.16732026 0.18431373 0.19215686 ... 0.12026144 0.11764706 0.10196078]\n",
      "  [0.15294118 0.1751634  0.18562092 ... 0.10326797 0.10196078 0.09411765]]]\n",
      "label for example:  72659 \n",
      "\n",
      "[7]\n"
     ]
    }
   ],
   "source": [
    "#agin randomly select and display 10 images\n",
    "samples = np.random.randint(X_train.shape[0], size=10)\n",
    "for i in samples:\n",
    "    print(\"training example: \", i, \"\\n\")\n",
    "    print(X_train[i, :, :, :])\n",
    "    print(\"label for example: \", i, \"\\n\")\n",
    "    print(y_train[i, :])"
   ]
  },
  {
   "cell_type": "code",
   "execution_count": 8,
   "metadata": {},
   "outputs": [],
   "source": [
    "#in the dataset 0 is labeled with 10 but in the output layer will have 10 units and will output labels 0,...,9\n",
    "#below, the labels with value 10 are converted to label 0\n",
    "y_train[ y_train==10 ] = 0\n",
    "\n",
    "y_test[ y_test==10 ] = 0"
   ]
  },
  {
   "cell_type": "code",
   "execution_count": 9,
   "metadata": {},
   "outputs": [
    {
     "name": "stdout",
     "output_type": "stream",
     "text": [
      "(73257, 32, 32, 1)\n",
      "(26032, 32, 32, 1)\n"
     ]
    }
   ],
   "source": [
    "#transpose the train and test data so the channel dimension moves to the last axis\n",
    "#this will be used for training the CNN model since CNN when trained on CPU requires NHWC data format\n",
    "X_train1 = np.transpose(X_train, (0, 2, 3, 1))\n",
    "X_test1 = np.transpose(X_test, (0, 2, 3, 1))\n",
    "\n",
    "print(X_train1.shape)\n",
    "print(X_test1.shape)"
   ]
  },
  {
   "cell_type": "markdown",
   "metadata": {},
   "source": [
    "## 2. MLP neural network classifier\n",
    "* Build an MLP classifier model using the Sequential API. Your model should use only Flatten and Dense layers, with the final layer having a 10-way softmax output. \n",
    "* You should design and build the model yourself. Feel free to experiment with different MLP architectures. _Hint: to achieve a reasonable accuracy you won't need to use more than 4 or 5 layers._\n",
    "* Print out the model summary (using the summary() method)\n",
    "* Compile and train the model (we recommend a maximum of 30 epochs), making use of both training and validation sets during the training run. \n",
    "* Your model should track at least one appropriate metric, and use at least two callbacks during training, one of which should be a ModelCheckpoint callback.\n",
    "* As a guide, you should aim to achieve a final categorical cross entropy training loss of less than 1.0 (the validation loss might be higher).\n",
    "* Plot the learning curves for loss vs epoch and accuracy vs epoch for both training and validation sets.\n",
    "* Compute and display the loss and accuracy of the trained model on the test set."
   ]
  },
  {
   "cell_type": "code",
   "execution_count": 75,
   "metadata": {},
   "outputs": [],
   "source": [
    "#build the model\n",
    "def get_model_MLP():\n",
    "    model_MLP = tf.keras.models.Sequential(layers=[\n",
    "        tf.keras.layers.Flatten(input_shape=(1, 32, 32), data_format='channels_first'),\n",
    "        tf.keras.layers.Dense(116, activation='relu'),\n",
    "        tf.keras.layers.Dense(116, activation='relu'),\n",
    "        tf.keras.layers.Dense(116, activation='relu'),\n",
    "        tf.keras.layers.Dense(10, activation='softmax')\n",
    "    ])\n",
    "    return model_MLP\n",
    "\n",
    "model_MLP = get_model_MLP()"
   ]
  },
  {
   "cell_type": "code",
   "execution_count": 76,
   "metadata": {},
   "outputs": [
    {
     "name": "stdout",
     "output_type": "stream",
     "text": [
      "Model: \"sequential_10\"\n",
      "_________________________________________________________________\n",
      "Layer (type)                 Output Shape              Param #   \n",
      "=================================================================\n",
      "flatten_11 (Flatten)         (None, 1024)              0         \n",
      "_________________________________________________________________\n",
      "dense_34 (Dense)             (None, 116)               118900    \n",
      "_________________________________________________________________\n",
      "dense_35 (Dense)             (None, 116)               13572     \n",
      "_________________________________________________________________\n",
      "dense_36 (Dense)             (None, 116)               13572     \n",
      "_________________________________________________________________\n",
      "dense_37 (Dense)             (None, 10)                1170      \n",
      "=================================================================\n",
      "Total params: 147,214\n",
      "Trainable params: 147,214\n",
      "Non-trainable params: 0\n",
      "_________________________________________________________________\n"
     ]
    }
   ],
   "source": [
    "model_MLP.summary()"
   ]
  },
  {
   "cell_type": "code",
   "execution_count": 77,
   "metadata": {},
   "outputs": [],
   "source": [
    "#compile the model\n",
    "model_MLP.compile(optimizer=tf.keras.optimizers.Adam(learning_rate=0.003),\n",
    "                 loss='sparse_categorical_crossentropy',\n",
    "                 metrics=['acc'])"
   ]
  },
  {
   "cell_type": "code",
   "execution_count": 78,
   "metadata": {},
   "outputs": [],
   "source": [
    "#create best checkpoint object for the ModelCheckpoint callback\n",
    "checkpoint_path = 'checkpoints_best_only_MLP/checkpoint'\n",
    "checkpoint_best_only = tf.keras.callbacks.ModelCheckpoint(filepath=checkpoint_path,\n",
    "                                 monitor='val_acc',\n",
    "                                save_weights_only=True,\n",
    "                                save_best_only=True,\n",
    "                                save_freq='epoch')"
   ]
  },
  {
   "cell_type": "code",
   "execution_count": 79,
   "metadata": {},
   "outputs": [],
   "source": [
    "#create checkpoint object for the ModelCheckpoint callback\n",
    "checkpoint_path = 'checkpoints_every_epoch_MLP/checkpoint_{epoch:02d}'\n",
    "checkpoint_every_epoch = tf.keras.callbacks.ModelCheckpoint(filepath=checkpoint_path,\n",
    "                                save_weights_only=True,\n",
    "                                save_freq='epoch')"
   ]
  },
  {
   "cell_type": "code",
   "execution_count": 80,
   "metadata": {},
   "outputs": [],
   "source": [
    "#fit the model and store the history object in the history variable\n",
    "history = model_MLP.fit(X_train, y_train, epochs=30, \n",
    "                        batch_size=1000, \n",
    "                        validation_split=0.10, \n",
    "                        callbacks=[checkpoint_best_only, checkpoint_every_epoch],\n",
    "                        verbose=False)"
   ]
  },
  {
   "cell_type": "code",
   "execution_count": 81,
   "metadata": {},
   "outputs": [
    {
     "data": {
      "text/html": [
       "<div>\n",
       "<style scoped>\n",
       "    .dataframe tbody tr th:only-of-type {\n",
       "        vertical-align: middle;\n",
       "    }\n",
       "\n",
       "    .dataframe tbody tr th {\n",
       "        vertical-align: top;\n",
       "    }\n",
       "\n",
       "    .dataframe thead th {\n",
       "        text-align: right;\n",
       "    }\n",
       "</style>\n",
       "<table border=\"1\" class=\"dataframe\">\n",
       "  <thead>\n",
       "    <tr style=\"text-align: right;\">\n",
       "      <th></th>\n",
       "      <th>loss</th>\n",
       "      <th>acc</th>\n",
       "      <th>val_loss</th>\n",
       "      <th>val_acc</th>\n",
       "    </tr>\n",
       "  </thead>\n",
       "  <tbody>\n",
       "    <tr>\n",
       "      <th>25</th>\n",
       "      <td>0.714763</td>\n",
       "      <td>0.777358</td>\n",
       "      <td>0.720600</td>\n",
       "      <td>0.777368</td>\n",
       "    </tr>\n",
       "    <tr>\n",
       "      <th>26</th>\n",
       "      <td>0.692473</td>\n",
       "      <td>0.785276</td>\n",
       "      <td>0.732732</td>\n",
       "      <td>0.773546</td>\n",
       "    </tr>\n",
       "    <tr>\n",
       "      <th>27</th>\n",
       "      <td>0.701155</td>\n",
       "      <td>0.782985</td>\n",
       "      <td>0.713350</td>\n",
       "      <td>0.778324</td>\n",
       "    </tr>\n",
       "    <tr>\n",
       "      <th>28</th>\n",
       "      <td>0.686037</td>\n",
       "      <td>0.786762</td>\n",
       "      <td>0.715952</td>\n",
       "      <td>0.777641</td>\n",
       "    </tr>\n",
       "    <tr>\n",
       "      <th>29</th>\n",
       "      <td>0.681699</td>\n",
       "      <td>0.789067</td>\n",
       "      <td>0.709265</td>\n",
       "      <td>0.778597</td>\n",
       "    </tr>\n",
       "  </tbody>\n",
       "</table>\n",
       "</div>"
      ],
      "text/plain": [
       "        loss       acc  val_loss   val_acc\n",
       "25  0.714763  0.777358  0.720600  0.777368\n",
       "26  0.692473  0.785276  0.732732  0.773546\n",
       "27  0.701155  0.782985  0.713350  0.778324\n",
       "28  0.686037  0.786762  0.715952  0.777641\n",
       "29  0.681699  0.789067  0.709265  0.778597"
      ]
     },
     "execution_count": 81,
     "metadata": {},
     "output_type": "execute_result"
    }
   ],
   "source": [
    "#display the train and val metrics during the last five epochs\n",
    "df = pd.DataFrame(history.history)\n",
    "df.tail()"
   ]
  },
  {
   "cell_type": "code",
   "execution_count": 82,
   "metadata": {},
   "outputs": [
    {
     "data": {
      "image/png": "[encoded data removed]",
      "text/plain": [
       "<Figure size 432x288 with 1 Axes>"
      ]
     },
     "metadata": {
      "needs_background": "light"
     },
     "output_type": "display_data"
    }
   ],
   "source": [
    "#accuracy vs. epochs\n",
    "plt.plot(history.history['acc'])\n",
    "plt.plot(history.history['val_acc'])\n",
    "plt.title('Accuracy vs. epochs')\n",
    "plt.ylabel('accuracy')\n",
    "plt.xlabel('Epoch')\n",
    "plt.legend(['Training', 'Validation'], loc='lower right')\n",
    "plt.show() "
   ]
  },
  {
   "cell_type": "code",
   "execution_count": 83,
   "metadata": {},
   "outputs": [
    {
     "data": {
      "image/png": "[encoded data removed]",
      "text/plain": [
       "<Figure size 432x288 with 1 Axes>"
      ]
     },
     "metadata": {
      "needs_background": "light"
     },
     "output_type": "display_data"
    }
   ],
   "source": [
    "#loss vs. epochs\n",
    "plt.plot(history.history['loss'])\n",
    "plt.plot(history.history['val_loss'])\n",
    "plt.title('Loss vs. epochs')\n",
    "plt.ylabel('Loss')\n",
    "plt.xlabel('Epoch')\n",
    "plt.legend(['Training', 'Validation'], loc='upper right')\n",
    "plt.show() "
   ]
  },
  {
   "cell_type": "code",
   "execution_count": 84,
   "metadata": {},
   "outputs": [
    {
     "name": "stdout",
     "output_type": "stream",
     "text": [
      "26032/26032 - 1s - loss: 0.8319 - acc: 0.7534\n"
     ]
    },
    {
     "data": {
      "text/plain": [
       "[0.8319379250806903, 0.7533805]"
      ]
     },
     "execution_count": 84,
     "metadata": {},
     "output_type": "execute_result"
    }
   ],
   "source": [
    "#evaluate the model's performance on the test data\n",
    "model_MLP.evaluate(X_test, y_test, verbose=2)"
   ]
  },
  {
   "cell_type": "markdown",
   "metadata": {},
   "source": [
    "## 3. CNN neural network classifier\n",
    "* Build a CNN classifier model using the Sequential API. Your model should use the Conv2D, MaxPool2D, BatchNormalization, Flatten, Dense and Dropout layers. The final layer should again have a 10-way softmax output. \n",
    "* You should design and build the model yourself. Feel free to experiment with different CNN architectures. _Hint: to achieve a reasonable accuracy you won't need to use more than 2 or 3 convolutional layers and 2 fully connected layers.)_\n",
    "* The CNN model should use fewer trainable parameters than your MLP model.\n",
    "* Compile and train the model (we recommend a maximum of 30 epochs), making use of both training and validation sets during the training run.\n",
    "* Your model should track at least one appropriate metric, and use at least two callbacks during training, one of which should be a ModelCheckpoint callback.\n",
    "* You should aim to beat the MLP model performance with fewer parameters!\n",
    "* Plot the learning curves for loss vs epoch and accuracy vs epoch for both training and validation sets.\n",
    "* Compute and display the loss and accuracy of the trained model on the test set."
   ]
  },
  {
   "cell_type": "code",
   "execution_count": 87,
   "metadata": {},
   "outputs": [],
   "source": [
    "#build the model\n",
    "def get_model_CNN():\n",
    "    model_CNN = tf.keras.models.Sequential(layers=[\n",
    "        tf.keras.layers.Conv2D(16, kernel_size=(3, 3), activation='relu', padding='same', input_shape=(32, 32, 1)),\n",
    "        tf.keras.layers.BatchNormalization(),\n",
    "        tf.keras.layers.Conv2D(16, kernel_size=(3, 3), activation='relu', padding='same'),\n",
    "        tf.keras.layers.BatchNormalization(),\n",
    "        tf.keras.layers.MaxPooling2D(pool_size=(4, 4)),\n",
    "        tf.keras.layers.Conv2D(16, kernel_size=(3, 3), activation='relu', padding='same'),\n",
    "        tf.keras.layers.BatchNormalization(),\n",
    "        tf.keras.layers.MaxPooling2D(pool_size=(4, 4)),\n",
    "        tf.keras.layers.Flatten(),\n",
    "        tf.keras.layers.Dense(36, activation='relu'),\n",
    "        tf.keras.layers.BatchNormalization(),\n",
    "        tf.keras.layers.Dropout(0.2),\n",
    "        tf.keras.layers.Dense(18, activation='relu'),\n",
    "        tf.keras.layers.Dense(10, activation='softmax')\n",
    "    ])\n",
    "    return model_CNN\n",
    "\n",
    "model_CNN = get_model_CNN()"
   ]
  },
  {
   "cell_type": "code",
   "execution_count": 88,
   "metadata": {},
   "outputs": [
    {
     "name": "stdout",
     "output_type": "stream",
     "text": [
      "Model: \"sequential_11\"\n",
      "_________________________________________________________________\n",
      "Layer (type)                 Output Shape              Param #   \n",
      "=================================================================\n",
      "conv2d_22 (Conv2D)           (None, 32, 32, 16)        160       \n",
      "_________________________________________________________________\n",
      "batch_normalization_17 (Batc (None, 32, 32, 16)        64        \n",
      "_________________________________________________________________\n",
      "conv2d_23 (Conv2D)           (None, 32, 32, 16)        2320      \n",
      "_________________________________________________________________\n",
      "batch_normalization_18 (Batc (None, 32, 32, 16)        64        \n",
      "_________________________________________________________________\n",
      "max_pooling2d_14 (MaxPooling (None, 8, 8, 16)          0         \n",
      "_________________________________________________________________\n",
      "conv2d_24 (Conv2D)           (None, 8, 8, 16)          2320      \n",
      "_________________________________________________________________\n",
      "batch_normalization_19 (Batc (None, 8, 8, 16)          64        \n",
      "_________________________________________________________________\n",
      "max_pooling2d_15 (MaxPooling (None, 2, 2, 16)          0         \n",
      "_________________________________________________________________\n",
      "flatten_12 (Flatten)         (None, 64)                0         \n",
      "_________________________________________________________________\n",
      "dense_38 (Dense)             (None, 36)                2340      \n",
      "_________________________________________________________________\n",
      "batch_normalization_20 (Batc (None, 36)                144       \n",
      "_________________________________________________________________\n",
      "dropout_7 (Dropout)          (None, 36)                0         \n",
      "_________________________________________________________________\n",
      "dense_39 (Dense)             (None, 18)                666       \n",
      "_________________________________________________________________\n",
      "dense_40 (Dense)             (None, 10)                190       \n",
      "=================================================================\n",
      "Total params: 8,332\n",
      "Trainable params: 8,164\n",
      "Non-trainable params: 168\n",
      "_________________________________________________________________\n"
     ]
    }
   ],
   "source": [
    "model_CNN.summary()"
   ]
  },
  {
   "cell_type": "code",
   "execution_count": 89,
   "metadata": {},
   "outputs": [],
   "source": [
    "#compile the model\n",
    "model_CNN.compile(optimizer=tf.keras.optimizers.Adam(learning_rate=0.003),\n",
    "                 loss='sparse_categorical_crossentropy',\n",
    "                 metrics=['acc'])"
   ]
  },
  {
   "cell_type": "code",
   "execution_count": 90,
   "metadata": {},
   "outputs": [],
   "source": [
    "#create checkpoint object for the ModelCheckpoint ocallback\n",
    "checkpoint_path = 'checkpoints_every_epoch_CNN/checkpoint_{epoch:02d}'\n",
    "checkpoint_every_epoch = tf.keras.callbacks.ModelCheckpoint(filepath=checkpoint_path,\n",
    "                                save_weights_only=True,\n",
    "                                save_freq='epoch')"
   ]
  },
  {
   "cell_type": "code",
   "execution_count": 91,
   "metadata": {},
   "outputs": [],
   "source": [
    "#create best checkpoint object for the ModelCheckpoint callback\n",
    "checkpoint_path = 'checkpoints_best_only_CNN/checkpoint'\n",
    "checkpoint_best_only = tf.keras.callbacks.ModelCheckpoint(filepath=checkpoint_path,\n",
    "                                 monitor='val_acc',\n",
    "                                save_weights_only=True,\n",
    "                                save_best_only=True,\n",
    "                                save_freq='epoch')"
   ]
  },
  {
   "cell_type": "code",
   "execution_count": 92,
   "metadata": {},
   "outputs": [],
   "source": [
    "#train the model on training data\n",
    "history = model_CNN.fit(X_train1, y_train, epochs=30,\n",
    "                        batch_size=1000, \n",
    "                        validation_split=0.10, \n",
    "                        callbacks=[checkpoint_best_only, checkpoint_every_epoch],\n",
    "                        verbose=False)"
   ]
  },
  {
   "cell_type": "code",
   "execution_count": 93,
   "metadata": {},
   "outputs": [
    {
     "name": "stdout",
     "output_type": "stream",
     "text": [
      "best_weight_epoch_CNN:  27 \n",
      "\n"
     ]
    },
    {
     "data": {
      "text/html": [
       "<div>\n",
       "<style scoped>\n",
       "    .dataframe tbody tr th:only-of-type {\n",
       "        vertical-align: middle;\n",
       "    }\n",
       "\n",
       "    .dataframe tbody tr th {\n",
       "        vertical-align: top;\n",
       "    }\n",
       "\n",
       "    .dataframe thead th {\n",
       "        text-align: right;\n",
       "    }\n",
       "</style>\n",
       "<table border=\"1\" class=\"dataframe\">\n",
       "  <thead>\n",
       "    <tr style=\"text-align: right;\">\n",
       "      <th></th>\n",
       "      <th>loss</th>\n",
       "      <th>acc</th>\n",
       "      <th>val_loss</th>\n",
       "      <th>val_acc</th>\n",
       "    </tr>\n",
       "  </thead>\n",
       "  <tbody>\n",
       "    <tr>\n",
       "      <th>25</th>\n",
       "      <td>0.382139</td>\n",
       "      <td>0.884061</td>\n",
       "      <td>0.495787</td>\n",
       "      <td>0.846983</td>\n",
       "    </tr>\n",
       "    <tr>\n",
       "      <th>26</th>\n",
       "      <td>0.374288</td>\n",
       "      <td>0.885850</td>\n",
       "      <td>0.426847</td>\n",
       "      <td>0.869369</td>\n",
       "    </tr>\n",
       "    <tr>\n",
       "      <th>27</th>\n",
       "      <td>0.373031</td>\n",
       "      <td>0.886336</td>\n",
       "      <td>0.434128</td>\n",
       "      <td>0.871963</td>\n",
       "    </tr>\n",
       "    <tr>\n",
       "      <th>28</th>\n",
       "      <td>0.374598</td>\n",
       "      <td>0.885365</td>\n",
       "      <td>0.389539</td>\n",
       "      <td>0.885340</td>\n",
       "    </tr>\n",
       "    <tr>\n",
       "      <th>29</th>\n",
       "      <td>0.368776</td>\n",
       "      <td>0.888141</td>\n",
       "      <td>0.389441</td>\n",
       "      <td>0.881381</td>\n",
       "    </tr>\n",
       "  </tbody>\n",
       "</table>\n",
       "</div>"
      ],
      "text/plain": [
       "        loss       acc  val_loss   val_acc\n",
       "25  0.382139  0.884061  0.495787  0.846983\n",
       "26  0.374288  0.885850  0.426847  0.869369\n",
       "27  0.373031  0.886336  0.434128  0.871963\n",
       "28  0.374598  0.885365  0.389539  0.885340\n",
       "29  0.368776  0.888141  0.389441  0.881381"
      ]
     },
     "execution_count": 93,
     "metadata": {},
     "output_type": "execute_result"
    }
   ],
   "source": [
    "#display the train and val metrics during the last five epochs\n",
    "df = pd.DataFrame(history.history)\n",
    "\n",
    "#find the epoch at which the val_acc metric was maximum\n",
    "best_weight_epoch_CNN = df['val_acc'].idxmax()\n",
    "print(\"best_weight_epoch_CNN: \", best_weight_epoch, \"\\n\")\n",
    "df.tail()"
   ]
  },
  {
   "cell_type": "code",
   "execution_count": 94,
   "metadata": {},
   "outputs": [
    {
     "data": {
      "image/png": "[encoded data removed]",
      "text/plain": [
       "<Figure size 432x288 with 1 Axes>"
      ]
     },
     "metadata": {
      "needs_background": "light"
     },
     "output_type": "display_data"
    }
   ],
   "source": [
    "#accuracy vs. epochs\n",
    "plt.plot(history.history['acc'])\n",
    "plt.plot(history.history['val_acc'])\n",
    "plt.title('Accuracy vs. epochs')\n",
    "plt.ylabel('accuracy')\n",
    "plt.xlabel('Epoch')\n",
    "plt.legend(['Training', 'Validation'], loc='lower right')\n",
    "plt.show() "
   ]
  },
  {
   "cell_type": "code",
   "execution_count": 95,
   "metadata": {},
   "outputs": [
    {
     "data": {
      "image/png": "[encoded data removed]",
      "text/plain": [
       "<Figure size 432x288 with 1 Axes>"
      ]
     },
     "metadata": {
      "needs_background": "light"
     },
     "output_type": "display_data"
    }
   ],
   "source": [
    "#loss vs. epochs\n",
    "plt.plot(history.history['loss'])\n",
    "plt.plot(history.history['val_loss'])\n",
    "plt.title('Loss vs. epochs')\n",
    "plt.ylabel('Loss')\n",
    "plt.xlabel('Epoch')\n",
    "plt.legend(['Training', 'Validation'], loc='upper right')\n",
    "plt.show() "
   ]
  },
  {
   "cell_type": "code",
   "execution_count": 96,
   "metadata": {},
   "outputs": [
    {
     "name": "stdout",
     "output_type": "stream",
     "text": [
      "26032/26032 - 5s - loss: 0.4152 - acc: 0.8777\n"
     ]
    },
    {
     "data": {
      "text/plain": [
       "[0.41519594871162563, 0.87765056]"
      ]
     },
     "execution_count": 96,
     "metadata": {},
     "output_type": "execute_result"
    }
   ],
   "source": [
    "#evaluate the model's performance on the test data\n",
    "model_CNN.evaluate(X_test1, y_test, verbose=2)"
   ]
  },
  {
   "cell_type": "markdown",
   "metadata": {},
   "source": [
    "## 4. Get model predictions\n",
    "* Load the best weights for the MLP and CNN models that you saved during the training run.\n",
    "* Randomly select 5 images and corresponding labels from the test set and display the images with their labels.\n",
    "* Alongside the image and label, show each model’s predictive distribution as a bar chart, and the final model prediction given by the label with maximum probability."
   ]
  },
  {
   "cell_type": "code",
   "execution_count": 136,
   "metadata": {},
   "outputs": [
    {
     "data": {
      "text/plain": [
       "<tensorflow.python.training.tracking.util.CheckpointLoadStatus at 0x7f92fde25978>"
      ]
     },
     "execution_count": 136,
     "metadata": {},
     "output_type": "execute_result"
    }
   ],
   "source": [
    "#get new MLP model\n",
    "new_model_MLP = get_model_MLP()\n",
    "\n",
    "#load best weights\n",
    "new_model_MLP.load_weights('checkpoints_best_only_MLP/checkpoint')"
   ]
  },
  {
   "cell_type": "code",
   "execution_count": 137,
   "metadata": {},
   "outputs": [
    {
     "name": "stdout",
     "output_type": "stream",
     "text": [
      "(73257, 1, 32, 32)\n",
      "(26032, 1, 32, 32)\n",
      "\n",
      "\n",
      "[17032 25991 18938 23815 24512]\n"
     ]
    }
   ],
   "source": [
    "print(X_train.shape)\n",
    "print(X_test.shape)\n",
    "print(\"\\n\")\n",
    "\n",
    "#select 5 images from X_test at random\n",
    "samples = np.random.randint(X_test.shape[0], size=5)\n",
    "print(samples)"
   ]
  },
  {
   "cell_type": "code",
   "execution_count": 138,
   "metadata": {},
   "outputs": [
    {
     "name": "stdout",
     "output_type": "stream",
     "text": [
      "(32, 32, 3, 73257)\n",
      "(32, 32, 3, 26032)\n"
     ]
    }
   ],
   "source": [
    "#load the unmodified train and test images from before processing\n",
    "X_train_unmodified = train['X']\n",
    "X_test_unmodified = test['X']\n",
    "\n",
    "print(X_train_unmodified.shape)\n",
    "print(X_test_unmodified.shape)"
   ]
  },
  {
   "cell_type": "code",
   "execution_count": 179,
   "metadata": {},
   "outputs": [],
   "source": [
    "#define function for displaying the prediction for a given image\n",
    "def get_prediction_MLP(img):\n",
    "    x = img[np.newaxis, ...]\n",
    "    print(\"prediction: \", np.argmax(new_model_MLP.predict(x)))\n",
    "    labels = [0, 1, 2, 3, 4, 5, 6, 7, 8, 9]\n",
    "    predictions = new_model_MLP.predict(x)\n",
    "    plt.bar(labels, predictions[0, :], color ='maroon', width = 0.4) \n",
    "    plt.show()"
   ]
  },
  {
   "cell_type": "code",
   "execution_count": 180,
   "metadata": {},
   "outputs": [
    {
     "data": {
      "image/png": "[encoded data removed]",
      "text/plain": [
       "<Figure size 432x288 with 1 Axes>"
      ]
     },
     "metadata": {
      "needs_background": "light"
     },
     "output_type": "display_data"
    },
    {
     "name": "stdout",
     "output_type": "stream",
     "text": [
      "Ground Truth Label:  [4]\n",
      "prediction:  4\n"
     ]
    },
    {
     "data": {
      "image/png": "[encoded data removed]",
      "text/plain": [
       "<Figure size 432x288 with 1 Axes>"
      ]
     },
     "metadata": {
      "needs_background": "light"
     },
     "output_type": "display_data"
    },
    {
     "data": {
      "image/png": "[encoded data removed]",
      "text/plain": [
       "<Figure size 432x288 with 1 Axes>"
      ]
     },
     "metadata": {
      "needs_background": "light"
     },
     "output_type": "display_data"
    },
    {
     "name": "stdout",
     "output_type": "stream",
     "text": [
      "Ground Truth Label:  [2]\n",
      "prediction:  2\n"
     ]
    },
    {
     "data": {
      "image/png": "[encoded data removed]",
      "text/plain": [
       "<Figure size 432x288 with 1 Axes>"
      ]
     },
     "metadata": {
      "needs_background": "light"
     },
     "output_type": "display_data"
    },
    {
     "data": {
      "image/png": "[encoded data removed]",
      "text/plain": [
       "<Figure size 432x288 with 1 Axes>"
      ]
     },
     "metadata": {
      "needs_background": "light"
     },
     "output_type": "display_data"
    },
    {
     "name": "stdout",
     "output_type": "stream",
     "text": [
      "Ground Truth Label:  [1]\n",
      "prediction:  1\n"
     ]
    },
    {
     "data": {
      "image/png": "[encoded data removed]",
      "text/plain": [
       "<Figure size 432x288 with 1 Axes>"
      ]
     },
     "metadata": {
      "needs_background": "light"
     },
     "output_type": "display_data"
    },
    {
     "data": {
      "image/png": "[encoded data removed]",
      "text/plain": [
       "<Figure size 432x288 with 1 Axes>"
      ]
     },
     "metadata": {
      "needs_background": "light"
     },
     "output_type": "display_data"
    },
    {
     "name": "stdout",
     "output_type": "stream",
     "text": [
      "Ground Truth Label:  [9]\n",
      "prediction:  4\n"
     ]
    },
    {
     "data": {
      "image/png": "[encoded data removed]",
      "text/plain": [
       "<Figure size 432x288 with 1 Axes>"
      ]
     },
     "metadata": {
      "needs_background": "light"
     },
     "output_type": "display_data"
    },
    {
     "data": {
      "image/png": "[encoded data removed]",
      "text/plain": [
       "<Figure size 432x288 with 1 Axes>"
      ]
     },
     "metadata": {
      "needs_background": "light"
     },
     "output_type": "display_data"
    },
    {
     "name": "stdout",
     "output_type": "stream",
     "text": [
      "Ground Truth Label:  [2]\n",
      "prediction:  2\n"
     ]
    },
    {
     "data": {
      "image/png": "[encoded data removed]",
      "text/plain": [
       "<Figure size 432x288 with 1 Axes>"
      ]
     },
     "metadata": {
      "needs_background": "light"
     },
     "output_type": "display_data"
    }
   ],
   "source": [
    "#X_test_unmodified is used for displaying the images\n",
    "#X_test is used for getting predictions\n",
    "for i in samples:\n",
    "    plt.imshow(X_test_unmodified[:, :, :, i])\n",
    "    plt.show() #display the image\n",
    "    print(\"Ground Truth Label: \", y_test[i]) #display the ground truth\n",
    "    get_prediction_MLP(X_test[i, :, :, :]) #display the predicted label"
   ]
  },
  {
   "cell_type": "code",
   "execution_count": 141,
   "metadata": {},
   "outputs": [
    {
     "data": {
      "text/plain": [
       "<tensorflow.python.training.tracking.util.CheckpointLoadStatus at 0x7f92fe4ecc50>"
      ]
     },
     "execution_count": 141,
     "metadata": {},
     "output_type": "execute_result"
    }
   ],
   "source": [
    "#get new CNN model\n",
    "new_model_CNN = get_model_CNN()\n",
    "\n",
    "#load best weights\n",
    "new_model_CNN.load_weights('checkpoints_best_only_CNN/checkpoint')"
   ]
  },
  {
   "cell_type": "code",
   "execution_count": 143,
   "metadata": {},
   "outputs": [
    {
     "name": "stdout",
     "output_type": "stream",
     "text": [
      "[24790 11618 11966  1853    20]\n"
     ]
    }
   ],
   "source": [
    "#select 5 images from X_test1 at random\n",
    "samples = np.random.randint(X_test1.shape[0], size=5)\n",
    "print(samples)"
   ]
  },
  {
   "cell_type": "code",
   "execution_count": 181,
   "metadata": {},
   "outputs": [],
   "source": [
    "#define function for displaying the prediction for a given image\n",
    "def get_prediction_CNN(img):\n",
    "    x = img[np.newaxis, ...]\n",
    "    print(\"prediction: \", np.argmax(new_model_CNN.predict(x)))\n",
    "    labels = [0, 1, 2, 3, 4, 5, 6, 7, 8, 9]\n",
    "    predictions = new_model_CNN.predict(x)\n",
    "    plt.bar(labels, predictions[0, :], color ='pink', width = 0.4) \n",
    "    plt.show()"
   ]
  },
  {
   "cell_type": "code",
   "execution_count": 182,
   "metadata": {},
   "outputs": [
    {
     "data": {
      "image/png": "[encoded data removed]",
      "text/plain": [
       "<Figure size 432x288 with 1 Axes>"
      ]
     },
     "metadata": {
      "needs_background": "light"
     },
     "output_type": "display_data"
    },
    {
     "name": "stdout",
     "output_type": "stream",
     "text": [
      "Ground Truth Label:  [4]\n",
      "(32, 32, 1)\n",
      "prediction:  4\n"
     ]
    },
    {
     "data": {
      "image/png": "[encoded data removed]",
      "text/plain": [
       "<Figure size 432x288 with 1 Axes>"
      ]
     },
     "metadata": {
      "needs_background": "light"
     },
     "output_type": "display_data"
    },
    {
     "data": {
      "image/png": "[encoded data removed]",
      "text/plain": [
       "<Figure size 432x288 with 1 Axes>"
      ]
     },
     "metadata": {
      "needs_background": "light"
     },
     "output_type": "display_data"
    },
    {
     "name": "stdout",
     "output_type": "stream",
     "text": [
      "Ground Truth Label:  [2]\n",
      "(32, 32, 1)\n",
      "prediction:  2\n"
     ]
    },
    {
     "data": {
      "image/png": "[encoded data removed]",
      "text/plain": [
       "<Figure size 432x288 with 1 Axes>"
      ]
     },
     "metadata": {
      "needs_background": "light"
     },
     "output_type": "display_data"
    },
    {
     "data": {
      "image/png": "[encoded data removed]",
      "text/plain": [
       "<Figure size 432x288 with 1 Axes>"
      ]
     },
     "metadata": {
      "needs_background": "light"
     },
     "output_type": "display_data"
    },
    {
     "name": "stdout",
     "output_type": "stream",
     "text": [
      "Ground Truth Label:  [1]\n",
      "(32, 32, 1)\n",
      "prediction:  1\n"
     ]
    },
    {
     "data": {
      "image/png": "[encoded data removed]",
      "text/plain": [
       "<Figure size 432x288 with 1 Axes>"
      ]
     },
     "metadata": {
      "needs_background": "light"
     },
     "output_type": "display_data"
    },
    {
     "data": {
      "image/png": "[encoded data removed]",
      "text/plain": [
       "<Figure size 432x288 with 1 Axes>"
      ]
     },
     "metadata": {
      "needs_background": "light"
     },
     "output_type": "display_data"
    },
    {
     "name": "stdout",
     "output_type": "stream",
     "text": [
      "Ground Truth Label:  [9]\n",
      "(32, 32, 1)\n",
      "prediction:  9\n"
     ]
    },
    {
     "data": {
      "image/png": "[encoded data removed]",
      "text/plain": [
       "<Figure size 432x288 with 1 Axes>"
      ]
     },
     "metadata": {
      "needs_background": "light"
     },
     "output_type": "display_data"
    },
    {
     "data": {
      "image/png": "[encoded data removed]",
      "text/plain": [
       "<Figure size 432x288 with 1 Axes>"
      ]
     },
     "metadata": {
      "needs_background": "light"
     },
     "output_type": "display_data"
    },
    {
     "name": "stdout",
     "output_type": "stream",
     "text": [
      "Ground Truth Label:  [2]\n",
      "(32, 32, 1)\n",
      "prediction:  2\n"
     ]
    },
    {
     "data": {
      "image/png": "[encoded data removed]",
      "text/plain": [
       "<Figure size 432x288 with 1 Axes>"
      ]
     },
     "metadata": {
      "needs_background": "light"
     },
     "output_type": "display_data"
    }
   ],
   "source": [
    "#X_test_unmodified is used for displaying the images\n",
    "#X_test1 is used for getting predictions\n",
    "for i in samples:\n",
    "    plt.imshow(X_test_unmodified[:, :, :, i])\n",
    "    plt.show() #display the image\n",
    "    print(\"Ground Truth Label: \", y_test[i]) #display the ground truth\n",
    "    print(X_test1[i, :, :, :].shape)\n",
    "    get_prediction_CNN(X_test1[i, :, :, :]) #display the predicted label"
   ]
  }
 ],
 "metadata": {
  "kernelspec": {
   "display_name": "Python 3",
   "language": "python",
   "name": "python3"
  },
  "language_info": {
   "codemirror_mode": {
    "name": "ipython",
    "version": 3
   },
   "file_extension": ".py",
   "mimetype": "text/x-python",
   "name": "python",
   "nbconvert_exporter": "python",
   "pygments_lexer": "ipython3",
   "version": "3.6.9"
  }
 },
 "nbformat": 4,
 "nbformat_minor": 2
}
