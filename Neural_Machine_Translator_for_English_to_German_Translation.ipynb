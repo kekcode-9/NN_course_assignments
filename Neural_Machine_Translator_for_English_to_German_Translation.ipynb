{
  "nbformat": 4,
  "nbformat_minor": 0,
  "metadata": {
    "kernelspec": {
      "name": "python3",
      "display_name": "Python 3"
    },
    "colab": {
      "name": "Neural Machine Translator for English to German Translation.ipynb",
      "provenance": [],
      "collapsed_sections": []
    },
    "accelerator": "GPU"
  },
  "cells": [
    {
      "cell_type": "markdown",
      "metadata": {
        "id": "vsX0L1sG1iZj"
      },
      "source": [
        "# Capstone Project\n",
        "## Neural translation model\n",
        "### Instructions\n",
        "\n",
        "In this notebook, you will create a neural network that translates from English to German. You will use concepts from throughout this course, including building more flexible model architectures, freezing layers, data processing pipeline and sequence modelling.\n",
        "\n",
        "This project is peer-assessed. Within this notebook you will find instructions in each section for how to complete the project. Pay close attention to the instructions as the peer review will be carried out according to a grading rubric that checks key parts of the project instructions. Feel free to add extra cells into the notebook as required.\n",
        "\n",
        "### How to submit\n",
        "\n",
        "When you have completed the Capstone project notebook, you will submit a pdf of the notebook for peer review. First ensure that the notebook has been fully executed from beginning to end, and all of the cell outputs are visible. This is important, as the grading rubric depends on the reviewer being able to view the outputs of your notebook. Save the notebook as a pdf (you could download the notebook with File -> Download .ipynb, open the notebook locally, and then File -> Download as -> PDF via LaTeX), and then submit this pdf for review.\n",
        "\n",
        "### Let's get started!\n",
        "\n",
        "We'll start by running some imports, and loading the dataset. For this project you are free to make further imports throughout the notebook as you wish. "
      ]
    },
    {
      "cell_type": "code",
      "metadata": {
        "id": "2VyTvxPN1iZn"
      },
      "source": [
        "import tensorflow as tf\n",
        "import tensorflow_hub as hub\n",
        "import unicodedata\n",
        "import re\n",
        "from IPython.display import Image"
      ],
      "execution_count": 1,
      "outputs": []
    },
    {
      "cell_type": "markdown",
      "metadata": {
        "id": "wuIi4lAR1iZt"
      },
      "source": [
        "For the capstone project, you will use a language dataset from http://www.manythings.org/anki/ to build a neural translation model. This dataset consists of over 200,000 pairs of sentences in English and German. In order to make the training quicker, we will restrict to our dataset to 20,000 pairs. Feel free to change this if you wish - the size of the dataset used is not part of the grading rubric.\n",
        "\n",
        "Your goal is to develop a neural translation model from English to German, making use of a pre-trained English word embedding module."
      ]
    },
    {
      "cell_type": "markdown",
      "metadata": {
        "id": "pi9Dq6vv3FVO"
      },
      "source": [
        "#### Import the data\n",
        "\n",
        "The dataset is available for download as a zip file at the following link:\n",
        "\n",
        "https://drive.google.com/open?id=1KczOciG7sYY7SB9UlBeRP1T9659b121Q\n",
        "\n",
        "You should store the unzipped folder in Drive for use in this Colab notebook."
      ]
    },
    {
      "cell_type": "code",
      "metadata": {
        "id": "Nw99tEEQ3bKL",
        "colab": {
          "base_uri": "https://localhost:8080/"
        },
        "outputId": "231243c9-03ee-418e-c4cc-0f35028e052c"
      },
      "source": [
        "# Run this cell to connect to your Drive folder\n",
        "\n",
        "from google.colab import drive\n",
        "drive.mount('/content/gdrive')"
      ],
      "execution_count": 2,
      "outputs": [
        {
          "output_type": "stream",
          "text": [
            "Mounted at /content/gdrive\n"
          ],
          "name": "stdout"
        }
      ]
    },
    {
      "cell_type": "code",
      "metadata": {
        "id": "o8PetPpw1iZu"
      },
      "source": [
        "# Run this cell to load the dataset\n",
        "\n",
        "NUM_EXAMPLES = 20000\n",
        "data_examples = []\n",
        "with open('/content/gdrive/MyDrive/Colab Notebooks/deu.txt', 'r', encoding='utf8') as f:\n",
        "    for line in f.readlines():\n",
        "        if len(data_examples) < NUM_EXAMPLES:\n",
        "            data_examples.append(line)\n",
        "        else:\n",
        "            break"
      ],
      "execution_count": 3,
      "outputs": []
    },
    {
      "cell_type": "code",
      "metadata": {
        "id": "JumLjJ631iZy"
      },
      "source": [
        "# These functions preprocess English and German sentences\n",
        "\n",
        "def unicode_to_ascii(s):\n",
        "    return ''.join(c for c in unicodedata.normalize('NFD', s) if unicodedata.category(c) != 'Mn')\n",
        "\n",
        "def preprocess_sentence(sentence):\n",
        "    sentence = sentence.lower().strip()\n",
        "    sentence = re.sub(r\"ü\", 'ue', sentence)\n",
        "    sentence = re.sub(r\"ä\", 'ae', sentence)\n",
        "    sentence = re.sub(r\"ö\", 'oe', sentence)\n",
        "    sentence = re.sub(r'ß', 'ss', sentence)\n",
        "    \n",
        "    sentence = unicode_to_ascii(sentence)\n",
        "    sentence = re.sub(r\"([?.!,])\", r\" \\1 \", sentence)\n",
        "    sentence = re.sub(r\"[^a-z?.!,']+\", \" \", sentence)\n",
        "    sentence = re.sub(r'[\" \"]+', \" \", sentence)\n",
        "    \n",
        "    return sentence.strip()"
      ],
      "execution_count": 4,
      "outputs": []
    },
    {
      "cell_type": "markdown",
      "metadata": {
        "id": "XFJap-TW1iZ2"
      },
      "source": [
        "#### The custom translation model\n",
        "The following is a schematic of the custom translation model architecture you will develop in this project."
      ]
    },
    {
      "cell_type": "code",
      "metadata": {
        "id": "gBF1K2JN4RFJ",
        "colab": {
          "base_uri": "https://localhost:8080/",
          "height": 648
        },
        "outputId": "18dd95d9-ed66-431b-d88c-4b88a9104147"
      },
      "source": [
        "# Run this cell to download and view a schematic diagram for the neural translation model\n",
        "\n",
        "!wget -q -O neural_translation_model.png --no-check-certificate \"https://docs.google.com/uc?export=download&id=1XsS1VlXoaEo-RbYNilJ9jcscNZvsSPmd\"\n",
        "Image(\"neural_translation_model.png\")"
      ],
      "execution_count": 5,
      "outputs": [
        {
          "output_type": "execute_result",
          "data": {
            "image/png": "[encoded data removed]",
            "text/plain": [
              "<IPython.core.display.Image object>"
            ]
          },
          "metadata": {
            "tags": []
          },
          "execution_count": 5
        }
      ]
    },
    {
      "cell_type": "markdown",
      "metadata": {
        "id": "0fP7P-yK4RS7"
      },
      "source": [
        "The custom model consists of an encoder RNN and a decoder RNN. The encoder takes words of an English sentence as input, and uses a pre-trained word embedding to embed the words into a 128-dimensional space. To indicate the end of the input sentence, a special end token (in the same 128-dimensional space) is passed in as an input. This token is a TensorFlow Variable that is learned in the training phase (unlike the pre-trained word embedding, which is frozen).\n",
        "\n",
        "The decoder RNN takes the internal state of the encoder network as its initial state. A start token is passed in as the first input, which is embedded using a learned German word embedding. The decoder RNN then makes a prediction for the next German word, which during inference is then passed in as the following input, and this process is repeated until the special `<end>` token is emitted from the decoder."
      ]
    },
    {
      "cell_type": "markdown",
      "metadata": {
        "id": "z70nu6_01iZ3"
      },
      "source": [
        "## 1. Text preprocessing\n",
        "* Create separate lists of English and German sentences, and preprocess them using the `preprocess_sentence` function provided for you above.\n",
        "* Add a special `\"<start>\"` and `\"<end>\"` token to the beginning and end of every German sentence.\n",
        "* Use the Tokenizer class from the `tf.keras.preprocessing.text` module to tokenize the German sentences, ensuring that no character filters are applied. _Hint: use the Tokenizer's \"filter\" keyword argument._\n",
        "* Print out at least 5 randomly chosen examples of (preprocessed) English and German sentence pairs. For the German sentence, print out the text (with start and end tokens) as well as the tokenized sequence.\n",
        "* Pad the end of the tokenized German sequences with zeros, and batch the complete set of sequences into one numpy array."
      ]
    },
    {
      "cell_type": "code",
      "metadata": {
        "scrolled": true,
        "id": "9G20C4bk1iZ4",
        "colab": {
          "base_uri": "https://localhost:8080/"
        },
        "outputId": "62649e6f-4c82-49c5-eded-cd4c4423edc5"
      },
      "source": [
        "print(*data_examples[0:5], sep='\\n') # displaying first 5 lines of the dataset before preprocessing"
      ],
      "execution_count": 6,
      "outputs": [
        {
          "output_type": "stream",
          "text": [
            "Hi.\tHallo!\tCC-BY 2.0 (France) Attribution: tatoeba.org #538123 (CM) & #380701 (cburgmer)\n",
            "\n",
            "Hi.\tGrüß Gott!\tCC-BY 2.0 (France) Attribution: tatoeba.org #538123 (CM) & #659813 (Esperantostern)\n",
            "\n",
            "Run!\tLauf!\tCC-BY 2.0 (France) Attribution: tatoeba.org #906328 (papabear) & #941078 (Fingerhut)\n",
            "\n",
            "Wow!\tPotzdonner!\tCC-BY 2.0 (France) Attribution: tatoeba.org #52027 (Zifre) & #2122382 (Pfirsichbaeumchen)\n",
            "\n",
            "Wow!\tDonnerwetter!\tCC-BY 2.0 (France) Attribution: tatoeba.org #52027 (Zifre) & #2122391 (Pfirsichbaeumchen)\n",
            "\n"
          ],
          "name": "stdout"
        }
      ]
    },
    {
      "cell_type": "code",
      "metadata": {
        "colab": {
          "base_uri": "https://localhost:8080/"
        },
        "id": "-dxXPQG1aUIp",
        "outputId": "85552555-3276-45a6-c51d-da9ce7e15815"
      },
      "source": [
        "s = data_examples[4].split('\\t') #split the line at new tabs\n",
        "print(s)\n",
        "print(\"English: \",s[0]) #extract english sentence\n",
        "print(\"German: \",\"<start> \"+s[1]+\" <end>\") #extract german sentence"
      ],
      "execution_count": 7,
      "outputs": [
        {
          "output_type": "stream",
          "text": [
            "['Wow!', 'Donnerwetter!', 'CC-BY 2.0 (France) Attribution: tatoeba.org #52027 (Zifre) & #2122391 (Pfirsichbaeumchen)\\n']\n",
            "English:  Wow!\n",
            "German:  <start> Donnerwetter! <end>\n"
          ],
          "name": "stdout"
        }
      ]
    },
    {
      "cell_type": "code",
      "metadata": {
        "id": "5UlnBdIK1iaE",
        "colab": {
          "base_uri": "https://localhost:8080/"
        },
        "outputId": "f839b50f-dec7-4616-84a9-bf11b8521c2c"
      },
      "source": [
        "# do it for every sentence\n",
        "lines_English = []\n",
        "lines_German = []\n",
        "for i in range(len(data_examples)):\n",
        "    line = data_examples[i].split('\\t') #split the lines at new tabs\n",
        "    lines_English.append(preprocess_sentence(line[0])) #extract english sentence\n",
        "    lines_German.append(\"<start> \"+preprocess_sentence(line[1])+\" <end>\") #extract and preprocess german sentence\n",
        "\n",
        "print(len(lines_English))\n",
        "print(len(lines_German))"
      ],
      "execution_count": 8,
      "outputs": [
        {
          "output_type": "stream",
          "text": [
            "20000\n",
            "20000\n"
          ],
          "name": "stdout"
        }
      ]
    },
    {
      "cell_type": "code",
      "metadata": {
        "colab": {
          "base_uri": "https://localhost:8080/"
        },
        "id": "Ot2MWWbV6Bu1",
        "outputId": "4ae47f3d-29d8-4a6a-94b6-244ed93de85b"
      },
      "source": [
        "print(type(lines_German))\n",
        "print(min(lines_German, key=len))"
      ],
      "execution_count": 9,
      "outputs": [
        {
          "output_type": "stream",
          "text": [
            "<class 'list'>\n",
            "<start> aha . <end>\n"
          ],
          "name": "stdout"
        }
      ]
    },
    {
      "cell_type": "code",
      "metadata": {
        "colab": {
          "base_uri": "https://localhost:8080/"
        },
        "id": "pH1ghEzukQFr",
        "outputId": "19f987fa-b44d-4542-fc15-e9fcfcb87747"
      },
      "source": [
        "lines_German[40:45]"
      ],
      "execution_count": 10,
      "outputs": [
        {
          "output_type": "execute_result",
          "data": {
            "text/plain": [
              "['<start> ich habe bezahlt . <end>',\n",
              " '<start> ich zahlte . <end>',\n",
              " '<start> ich sang . <end>',\n",
              " '<start> ich schwimme . <end>',\n",
              " '<start> ich bin jahre alt . <end>']"
            ]
          },
          "metadata": {
            "tags": []
          },
          "execution_count": 10
        }
      ]
    },
    {
      "cell_type": "code",
      "metadata": {
        "id": "ZGTaqt1t1iaI"
      },
      "source": [
        "from tensorflow.keras.preprocessing.text import Tokenizer\n",
        "tokenizer = Tokenizer(num_words=None,\n",
        "                      filters='', #no character filters applied\n",
        "                      lower=True,\n",
        "                      split=' ',\n",
        "                      char_level=False,\n",
        "                      oov_token='<UNK>',\n",
        "                      document_count=0)"
      ],
      "execution_count": 11,
      "outputs": []
    },
    {
      "cell_type": "code",
      "metadata": {
        "id": "fqiO7HuQ1iaL",
        "colab": {
          "base_uri": "https://localhost:8080/"
        },
        "outputId": "d5a42560-e9a6-4e33-b771-4363471cc920"
      },
      "source": [
        "tokenizer.fit_on_texts(lines_German)\n",
        "tokenizer_config = tokenizer.get_config()\n",
        "tokenizer_config.keys()"
      ],
      "execution_count": 12,
      "outputs": [
        {
          "output_type": "execute_result",
          "data": {
            "text/plain": [
              "dict_keys(['num_words', 'filters', 'lower', 'split', 'char_level', 'oov_token', 'document_count', 'word_counts', 'word_docs', 'index_docs', 'index_word', 'word_index'])"
            ]
          },
          "metadata": {
            "tags": []
          },
          "execution_count": 12
        }
      ]
    },
    {
      "cell_type": "code",
      "metadata": {
        "colab": {
          "base_uri": "https://localhost:8080/"
        },
        "id": "ybCcKelZp2b1",
        "outputId": "4b7802eb-9846-4698-c420-192f52a25037"
      },
      "source": [
        "import json\n",
        "word_to_index = json.loads(tokenizer_config['word_index'])\n",
        "index_to_words = json.loads(tokenizer_config['index_word'])\n",
        "\n",
        "print(word_to_index)"
      ],
      "execution_count": 13,
      "outputs": [
        {
          "output_type": "stream",
          "text": [
            "{'<UNK>': 1, '<start>': 2, '<end>': 3, '.': 4, 'ich': 5, 'tom': 6, 'ist': 7, '?': 8, 'sie': 9, '!': 10, 'es': 11, 'das': 12, 'nicht': 13, 'du': 14, 'er': 15, 'bin': 16, 'hat': 17, 'wir': 18, 'habe': 19, 'ein': 20, 'zu': 21, 'mir': 22, 'mich': 23, 'sind': 24, 'war': 25, ',': 26, 'die': 27, 'ihr': 28, 'dich': 29, 'auf': 30, 'kann': 31, 'uns': 32, 'bist': 33, 'hier': 34, 'sich': 35, 'haben': 36, 'an': 37, 'eine': 38, 'was': 39, 'werde': 40, 'einen': 41, 'aus': 42, 'wie': 43, 'wer': 44, 'ihn': 45, 'gehen': 46, 'in': 47, 'der': 48, 'wird': 49, 'gut': 50, 'mein': 51, 'mag': 52, 'dir': 53, 'den': 54, 'sein': 55, 'mit': 56, 'sehr': 57, 'euch': 58, 'hast': 59, 'geht': 60, 'meine': 61, 'liebe': 62, 'jetzt': 63, 'da': 64, 'lass': 65, 'nach': 66, 'will': 67, 'bitte': 68, 'wurde': 69, 'werden': 70, 'so': 71, 'kein': 72, 'noch': 73, 'seid': 74, 'komm': 75, 'hause': 76, 'mal': 77, 'fuer': 78, 'alle': 79, 'mach': 80, 'gerade': 81, 'koennen': 82, 'auto': 83, 'wo': 84, 'weiss': 85, 'muss': 86, 'machen': 87, 'hatte': 88, 'gesehen': 89, 'geh': 90, 'helfen': 91, 'tun': 92, 'kommen': 93, 'gib': 94, 'brauche': 95, 'warum': 96, 'schon': 97, 'sieht': 98, 'beschaeftigt': 99, 'niemand': 100, 'einfach': 101, 'gemacht': 102, 'weg': 103, 'keine': 104, 'im': 105, 'ging': 106, 'dein': 107, 'hund': 108, 'nichts': 109, 'kannst': 110, 'sah': 111, 'macht': 112, 'auch': 113, 'buch': 114, 'sehen': 115, 'viel': 116, 'gefunden': 117, 'deine': 118, 'dem': 119, 'maria': 120, 'kommt': 121, 'etwas': 122, 'hasse': 123, 'ihm': 124, 'ihnen': 125, 'ab': 126, 'weiter': 127, 'schnell': 128, 'gluecklich': 129, 'geld': 130, 'sei': 131, 'lassen': 132, 'dass': 133, 'gehe': 134, 'darf': 135, 'um': 136, 'kam': 137, 'lasst': 138, 'sicher': 139, 'allein': 140, 'habt': 141, 'dort': 142, 'verloren': 143, 'zeit': 144, 'mehr': 145, 'wieder': 146, 'am': 147, 'zurueck': 148, 'gehoert': 149, 'gerne': 150, 'tut': 151, 'von': 152, 'leben': 153, 'hoer': 154, 'essen': 155, 'nie': 156, 'toms': 157, 'muede': 158, 'alles': 159, 'nimm': 160, 'nur': 161, 'und': 162, 'gegangen': 163, 'arbeit': 164, 'vor': 165, 'scheint': 166, 'heute': 167, 'gross': 168, 'liebt': 169, 'diese': 170, 'spass': 171, 'krank': 172, 'moechte': 173, 'muessen': 174, 'dieses': 175, 'versuchen': 176, 'meinen': 177, 'kenne': 178, 'gesagt': 179, 'alt': 180, 'komme': 181, 'weh': 182, 'getan': 183, 's': 184, 'schau': 185, 'fahren': 186, 'bei': 187, 'heiss': 188, 'ruhig': 189, 'fertig': 190, 'angst': 191, 'wissen': 192, 'immer': 193, 'mann': 194, 'ganz': 195, 'vielleicht': 196, 'weinen': 197, 'braucht': 198, 'zum': 199, 'sterben': 200, 'recht': 201, 'brauchen': 202, 'ihre': 203, 'gern': 204, 'schluessel': 205, 'hin': 206, 'warten': 207, 'los': 208, 'vater': 209, 'wuerde': 210, 'koennte': 211, 'doch': 212, 'her': 213, 'fuehle': 214, 'tag': 215, 'tuer': 216, 'nehmen': 217, 'gegessen': 218, 'gefallen': 219, 'spaet': 220, 'sagen': 221, 'ja': 222, 'bleiben': 223, 'keinen': 224, 'gewonnen': 225, 'ordnung': 226, 'rein': 227, 'gewinnen': 228, 'waren': 229, 'gibt': 230, 'mache': 231, 'okay': 232, 'kalt': 233, 'lesen': 234, 'fuehlte': 235, 'mary': 236, 'siehst': 237, 'nett': 238, 'reich': 239, 'sag': 240, 'wuetend': 241, 'sagte': 242, 'schwimmen': 243, 'draussen': 244, 'angerufen': 245, 'verrueckt': 246, 'wirst': 247, 'ernst': 248, 'gefaellt': 249, 'grossartig': 250, 'verletzt': 251, 'boston': 252, 'arbeiten': 253, 'koennt': 254, 'hut': 255, 'augen': 256, 'katze': 257, 'schlecht': 258, 'neu': 259, 'frei': 260, 'schlafen': 261, 'esse': 262, 'hunger': 263, 'selbst': 264, 'seien': 265, 'herein': 266, 'tu': 267, 'sehe': 268, 'veraergert': 269, 'uhr': 270, 'bleib': 271, 'bereit': 272, 'wollen': 273, 'jung': 274, 'musst': 275, 'versucht': 276, 'gekommen': 277, 'wusste': 278, 'hoffe': 279, 'schuld': 280, 'gekauft': 281, 'dies': 282, 'haus': 283, 'hilfe': 284, 'hab': 285, 'wirklich': 286, 'raus': 287, 'steht': 288, 'halte': 289, 'leid': 290, 'aufhoeren': 291, 'betrunken': 292, 'eins': 293, 'besser': 294, 'wasser': 295, 'willst': 296, 'schien': 297, 'arm': 298, 'funktioniert': 299, 'bett': 300, 'vorbei': 301, 'einmal': 302, 'moegen': 303, 'bier': 304, 'schule': 305, 'man': 306, 'behalten': 307, 'laufen': 308, 'gab': 309, 'singen': 310, 'fuss': 311, 'stand': 312, 'junge': 313, 'zur': 314, 'bus': 315, 'kinder': 316, 'wagen': 317, 'geben': 318, 'kaffee': 319, 'fragen': 320, 'hol': 321, 'traurig': 322, 'schoen': 323, 'blieb': 324, 'gestorben': 325, 'nein': 326, 'still': 327, 'hungrig': 328, 'tot': 329, 'dumm': 330, 'glueck': 331, 'kennt': 332, 'hoeren': 333, 'waere': 334, 'deinen': 335, 'warte': 336, 'verstehe': 337, 'schuechtern': 338, 'dran': 339, 'finden': 340, 'setz': 341, 'ins': 342, 'weit': 343, 'lieben': 344, 'nervoes': 345, 'jeder': 346, 'getroffen': 347, 'bekommen': 348, 'wahr': 349, 'langsam': 350, 'gute': 351, 'machte': 352, 'rot': 353, 'liegt': 354, 'frau': 355, 'sohn': 356, 'dieser': 357, 'worden': 358, 'spielen': 359, 'rannte': 360, 'wach': 361, 'suess': 362, 'hunde': 363, 'boese': 364, 'vermisse': 365, 'reden': 366, 'jemand': 367, 'kennen': 368, 'fisch': 369, 'fast': 370, 'verwirrt': 371, 'seine': 372, 'diesen': 373, 'versuch': 374, 'frag': 375, 'dabei': 376, 'davon': 377, 'bald': 378, 'ruhe': 379, 'tee': 380, 'nehme': 381, 'tanzen': 382, 'mutter': 383, 'spiele': 384, 'witze': 385, 'glaube': 386, 'zwei': 387, 'laeuft': 388, 'kurz': 389, 'rufen': 390, 'geschlagen': 391, 'frueh': 392, 'damit': 393, 'bring': 394, 'wein': 395, 'vergessen': 396, 'als': 397, 'sage': 398, 'tasche': 399, 'gegeben': 400, 'hasst': 401, 'geworden': 402, 'eure': 403, 'magst': 404, 'sollte': 405, 'hallo': 406, 'ruf': 407, 'stehen': 408, 'vertrauen': 409, 'zuhause': 410, 'rennen': 411, 'bestuerzt': 412, 'sieh': 413, 'arzt': 414, 'rief': 415, 'daran': 416, 'isst': 417, 'maedchen': 418, 'zeig': 419, 'klein': 420, 'meinem': 421, 'zieh': 422, 'perfekt': 423, 'laechelte': 424, 'luegt': 425, 'fehlt': 426, 'kochen': 427, 'fernseher': 428, 'kaputt': 429, 'lustig': 430, 'luegen': 431, 'milch': 432, 'katzen': 433, 'holen': 434, 'hoert': 435, 'liess': 436, 'unser': 437, 'ausruhen': 438, 'gebracht': 439, 'plan': 440, 'wollte': 441, 'konnte': 442, 'wohl': 443, 'bezahlt': 444, \"geht's\": 445, 'fort': 446, 'weinte': 447, 'dick': 448, 'sprach': 449, 'geholfen': 450, 'sprich': 451, 'sagt': 452, 'vertraut': 453, 'fangen': 454, 'tue': 455, 'seinen': 456, 'nahm': 457, 'langweilig': 458, 'hart': 459, 'arbeitet': 460, 'wen': 461, 'vorsichtig': 462, 'anfangen': 463, 'wette': 464, 'bezahlen': 465, 'neues': 466, 'dazu': 467, 'stark': 468, 'arbeite': 469, 'witz': 470, 'sprechen': 471, 'rauchen': 472, 'keiner': 473, 'vermissen': 474, 'trinken': 475, 'verdient': 476, 'freude': 477, 'morgen': 478, 'schwer': 479, 'leicht': 480, 'genug': 481, 'naehe': 482, 'zimmer': 483, 'wort': 484, 'denke': 485, 'ziemlich': 486, 'einverstanden': 487, 'geschafft': 488, 'ueber': 489, 'schwach': 490, 'blau': 491, 'verlassen': 492, 'folgen': 493, 'stimme': 494, 'dafuer': 495, 'dreissig': 496, 'lebt': 497, 'fahre': 498, 'kaufen': 499, 'sorgen': 500, 'lese': 501, 'unrecht': 502, 'brauchst': 503, 'haette': 504, 'leiden': 505, 'schwarz': 506, 'zuerst': 507, 'franzoesisch': 508, 'zufrieden': 509, 'familie': 510, 'ihren': 511, 'fing': 512, 'gelogen': 513, 'klar': 514, 'starb': 515, 'guter': 516, 'klug': 517, 'mensch': 518, 'hoere': 519, 'liebte': 520, 'verlieren': 521, 'leise': 522, 'hatten': 523, 'faul': 524, 'alleine': 525, 'gefragt': 526, 'mittagessen': 527, 'stimmt': 528, 'entkommen': 529, 'fallen': 530, 'musik': 531, 'taxi': 532, 'einem': 533, 'weisst': 534, 'gekuesst': 535, 'erkaeltung': 536, 'freunde': 537, 'ball': 538, 'platz': 539, 'schlechter': 540, 'jahre': 541, 'frage': 542, 'weise': 543, 'hilf': 544, 'geweint': 545, 'hilft': 546, 'halten': 547, 'komisch': 548, 'job': 549, 'freundlich': 550, 'geschickt': 551, 'drinnen': 552, 'einsam': 553, 'sicherheit': 554, 'schlaeft': 555, 'geliebt': 556, 'darueber': 557, 'oben': 558, 'karte': 559, 'spricht': 560, 'einer': 561, 'freund': 562, 'fuesse': 563, 'zusammen': 564, 'schuldig': 565, 'sollten': 566, 'pferd': 567, 'hoffnung': 568, 'spiel': 569, 'ehrlich': 570, 'warst': 571, 'grosser': 572, 'fahrrad': 573, 'idee': 574, 'reise': 575, 'bruder': 576, 'vom': 577, 'bis': 578, 'gemein': 579, 'setzen': 580, 'stehe': 581, 'fang': 582, 'hierher': 583, 'anrufen': 584, 'meins': 585, 'cool': 586, 'fuhr': 587, 'schlief': 588, 'meinung': 589, 'passiert': 590, 'sauber': 591, 'rechnung': 592, 'oft': 593, 'drin': 594, 'hey': 595, 'kaum': 596, 'trinke': 597, 'geschlafen': 598, 'grosse': 599, 'singt': 600, 'gehoeren': 601, 'muesst': 602, 'brauchte': 603, 'oeffnen': 604, 'sass': 605, 'wahrheit': 606, 'wann': 607, 'bisschen': 608, 'mitgebracht': 609, 'klingt': 610, 'aufhalten': 611, 'ungerecht': 612, 'schliess': 613, 'spaeter': 614, 'nehmt': 615, 'wartet': 616, 'fass': 617, 'legen': 618, 'runter': 619, 'duenn': 620, 'probier': 621, 'schaut': 622, 'schreiben': 623, 'schrecklich': 624, 'seltsam': 625, 'dunkel': 626, 'bleibt': 627, 'stoppen': 628, 'besorgt': 629, 'fleisch': 630, 'reis': 631, 'beeilen': 632, 'gleich': 633, 'problem': 634, 'sofort': 635, 'alter': 636, 'mochte': 637, 'gesicht': 638, 'neugierig': 639, 'diaet': 640, 'eifersuechtig': 641, 'gefangen': 642, 'montag': 643, 'lange': 644, 'falsch': 645, 'kennst': 646, 'eingeladen': 647, 'bestes': 648, 'euer': 649, 'waffe': 650, 'abend': 651, 'hand': 652, 'verlor': 653, 'lernen': 654, 'allen': 655, 'haar': 656, 'oeffne': 657, 'angekommen': 658, 'redet': 659, 'welche': 660, 'enttaeuscht': 661, 'namen': 662, 'fenster': 663, 'gott': 664, 'lief': 665, 'fiel': 666, 'nass': 667, 'rufe': 668, 'haesslich': 669, 'bescheid': 670, 'fliegen': 671, 'vergiss': 672, 'schiessen': 673, 'halt': 674, 'gebe': 675, 'gemeint': 676, 'warm': 677, 'lies': 678, 'unten': 679, 'bewegen': 680, 'trink': 681, 'bekam': 682, 'anderer': 683, 'hoerte': 684, 'panik': 685, 'erinnere': 686, 'setzte': 687, 'koch': 688, 'beruehmt': 689, 'seite': 690, 'fehler': 691, 'hielt': 692, 'gearbeitet': 693, 'pech': 694, 'muehe': 695, 'krieg': 696, 'lang': 697, 'luegner': 698, 'dagegen': 699, 'gerettet': 700, 'gesund': 701, 'verliebt': 702, 'schmerzen': 703, 'verheiratet': 704, 'genau': 705, 'egal': 706, 'pizza': 707, 'buecher': 708, 'kanadier': 709, 'zeigen': 710, 'unsere': 711, 'wussten': 712, 'angelogen': 713, 'riecht': 714, 'hinter': 715, 'lehrer': 716, 'gewinnt': 717, 'verraten': 718, 'geschrieben': 719, 'spielt': 720, 'niemals': 721, 'iss': 722, 'verstanden': 723, 'echt': 724, 'fair': 725, 'scher': 726, 'rennt': 727, 'naeher': 728, 'ruft': 729, 'kopf': 730, 'kuessen': 731, 'schreibt': 732, 'toll': 733, 'sauer': 734, 'gelangweilt': 735, 'fest': 736, 'beginnen': 737, 'schwimmt': 738, 'pflicht': 739, 'suchen': 740, 'nacht': 741, 'grausam': 742, 'kannte': 743, 'held': 744, 'ausgegangen': 745, 'heraus': 746, 'ohne': 747, 'gebissen': 748, 'raucht': 749, 'schalte': 750, 'lachen': 751, 'grund': 752, 'las': 753, 'eier': 754, 'feigling': 755, 'brav': 756, 'unhoeflich': 757, 'erzaehlt': 758, 'treffen': 759, 'kocht': 760, 'gebt': 761, 'beste': 762, 'darum': 763, 'sollen': 764, 'pause': 765, 'ihrer': 766, 'schrieb': 767, 'erschossen': 768, 'denn': 769, 'soll': 770, 'passt': 771, 'wenig': 772, 'typ': 773, 'abendessen': 774, 'beeindruckt': 775, 'aendern': 776, 'ausgeraubt': 777, 'solltest': 778, 'wuerdest': 779, 'brachte': 780, 'mund': 781, 'name': 782, 'wohnt': 783, 'voll': 784, 'haare': 785, 'danke': 786, 'leine': 787, 'behalt': 788, 'ass': 789, 'hoch': 790, 'finde': 791, 'half': 792, 'verirrt': 793, 'haltet': 794, 'gewusst': 795, 'vertraue': 796, 'schauen': 797, 'antworten': 798, 'voegel': 799, 'weint': 800, 'haende': 801, 'ski': 802, 'lachte': 803, 'pleite': 804, 'froh': 805, 'gelassen': 806, 'unterschreiben': 807, 'pass': 808, 'gefeuert': 809, 'maenner': 810, 'schreien': 811, 'schreit': 812, 'schlau': 813, 'beneide': 814, 'luft': 815, 'koche': 816, 'wichtig': 817, 'sache': 818, 'nochmal': 819, 'mama': 820, 'gas': 821, 'faehrt': 822, 'schrie': 823, 'augenblick': 824, 'durch': 825, 'wirf': 826, 'vergeben': 827, 'beide': 828, 'kuchen': 829, 'lebe': 830, 'naiv': 831, 'beliebt': 832, 'geschehen': 833, 'veraendert': 834, 'unter': 835, 'aufmerksam': 836, 'trank': 837, 'genie': 838, 'unschuldig': 839, 'verhungern': 840, 'voellig': 841, 'ohren': 842, 'gehst': 843, 'machst': 844, 'entlassen': 845, 'erkaeltet': 846, 'liest': 847, 'verkauft': 848, 'geschossen': 849, 'japaner': 850, 'aufgestanden': 851, 'menschen': 852, 'jemanden': 853, 'student': 854, 'kuenstler': 855, 'anders': 856, 'gefahr': 857, 'chef': 858, 'zog': 859, 'normal': 860, 'sechs': 861, 'vermisst': 862, 'leute': 863, 'apfel': 864, 'getrunken': 865, 'trug': 866, 'traum': 867, 'schulde': 868, 'brille': 869, 'tragen': 870, 'getoetet': 871, 'koenntest': 872, 'begann': 873, 'he': 874, 'feind': 875, 'laecheln': 876, 'sang': 877, 'verschwinde': 878, 'verzieh': 879, 'heim': 880, 'umarmt': 881, 'tapfer': 882, 'beeil': 883, 'zahlen': 884, 'gerecht': 885, 'lauter': 886, 'wunderbar': 887, 'weine': 888, 'luege': 889, 'folge': 890, 'ohnmaechtig': 891, 'amuesiert': 892, 'genommen': 893, 'helfe': 894, 'blind': 895, 'sieben': 896, 'jeden': 897, 'aber': 898, 'gesprochen': 899, 'gewaehlt': 900, 'idiot': 901, 'eingestellt': 902, 'geduldig': 903, 'boden': 904, 'ueberpruefen': 905, 'trat': 906, 'ueberlebt': 907, 'stadt': 908, 'rede': 909, 'schaute': 910, 'entscheiden': 911, 'duerfen': 912, 'dann': 913, 'kreativ': 914, 'jungen': 915, 'esst': 916, 'schaffen': 917, 'brot': 918, 'fand': 919, 'leichtglaeubig': 920, 'klarkommen': 921, 'gesetz': 922, 'ungewoehnlich': 923, 'nutzlos': 924, 'bloed': 925, 'spazieren': 926, 'betrogen': 927, 'laut': 928, 'erinnern': 929, 'kaempfen': 930, 'hingehen': 931, 'ei': 932, 'nackt': 933, 'frauen': 934, 'schlaefrig': 935, 'geschieden': 936, 'beleidigt': 937, 'krebs': 938, 'leer': 939, 'lieber': 940, 'traeume': 941, 'mantel': 942, 'hasste': 943, 'reizend': 944, 'bewusstsein': 945, 'geantwortet': 946, 'herunter': 947, 'studiert': 948, 'lernt': 949, 'musste': 950, 'pferde': 951, 'sport': 952, 'vertraute': 953, 'freiwillig': 954, 'hinein': 955, 'geheimnis': 956, 'ausland': 957, 'mager': 958, 'gewarnt': 959, 'regeln': 960, 'wieso': 961, 'wart': 962, 'hoeflich': 963, 'schoenen': 964, 'soehne': 965, 'beim': 966, 'aufgeregt': 967, 'sinn': 968, 'viele': 969, 'deiner': 970, 'besuchen': 971, 'woher': 972, 'nachricht': 973, 'schuhe': 974, 'gestern': 975, 'lauf': 976, 'fragt': 977, 'fett': 978, 'ordentlich': 979, 'aufgehoert': 980, 'richtig': 981, 'warnen': 982, 'beobachtet': 983, 'stimmen': 984, 'schreib': 985, 'dollar': 986, 'geschummelt': 987, 'gehorchen': 988, 'soweit': 989, 'fall': 990, 'na': 991, 'herum': 992, 'schneller': 993, 'sing': 994, 'versprochen': 995, 'schoss': 996, 'deins': 997, 'trinkt': 998, 'nickte': 999, 'wartete': 1000, 'arbeitete': 1001, 'moment': 1002, 'jungs': 1003, 'verlass': 1004, 'obst': 1005, 'pingelig': 1006, 'aufrichtig': 1007, 'durst': 1008, 'ungluecklich': 1009, 'schneit': 1010, 'liste': 1011, 'heisst': 1012, 'bringen': 1013, 'wehgetan': 1014, 'reihe': 1015, 'kommst': 1016, 'kuemmern': 1017, 'ehrgeizig': 1018, 'beweise': 1019, 'umarmte': 1020, 'zucker': 1021, 'erklaeren': 1022, 'anwalt': 1023, 'traeumen': 1024, 'verschwunden': 1025, 'dinge': 1026, 'schmutzig': 1027, 'unglaublich': 1028, 'glauben': 1029, 'fernsehen': 1030, 'fische': 1031, 'hinunter': 1032, 'nase': 1033, 'bekomme': 1034, 'weitermachen': 1035, 'geheiratet': 1036, 'tennis': 1037, 'zeige': 1038, 'ueberzeugt': 1039, 'zurueckgekommen': 1040, 'reinkommen': 1041, 'ende': 1042, 'reicht': 1043, 'verliess': 1044, 'umziehen': 1045, 'beiden': 1046, 'schneide': 1047, 'yoga': 1048, 'wuensche': 1049, 'nun': 1050, 'jahr': 1051, 'zaehlen': 1052, 'traegt': 1053, 'bart': 1054, 'wegen': 1055, 'schwestern': 1056, 'versuche': 1057, 'wert': 1058, 'rat': 1059, 'boot': 1060, 'nieder': 1061, 'zweimal': 1062, 'brueder': 1063, 'werdet': 1064, 'koennten': 1065, 'drei': 1066, 'langweile': 1067, 'moechtest': 1068, 'hinterher': 1069, 'fleissig': 1070, 'eile': 1071, 'bestellt': 1072, 'billig': 1073, 'himmel': 1074, 'waehlerisch': 1075, 'vergesslich': 1076, 'hemd': 1077, 'feuer': 1078, 'schwimme': 1079, 'hau': 1080, 'pack': 1081, 'fliege': 1082, 'schlagen': 1083, 'behaltet': 1084, 'fassen': 1085, 'tief': 1086, 'benutze': 1087, 'glatze': 1088, 'schmerzt': 1089, 'klappt': 1090, 'erzaehl': 1091, 'beobachte': 1092, 'gewinne': 1093, 'zaeh': 1094, 'gar': 1095, 'probieren': 1096, 'tritt': 1097, 'uebernehmen': 1098, 'bord': 1099, 'irre': 1100, 'eines': 1101, 'legte': 1102, 'kaputtgemacht': 1103, 'gebaut': 1104, 'fehlst': 1105, 'bescheiden': 1106, 'funktionieren': 1107, 'vorne': 1108, 'geblieben': 1109, 'gehabt': 1110, 'ding': 1111, 'tat': 1112, 'diskret': 1113, 'vernuenftig': 1114, 'schnee': 1115, 'wohne': 1116, 'benoetige': 1117, 'besoffen': 1118, 'kind': 1119, 'spreche': 1120, 'wohlhabend': 1121, 'schmeckt': 1122, 'ihres': 1123, 'schick': 1124, 'gingen': 1125, 'denk': 1126, 'voraus': 1127, 'unterrichtet': 1128, 'ausser': 1129, 'waehlen': 1130, 'gestohlen': 1131, 'nummer': 1132, 'zehn': 1133, 'kuemmere': 1134, 'gesungen': 1135, 'gerufen': 1136, 'steh': 1137, 'fahr': 1138, 'aepfel': 1139, 'uebel': 1140, 'sushi': 1141, 'suessigkeiten': 1142, 'farbe': 1143, 'zurueckkommen': 1144, 'sucht': 1145, 'ohr': 1146, 'diabetiker': 1147, 'engel': 1148, 'studiere': 1149, 'gruendlich': 1150, 'erschoepft': 1151, 'scherz': 1152, 'beeilt': 1153, 'dahin': 1154, 'hassen': 1155, 'gelacht': 1156, 'sagten': 1157, 'antwortete': 1158, 'meinte': 1159, 'erledigt': 1160, 'benutzt': 1161, 'verstehen': 1162, 'regen': 1163, 'erfolgreich': 1164, 'darfst': 1165, 'sicherheitsdienst': 1166, 'blass': 1167, 'paris': 1168, 'ahnung': 1169, 'ausstehen': 1170, 'gelesen': 1171, 'maus': 1172, 'schueler': 1173, 'ungeduldig': 1174, 'fach': 1175, 'versichert': 1176, 'eilte': 1177, 'zieht': 1178, 'kopfschmerzen': 1179, 'tor': 1180, 'oeffnet': 1181, 'frieden': 1182, 'ziehe': 1183, 'drehte': 1184, 'ueberleben': 1185, 'unfair': 1186, 'kuehe': 1187, 'fressen': 1188, 'motor': 1189, 'hoerst': 1190, 'handtuch': 1191, 'steigen': 1192, 'lied': 1193, 'gefolgt': 1194, 'spinnen': 1195, 'tisch': 1196, 'herz': 1197, 'heimweh': 1198, 'schwierigkeiten': 1199, 'ruhestand': 1200, 'pfeifen': 1201, 'sommer': 1202, 'benommen': 1203, 'faellt': 1204, 'umgebracht': 1205, 'strasse': 1206, 'neidisch': 1207, 'wenn': 1208, 'diesem': 1209, 'unverheiratet': 1210, 'fussball': 1211, 'starrte': 1212, 'kerze': 1213, 'leisten': 1214, 'schwester': 1215, 'brief': 1216, 'film': 1217, 'grossen': 1218, 'offen': 1219, 'schreibtisch': 1220, 'messer': 1221, 'unsicher': 1222, 'aufgehalten': 1223, 'neben': 1224, 'waffen': 1225, 'probiere': 1226, 'drueck': 1227, 'verdufte': 1228, 'acker': 1229, 'verkruemele': 1230, 'troll': 1231, 'zisch': 1232, 'ne': 1233, 'schwirr': 1234, 'sause': 1235, 'wiedersehen': 1236, 'schliesse': 1237, 'drauf': 1238, 'willkommen': 1239, 'leg': 1240, 'reparieren': 1241, 'deckung': 1242, 'retten': 1243, 'log': 1244, 'erzaehlen': 1245, 'geschwommen': 1246, 'beobachten': 1247, 'wozu': 1248, 'beruhige': 1249, 'fuenf': 1250, 'ohnmacht': 1251, 'fuerchte': 1252, 'erster': 1253, 'schlimm': 1254, 'verlasse': 1255, 'dreh': 1256, 'sitzen': 1257, 'dorthin': 1258, 'versuchte': 1259, 'sahen': 1260, 'siegen': 1261, 'schreibe': 1262, 'acht': 1263, 'such': 1264, 'gucken': 1265, 'gewann': 1266, 'meint': 1267, 'eis': 1268, 'voreingenommen': 1269, 'gierig': 1270, 'ruiniert': 1271, 'kostenlos': 1272, 'gruen': 1273, 'gelaechelt': 1274, 'stimmte': 1275, 'tanzt': 1276, 'zwinkerte': 1277, 'rechts': 1278, 'verbindung': 1279, 'schliessen': 1280, 'nochmals': 1281, 'fragte': 1282, 'insekten': 1283, 'mathe': 1284, 'mathematik': 1285, 'schwindlig': 1286, 'aufstehen': 1287, 'entspannt': 1288, 'durstig': 1289, 'gescheitert': 1290, 'regnet': 1291, 'regel': 1292, 'entspannen': 1293, 'welt': 1294, 'biss': 1295, 'betrog': 1296, 'letzte': 1297, 'hellwach': 1298, 'lag': 1299, 'schluss': 1300, 'bewaffnet': 1301, 'durcheinander': 1302, 'objektiv': 1303, 'bringe': 1304, 'drum': 1305, 'haelfte': 1306, 'guten': 1307, 'erwachsen': 1308, 'mutig': 1309, 'mut': 1310, 'laufpass': 1311, 'arrogant': 1312, 'schaeme': 1313, 'verwundet': 1314, 'zerbrochen': 1315, 'singe': 1316, 'zweifel': 1317, 'selten': 1318, 'gedacht': 1319, 'lieb': 1320, 'rechtsanwalt': 1321, 'zuverlaessig': 1322, 'schlafe': 1323, 'salz': 1324, 'unmoralisch': 1325, 'ueberlass': 1326, 'erledigen': 1327, 'nachdenken': 1328, 'rate': 1329, 'trafen': 1330, 'stellen': 1331, 'summen': 1332, 'kannten': 1333, 'niedergeschlagen': 1334, 'brach': 1335, 'spion': 1336, 'launisch': 1337, 'geraten': 1338, 'verbluefft': 1339, 'wahnsinnig': 1340, 'mittag': 1341, 'verstecken': 1342, 'scherzt': 1343, 'aufgeben': 1344, 'luegst': 1345, 'gewachsen': 1346, 'neuen': 1347, 'sonst': 1348, 'fachmann': 1349, 'toeten': 1350, 'sangen': 1351, 'paar': 1352, 'japanerin': 1353, 'eingeschlafen': 1354, 'winter': 1355, 'scherze': 1356, 'suesses': 1357, 'arabisch': 1358, 'rettete': 1359, 'fehlen': 1360, 'beweisen': 1361, 'ueberrascht': 1362, 'gewesen': 1363, 'geschaeft': 1364, 'minute': 1365, 'zurueckgehen': 1366, 'ruecken': 1367, 'knie': 1368, 'puppe': 1369, 'risiko': 1370, 'irren': 1371, 'landkarte': 1372, 'betet': 1373, 'baby': 1374, 'noetig': 1375, 'oeffnete': 1376, 'beschwipst': 1377, 'adoptiert': 1378, 'verlobt': 1379, 'wurden': 1380, 'papier': 1381, 'welches': 1382, 'summt': 1383, 'wem': 1384, 'hineingehen': 1385, 'scheinen': 1386, 'anfassen': 1387, 'selber': 1388, 'angeln': 1389, 'park': 1390, 'golf': 1391, 'schriftsteller': 1392, 'onkel': 1393, 'miteinander': 1394, 'deinem': 1395, 'geschenke': 1396, 'verriet': 1397, 'kaufte': 1398, 'gebrochen': 1399, 'gehalten': 1400, 'englisch': 1401, 'ablehnen': 1402, 'rueber': 1403, 'danken': 1404, 'zerstoert': 1405, 'weihnachten': 1406, 'zug': 1407, 'entschuldige': 1408, 'laufenden': 1409, 'preis': 1410, 'besitzt': 1411, 'bewusstlos': 1412, 'lacht': 1413, 'zoegert': 1414, 'herausbekommen': 1415, 'entschlossen': 1416, 'partner': 1417, 'studenten': 1418, 'koenntet': 1419, 'wuerden': 1420, 'nachhause': 1421, 'krawatte': 1422, 'glaubt': 1423, 'traeumt': 1424, 'schlechte': 1425, 'antwort': 1426, 'furchtbar': 1427, 'ganzen': 1428, 'redete': 1429, 'klang': 1430, 'rolle': 1431, 'freue': 1432, 'hase': 1433, 'verkaufen': 1434, 'begeistert': 1435, 'erneut': 1436, 'wohin': 1437, 'verpasst': 1438, 'telefon': 1439, 'angefasst': 1440, 'saft': 1441, 'vollkommen': 1442, 'frueher': 1443, 'alte': 1444, 'erst': 1445, 'droge': 1446, 'wirkte': 1447, 'unmoeglich': 1448, 'fantastisch': 1449, 'entspann': 1450, 'umarmen': 1451, 'gerannt': 1452, 'fasst': 1453, 'findet': 1454, 'repariere': 1455, 'taub': 1456, 'naechste': 1457, 'vorsicht': 1458, 'stirb': 1459, 'entschuldigung': 1460, 'legt': 1461, 'lage': 1462, 'aufgegeben': 1463, 'meinst': 1464, 'kicherte': 1465, 'traf': 1466, 'erste': 1467, 'geschneit': 1468, 'viertel': 1469, 'spring': 1470, 'guck': 1471, 'schuss': 1472, \"mach's\": 1473, 'bewegte': 1474, 'seht': 1475, 'warteten': 1476, 'kuemmert': 1477, 'sterbe': 1478, 'liege': 1479, 'suche': 1480, 'hingegangen': 1481, 'bewegt': 1482, 'schrei': 1483, 'hustete': 1484, 'zurueckgetreten': 1485, 'verstecke': 1486, 'single': 1487, 'ziehen': 1488, 'wachsam': 1489, 'nickerchen': 1490, 'schmecken': 1491, 'standen': 1492, 'stoehnte': 1493, 'gehorcht': 1494, 'gebetet': 1495, 'seufzte': 1496, 'geschrien': 1497, 'streng': 1498, 'strengt': 1499, 'naechstes': 1500, 'verlaufen': 1501, 'gnadenlos': 1502, 'gedanken': 1503, 'entlang': 1504, 'gehasst': 1505, 'daheim': 1506, 'verbrannt': 1507, 'rock': 1508, 'verschlafen': 1509, 'lippen': 1510, 'geirrt': 1511, 'tanze': 1512, 'rente': 1513, 'nichtsnutz': 1514, 'bedient': 1515, 'ignoriert': 1516, 'moeglich': 1517, 'regnen': 1518, 'schade': 1519, 'abgeschlossen': 1520, 'zweck': 1521, 'dringend': 1522, \"versuch's\": 1523, 'teilen': 1524, 'schaue': 1525, 'dank': 1526, 'gutes': 1527, 'pflanzen': 1528, 'stell': 1529, 'schicken': 1530, 'dieb': 1531, 'langsamer': 1532, 'kamen': 1533, 'laechelten': 1534, 'blickte': 1535, 'leidet': 1536, 'eingebildet': 1537, 'kniete': 1538, 'angehalten': 1539, 'waehle': 1540, 'fbi': 1541, 'treten': 1542, 'herauf': 1543, 'ok': 1544, 'trotzdem': 1545, 'berliner': 1546, 'super': 1547, 'toericht': 1548, 'einfaeltig': 1549, 'kaese': 1550, 'schloss': 1551, 'gefehlt': 1552, 'schlaf': 1553, 'dachte': 1554, 'beweis': 1555, 'versagen': 1556, 'hole': 1557, 'verklagen': 1558, 'suechtig': 1559, 'achtzehn': 1560, 'obdachlos': 1561, 'heiliger': 1562, 'stur': 1563, 'meines': 1564, 'angefangen': 1565, 'schweine': 1566, 'interessiert': 1567, 'heben': 1568, 'stelle': 1569, 'irrt': 1570, 'verklagt': 1571, 'gold': 1572, 'gruselig': 1573, 'gewitzt': 1574, 'verschwand': 1575, 'ausgehen': 1576, 'scherzen': 1577, 'amuesieren': 1578, 'clever': 1579, 'mitmachen': 1580, 'ertrunken': 1581, 'werd': 1582, 'hinauf': 1583, 'sogar': 1584, 'vogel': 1585, 'blumen': 1586, 'zahn': 1587, 'kuss': 1588, 'kuesste': 1589, 'erblindete': 1590, 'schach': 1591, 'verziehen': 1592, 'grippe': 1593, 'ring': 1594, 'laufe': 1595, 'abendbrot': 1596, 'flugzeug': 1597, 'gemeldet': 1598, 'meldete': 1599, 'schaemte': 1600, 'weckte': 1601, 'ansehen': 1602, 'lehrerin': 1603, 'tourist': 1604, 'motiviert': 1605, 'blut': 1606, 'schlimmer': 1607, 'geschenk': 1608, 'falle': 1609, 'schaden': 1610, 'befehl': 1611, 'diesmal': 1612, 'schwierig': 1613, 'kontrollieren': 1614, 'fortfahren': 1615, 'heisser': 1616, 'meiner': 1617, 'kopfweh': 1618, 'heisse': 1619, 'fueller': 1620, 'zuversichtlich': 1621, 'suppe': 1622, 'aufgabe': 1623, 'tasse': 1624, 'japan': 1625, 'plaene': 1626, 'narr': 1627, 'versteckt': 1628, 'papa': 1629, 'reingelegt': 1630, 'erfolg': 1631, 'bewundern': 1632, 'erwischt': 1633, 'verspaeten': 1634, 'aerzte': 1635, 'eltern': 1636, 'angeschossen': 1637, 'fastet': 1638, 'post': 1639, 'fragst': 1640, 'solltet': 1641, 'tiger': 1642, 'liebst': 1643, 'versuchung': 1644, 'fern': 1645, 'drachen': 1646, 'amerikaner': 1647, 'aufgeschlossen': 1648, 'eindruck': 1649, 'bereits': 1650, 'glaubte': 1651, 'rad': 1652, 'bein': 1653, 'schlaganfall': 1654, 'raetsel': 1655, 'radio': 1656, 'kekse': 1657, 'stuhl': 1658, 'wiederkommen': 1659, 'einladen': 1660, 'gefangene': 1661, 'fasziniert': 1662, 'dummkopf': 1663, 'aufgebracht': 1664, 'moechten': 1665, 'unserer': 1666, 'blond': 1667, 'erfahren': 1668, 'tratschen': 1669, 'wich': 1670, 'ueberfallen': 1671, 'hinterhaeltig': 1672, 'angezogen': 1673, 'verzweifelt': 1674, 'sympathisch': 1675, 'sitzt': 1676, 'gepflegt': 1677, 'wache': 1678, 'besten': 1679, 'licht': 1680, 'skifahren': 1681, 'zustimmen': 1682, 'furchtlos': 1683, 'wasch': 1684, 'mussten': 1685, 'respektieren': 1686, 'hilflos': 1687, 'weggenommen': 1688, 'weggeraeumt': 1689, 'entfernt': 1690, 'beseitigt': 1691, 'rote': 1692, 'vorbereitet': 1693, 'arbeitest': 1694, 'zaehlt': 1695, 'zuleide': 1696, 'daneben': 1697, 'fahrt': 1698, 'rasen': 1699, 'wirkt': 1700, 'vierzig': 1701, 'riskieren': 1702, 'jedes': 1703, 'hausaufgaben': 1704, 'geraeusch': 1705, 'raum': 1706, 'rotwein': 1707, 'beine': 1708, 'spielte': 1709, 'gitarre': 1710, 'wuenschte': 1711, 'abstreiten': 1712, 'genossen': 1713, 'atmet': 1714, 'bloss': 1715, 'erfreut': 1716, 'stift': 1717, 'pfeffer': 1718, 'seife': 1719, 'wohnen': 1720, 'veraengstigt': 1721, 'bestanden': 1722, 'fuetterte': 1723, 'geaendert': 1724, 'verrueckter': 1725, 'saenger': 1726, 'athletisch': 1727, 'grosszuegig': 1728, 'hoffnungsloser': 1729, 'verschwender': 1730, 'verschwenderisch': 1731, 'rechthaberisch': 1732, 'stich': 1733, 'zuendete': 1734, 'blick': 1735, 'angespannt': 1736, 'abgenommen': 1737, 'erschreckt': 1738, 'herausfinden': 1739, 'darin': 1740, 'wisst': 1741, 'trinkst': 1742, 'zaehne': 1743, 'bestellung': 1744, 'schwert': 1745, 'pferden': 1746, 'armbanduhr': 1747, 'erreichen': 1748, 'machtlos': 1749, 'wahl': 1750, 'neue': 1751, 'bleistift': 1752, 'kompliziert': 1753, 'puls': 1754, 'person': 1755, 'sturm': 1756, 'woche': 1757, 'erfinderisch': 1758, 'nachlaessig': 1759, 'blatt': 1760, 'gespraechig': 1761, 'euren': 1762, 'ganze': 1763, 'bade': 1764, 'stuerzte': 1765, 'verpiss': 1766, 'nachlassen': 1767, 'schlage': 1768, 'drueckt': 1769, \"bin's\": 1770, \"zeig's\": 1771, 'ernsthaft': 1772, \"hab's\": 1773, 'zurecht': 1774, 'gesprungen': 1775, 'rasiert': 1776, 'gewartet': 1777, 'satt': 1778, 'losgehen': 1779, 'schwamm': 1780, 'beruhigen': 1781, 'fangt': 1782, 'entschuldigen': 1783, 'dj': 1784, 'traege': 1785, 'wachte': 1786, 'knapp': 1787, 'nuechtern': 1788, 'gehoere': 1789, 'geklappt': 1790, 'vier': 1791, 'sand': 1792, 'behalte': 1793, 'beweg': 1794, 'sitz': 1795, 'uebernimm': 1796, 'waehlte': 1797, 'ziel': 1798, 'hoeher': 1799, 'antworte': 1800, 'tatsachen': 1801, 'folgt': 1802, 'elegant': 1803, 'springen': 1804, 'abgesagt': 1805, 'ansicht': 1806, 'repariert': 1807, 'zugehoert': 1808, 'ueberlebte': 1809, 'uebergeben': 1810, 'pummelig': 1811, 'ledig': 1812, 'ignorier': 1813, 'cd': 1814, 'jesus': 1815, 'beten': 1816, 'schlag': 1817, 'probleme': 1818, 'ach': 1819, 'hebe': 1820, 'beeile': 1821, 'ruelpste': 1822, 'betruegt': 1823, 'versagt': 1824, 'schnappte': 1825, 'cds': 1826, 'lachten': 1827, 'gnaedig': 1828, 'gewappnet': 1829, 'spezifisch': 1830, 'teile': 1831, 'besuch': 1832, 'setzt': 1833, 'zaehl': 1834, 'betruege': 1835, 'muenze': 1836, 'davongekommen': 1837, 'bloedmann': 1838, 'zwilling': 1839, 'maeuse': 1840, 'zoegerte': 1841, 'stellte': 1842, 'jazz': 1843, 'sollst': 1844, 'ufo': 1845, 'rieche': 1846, 'kaufe': 1847, 'zurechtkommen': 1848, 'tollpatsch': 1849, 'krankenschwester': 1850, 'luegnerin': 1851, 'bleibe': 1852, 'fassungslos': 1853, 'unbewaffnet': 1854, 'legal': 1855, 'mitnehmen': 1856, 'eures': 1857, 'bringt': 1858, 'fruehling': 1859, \"sie's\": 1860, 'loslegen': 1861, 'genauer': 1862, 'vielen': 1863, 'wachsen': 1864, 'laenger': 1865, 'probiert': 1866, 'handelt': 1867, 'enorm': 1868, 'schummelte': 1869, 'entkam': 1870, 'friert': 1871, 'dachschaden': 1872, 'leitung': 1873, 'aufgeblasen': 1874, 'bemerkt': 1875, 'bezahlte': 1876, 'lehnte': 1877, 'witzig': 1878, 'aelter': 1879, 'wecke': 1880, 'setzten': 1881, 'nahe': 1882, 'zeitig': 1883, 'stirbt': 1884, 'polizei': 1885, 'fuehre': 1886, 'einzuwenden': 1887, 'nerv': 1888, 'nerven': 1889, 'gewehr': 1890, 'endlich': 1891, 'frohe': 1892, 'dichter': 1893, 'heldenhaft': 1894, 'getreten': 1895, 'maedels': 1896, 'erbaermlich': 1897, 'bewundere': 1898, 'erwarten': 1899, 'geschnitten': 1900, 'schwindelig': 1901, 'blendend': 1902, 'joggen': 1903, 'bohnen': 1904, 'drueckte': 1905, 'reisen': 1906, 'klavier': 1907, 'erschuettert': 1908, 'kuenstlerisch': 1909, 'dankbar': 1910, 'kater': 1911, 'unverletzt': 1912, 'gedauert': 1913, 'pfeife': 1914, 'voran': 1915, 'zeigt': 1916, 'kiefer': 1917, 'niemanden': 1918, 'fuchs': 1919, 'hammer': 1920, 'suesse': 1921, 'kontrolle': 1922, 'gaben': 1923, 'hoerten': 1924, 'darauf': 1925, 'treu': 1926, 'unordentlich': 1927, 'vage': 1928, 'letzter': 1929, 'niemandem': 1930, 'nutze': 1931, 'weck': 1932, 'gestanden': 1933, 'mochten': 1934, 'erbaut': 1935, 'liegen': 1936, 'daemlich': 1937, 'besonders': 1938, 'tanz': 1939, 'verstehst': 1940, 'zeichne': 1941, 'sekunde': 1942, 'fuehrt': 1943, 'ignorierte': 1944, 'schlittschuh': 1945, 'menge': 1946, 'autos': 1947, 'hereingelegt': 1948, 'laestig': 1949, 'oder': 1950, 'seil': 1951, 'aufregend': 1952, 'bewunderte': 1953, 'moslem': 1954, 'lerne': 1955, 'uebertrieben': 1956, 'gefuettert': 1957, 'zwiebeln': 1958, 'loeffel': 1959, 'zuege': 1960, 'herbst': 1961, 'pandas': 1962, 'heiratete': 1963, 'beinahe': 1964, 'spaziergang': 1965, 'zuhoeren': 1966, 'nachts': 1967, 'erlaube': 1968, 'umbringen': 1969, 'studentin': 1970, 'tatverdaechtiger': 1971, 'uebergewichtig': 1972, 'unterwegs': 1973, 'drueben': 1974, 'unversichert': 1975, 'ueberaus': 1976, 'beschaedigt': 1977, 'eben': 1978, 'erleichterung': 1979, 'nervt': 1980, 'hoffnungslos': 1981, 'besetzt': 1982, 'unwahrscheinlich': 1983, 'haengt': 1984, 'kontrollier': 1985, 'kontrolliert': 1986, 'verschwinden': 1987, 'kontakt': 1988, 'eintreten': 1989, 'fortgehen': 1990, 'tresor': 1991, 'mannschaft': 1992, 'niedlich': 1993, 'veraendern': 1994, 'tuere': 1995, 'einige': 1996, 'ruehr': 1997, 'anzugeben': 1998, 'verschieden': 1999, 'liebten': 2000, 'braun': 2001, 'beifall': 2002, 'weggehen': 2003, 'poet': 2004, 'sparsam': 2005, 'verliert': 2006, 'unfreundlich': 2007, 'erinnert': 2008, 'genervt': 2009, 'hinkt': 2010, 'gewalttaetig': 2011, 'bitten': 2012, 'cousins': 2013, 'feinde': 2014, 'schockiert': 2015, 'passierte': 2016, 'riechst': 2017, 'huebsch': 2018, 'benimm': 2019, 'benutzen': 2020, 'tod': 2021, 'sagtest': 2022, 'salat': 2023, 'geniessen': 2024, 'vorfuehrung': 2025, 'steig': 2026, 'mitfahren': 2027, 'glueckwunsch': 2028, 'schauspieler': 2029, 'maechtig': 2030, 'spieler': 2031, 'kostet': 2032, 'ihrem': 2033, 'bekannt': 2034, 'geglaubt': 2035, 'kirche': 2036, 'fieber': 2037, 'lastwagen': 2038, 'lkw': 2039, 'tiere': 2040, 'bananen': 2041, 'gebacken': 2042, 'bar': 2043, 'verabschiedete': 2044, 'glas': 2045, 'gerechtigkeit': 2046, 'rache': 2047, 'urlaub': 2048, 'vergiftet': 2049, 'polizist': 2050, 'optimist': 2051, 'arbeitslos': 2052, 'verkauf': 2053, 'versprechen': 2054, 'wohnung': 2055, 'ob': 2056, 'platten': 2057, \"wird's\": 2058, 'tueren': 2059, 'heran': 2060, 'vorueber': 2061, 'foto': 2062, 'erfordert': 2063, 'fix': 2064, 'verbrechen': 2065, 'offensichtlich': 2066, 'quatsch': 2067, 'logisch': 2068, 'unsinn': 2069, 'unverschaemt': 2070, 'riechen': 2071, 'idioten': 2072, 'denkt': 2073, 'positiv': 2074, 'loewe': 2075, 'loch': 2076, 'fuehlt': 2077, 'ford': 2078, 'amuesant': 2079, 'konzentriert': 2080, 'durchgedreht': 2081, 'hilfreich': 2082, 'geschichte': 2083, 'liebenswert': 2084, 'dienst': 2085, 'anwesend': 2086, 'zittert': 2087, 'derjenige': 2088, 'gescheit': 2089, 'laerm': 2090, 'gefuehrt': 2091, 'gebraucht': 2092, 'laesst': 2093, 'risiken': 2094, 'blutet': 2095, 'bezaubernd': 2096, 'harmlos': 2097, 'boss': 2098, 'bauch': 2099, 'sosse': 2100, 'vertrauten': 2101, 'fuerchterlich': 2102, 'land': 2103, 'welcher': 2104, 'wofuer': 2105, 'fuehrung': 2106, 'wuerdet': 2107, 'groesste': 2108, 'deines': 2109, 'doof': 2110, 'gefahren': 2111, 'fallenlassen': 2112, 'lueg': 2113, 'vertrau': 2114, 'hintergangen': 2115, 'surfen': 2116, 'fuehlst': 2117, 'interessant': 2118, 'sprachlos': 2119, 'orange': 2120, 'zunge': 2121, 'heruntergeladen': 2122, 'erleichtert': 2123, 'teppich': 2124, 'theorie': 2125, 'haut': 2126, 'gegend': 2127, 'baseball': 2128, 'kartoffeln': 2129, 'feiere': 2130, 'boeses': 2131, 'verstand': 2132, 'gespielt': 2133, 'geredet': 2134, 'entsetzt': 2135, 'puenktlich': 2136, 'benachrichtigen': 2137, 'nichte': 2138, 'flehe': 2139, 'beschaemt': 2140, 'todernst': 2141, 'giftig': 2142, 'versalzen': 2143, 'fluss': 2144, 'schoener': 2145, 'ueberraschung': 2146, 'frisch': 2147, 'verpack': 2148, 'wechselgeld': 2149, 'anprobieren': 2150, 'anzug': 2151, 'grau': 2152, 'flasche': 2153, 'hierhin': 2154, 'ohrfeige': 2155, 'aufgeweckt': 2156, 'karten': 2157, 'tabletten': 2158, 'see': 2159, 'mond': 2160, 'soldat': 2161, 'brunnen': 2162, 'groessten': 2163, 'benahm': 2164, 'angegriffen': 2165, 'geleistet': 2166, 'unbehaglich': 2167, 'gekaempft': 2168, 'kaninchen': 2169, 'empoert': 2170, 'ruecksichtslos': 2171, 'beunruhigt': 2172, 'unvoreingenommen': 2173, 'lebte': 2174, 'stach': 2175, 'bad': 2176, 'wandte': 2177, 'cousin': 2178, 'neffe': 2179, 'brachten': 2180, 'zoo': 2181, 'wusstest': 2182, 'wusstet': 2183, 'ueberheblich': 2184, 'seinem': 2185, 'flexibler': 2186, 'jemals': 2187, 'wollt': 2188, 'moegt': 2189, 'wohnst': 2190, 'taeuschen': 2191, 'erwischen': 2192, 'sprecht': 2193, 'erklaert': 2194, 'treppe': 2195, 'gegen': 2196, 'angelt': 2197, 'gemalt': 2198, 'spielzeug': 2199, 'huete': 2200, 'pruefung': 2201, 'phantastisch': 2202, 'halloween': 2203, 'stifte': 2204, 'band': 2205, 'auge': 2206, 'computer': 2207, 'weigerte': 2208, 'bereue': 2209, 'besuchte': 2210, 'kampf': 2211, 'wusch': 2212, 'bank': 2213, 'sonntag': 2214, 'bestraft': 2215, 'fahrer': 2216, 'journalist': 2217, 'mitglied': 2218, 'total': 2219, 'schlimmeres': 2220, 'gefaehrlich': 2221, 'schneien': 2222, 'bedeutet': 2223, 'waschen': 2224, 'links': 2225, 'verrichten': 2226, 'poker': 2227, 'dose': 2228, 'behutsam': 2229, 'kiste': 2230, 'befoerdert': 2231, 'groesse': 2232, 'verraeter': 2233, 'gefaengnis': 2234, 'nimmt': 2235, 'hockey': 2236, 'bauer': 2237, 'angewiesen': 2238, 'welch': 2239, 'endet': 2240, 'terminkalender': 2241, 'billiger': 2242, 'juenger': 2243, 'redselig': 2244, 'nachvollziehen': 2245, 'anderen': 2246, 'krankenwagen': 2247, 'krankenhaus': 2248, 'ort': 2249, 'beabsichtigt': 2250, 'haustier': 2251, 'tage': 2252, 'maennern': 2253, 'kurze': 2254, 'aufenthalt': 2255, 'hamburger': 2256, 'vorwurf': 2257, 'stil': 2258, 'verdanke': 2259, 'kunden': 2260, 'stopp': 2261, 'bewegung': 2262, 'kapiert': 2263, 'umarme': 2264, 'zahlte': 2265, 'helft': 2266, 'schnarche': 2267, 'kuesst': 2268, 'wachen': 2269, 'reg': 2270, 'handschellen': 2271, 'vergnuegen': 2272, 'feier': 2273, 'weigere': 2274, 'rasierte': 2275, 'gaehnte': 2276, 'seins': 2277, 'eintritt': 2278, 'verboten': 2279, 'rette': 2280, 'hervorragend': 2281, 'sagenhaft': 2282, 'versuchten': 2283, 'zielen': 2284, 'gesundheit': 2285, 'bellen': 2286, 'daraus': 2287, 'knicken': 2288, 'willen': 2289, 'fuege': 2290, 'aufgelegt': 2291, 'begegnet': 2292, 'abbrechen': 2293, 'beduerftig': 2294, 'stecke': 2295, 'beachte': 2296, 'beachten': 2297, 'halb': 2298, 'geoeffnet': 2299, 'locker': 2300, 'stueck': 2301, 'natuerlich': 2302, \"hat's\": 2303, 'o': 2304, 'doeste': 2305, 'winkte': 2306, 'einig': 2307, 'unterhalten': 2308, 'stinkt': 2309, 'stinken': 2310, 'irgendwen': 2311, 'nuetzlich': 2312, 'trag': 2313, 'pruefe': 2314, 'fruehzeitig': 2315, 'grab': 2316, 'schubsen': 2317, 'untersuchen': 2318, 'brennt': 2319, 'vergib': 2320, 'ausreichend': 2321, 'liebenswuerdig': 2322, 'schaffte': 2323, 'menschlich': 2324, 'sieger': 2325, 'kunst': 2326, 'geriet': 2327, 'verwende': 2328, 'moench': 2329, 'verliere': 2330, 'bewege': 2331, 'hinterlistig': 2332, 'laune': 2333, 'nah': 2334, 'steckt': 2335, 'windig': 2336, 'kommentar': 2337, 'ersetzen': 2338, 'riech': 2339, 'schummelt': 2340, 'vergass': 2341, 'kaempfte': 2342, 'gehauen': 2343, 'aechzte': 2344, 'malt': 2345, 'telefonierte': 2346, 'telefoniert': 2347, 'betete': 2348, 'rauchte': 2349, 'schnarcht': 2350, 'strengen': 2351, 'groessere': 2352, 'holz': 2353, 'schuldest': 2354, 'form': 2355, 'tolerant': 2356, 'fischen': 2357, 'lach': 2358, 'ausbrechen': 2359, 'starren': 2360, 'sorge': 2361, 'werfen': 2362, 'werft': 2363, 'mumm': 2364, 'lenkte': 2365, 'stockbesoffen': 2366, 'merkwuerdig': 2367, 'doesen': 2368, 'online': 2369, 'netz': 2370, 'groesser': 2371, 'dreihundert': 2372, 'bargeld': 2373, 'jazzmusik': 2374, 'rindfleisch': 2375, 'erholt': 2376, 'gesorgt': 2377, 'benzin': 2378, 'gelegen': 2379, 'geruehrt': 2380, 'teilnehmen': 2381, 'absagen': 2382, 'nachsehen': 2383, 'verwenden': 2384, 'siebzehn': 2385, 'eigenbroetler': 2386, 'krankenpfleger': 2387, 'angsthase': 2388, 'summe': 2389, 'schulden': 2390, 'selbstsuechtig': 2391, 'erschrocken': 2392, 'ignoriere': 2393, 'naechster': 2394, 'neblig': 2395, 'zugelassen': 2396, \"waer's\": 2397, 'real': 2398, 'brechen': 2399, 'yen': 2400, 'faelschung': 2401, 'geheim': 2402, 'drueber': 2403, \"wir's\": 2404, 'studieren': 2405, 'wuensch': 2406, 'schickt': 2407, 'handeln': 2408, 'vorbeigekommen': 2409, 'umarmten': 2410, 'mist': 2411, 'blinzelte': 2412, 'jubelte': 2413, 'klatschte': 2414, 'entschieden': 2415, 'ertrank': 2416, 'drein': 2417, 'versteht': 2418, 'grinste': 2419, 'deprimiert': 2420, 'guetig': 2421, 'eitel': 2422, 'malte': 2423, 'abgelehnt': 2424, 'schwitzte': 2425, 'geschwitzt': 2426, 'stolperte': 2427, 'scharf': 2428, 'betruebt': 2429, 'aussteigen': 2430, 'bescheuert': 2431, 'unzuverlaessig': 2432, 'unternehmungslustig': 2433, 'drehe': 2434, 'waehlt': 2435, 'stecken': 2436, 'gemogelt': 2437, 'geweckt': 2438, \"gibt's\": 2439, 'auszugehen': 2440, 'realistisch': 2441, 'seh': 2442, 'sachte': 2443, 'geister': 2444, 'ostern': 2445, 'froehliche': 2446, 'imbiss': 2447, 'meidet': 2448, 'stritt': 2449, 'sitzenlassen': 2450, 'franzose': 2451, 'unleidlich': 2452, 'hinaus': 2453, 'laeufer': 2454, 'unterstuetze': 2455, 'barbarisch': 2456, 'romantisch': 2457, 'entschuldigte': 2458, 'stoert': 2459, 'lebendig': 2460, 'kuli': 2461, 'improvisierte': 2462, 'improvisiert': 2463, 'erfunden': 2464, 'sputen': 2465, 'angestrengt': 2466, 'verspaete': 2467, 'nachschauen': 2468, 'jaeger': 2469, 'purist': 2470, 'veranlagt': 2471, 'erwartet': 2472, 'kaempfe': 2473, 'verkatert': 2474, 'heilige': 2475, 'erbarmen': 2476, 'erschreckte': 2477, 'fluch': 2478, 'skurril': 2479, 'renn': 2480, 'ratet': 2481, 'raten': 2482, 'aufhoert': 2483, 'unterbrechen': 2484, 'taten': 2485, 'blicke': 2486, 'heb': 2487, 'hebt': 2488, 'schaem': 2489, 'erschoss': 2490, 'weilchen': 2491, 'filmen': 2492, 'kommando': 2493, 'heissen': 2494, 'entkamen': 2495, 'nahrung': 2496, 'unseres': 2497, 'ekelhaft': 2498, 'schnitt': 2499, 'grimassen': 2500, 'schimpfte': 2501, 'veteran': 2502, 'ex': 2503, 'moege': 2504, 'widersprach': 2505, 'ausgebrochen': 2506, 'thomas': 2507, 'erzaehlte': 2508, 'verspaetete': 2509, 'pfiff': 2510, 'erstaunt': 2511, 'heult': 2512, 'traue': 2513, 'gebrauch': 2514, 'unheimlich': 2515, 'assen': 2516, 'schauten': 2517, 'sassen': 2518, 'fuerchten': 2519, 'vorurteile': 2520, 'geschlossen': 2521, 'niete': 2522, 'faengt': 2523, 'stirbst': 2524, 'scharfsinnig': 2525, 'hinzu': 2526, 'irgendwelche': 2527, 'fan': 2528, 'langweilt': 2529, 'langweilen': 2530, 'backen': 2531, 'artig': 2532, 'reinigen': 2533, 'weggegangen': 2534, 'toete': 2535, 'hosentraeger': 2536, 'englaender': 2537, 'rollschuh': 2538, 'gefiel': 2539, 'bekifft': 2540, 'erblindet': 2541, 'miesepeter': 2542, 'tokyo': 2543, 'blutete': 2544, 'verspaetet': 2545, 'huste': 2546, 'niese': 2547, 'zusehen': 2548, 'befehle': 2549, 'manches': 2550, 'knoblauch': 2551, 'filme': 2552, 'reggae': 2553, 'lachs': 2554, 'tulpen': 2555, 'natur': 2556, 'veranlasst': 2557, 'faust': 2558, 'gekocht': 2559, 'zubereitet': 2560, 'wehren': 2561, 'geige': 2562, 'violine': 2563, 'respektiere': 2564, 'twitter': 2565, 'besucht': 2566, 'zumute': 2567, 'wandern': 2568, 'gedichte': 2569, 'gefiele': 2570, 'zulassen': 2571, 'verhindern': 2572, 'patient': 2573, 'rotschopf': 2574, 'schuelerin': 2575, 'geschmeichelt': 2576, 'wahrhaben': 2577, 'lama': 2578, 'ernstes': 2579, 'peruecke': 2580, 'latein': 2581, 'rechtens': 2582, 'tatsaechlich': 2583, 'samstag': 2584, 'trifft': 2585, 'gelaufen': 2586, 'ofen': 2587, 'wunderschoen': 2588, 'verbessert': 2589, 'zahle': 2590, 'befindet': 2591, 'feger': 2592, 'rueckenschmerzen': 2593, 'feuchtes': 2594, 'eulen': 2595, 'lest': 2596, 'wuerfel': 2597, 'wuerfle': 2598, 'wuerfele': 2599, 'wuerfeln': 2600, 'abserviert': 2601, 'aktiv': 2602, 'laeuferin': 2603, 'fuchsteufelswild': 2604, 'deutlich': 2605, 'lasse': 2606, 'misch': 2607, 'richte': 2608, 'kopie': 2609, 'tatsache': 2610, 'zeichen': 2611, 'glocke': 2612, 'gewannen': 2613, 'besteht': 2614, 'verschwanden': 2615, 'gutgehen': 2616, 'dvd': 2617, 'rannten': 2618, 'gespendet': 2619, 'gebeichtet': 2620, 'trainiert': 2621, 'sportler': 2622, 'vati': 2623, 'verrucht': 2624, 'stuermte': 2625, 'zeigte': 2626, 'gezeigt': 2627, 'angeschrieben': 2628, 'beaengstigend': 2629, 'erblasste': 2630, 'westen': 2631, 'zoomte': 2632, 'verunsichert': 2633, 'humpelt': 2634, 'packt': 2635, 'ruht': 2636, 'prima': 2637, 'werkzeug': 2638, 'fasten': 2639, 'freundinnen': 2640, 'befreundet': 2641, 'sinken': 2642, 'angestellt': 2643, 'wirkst': 2644, 'verdorben': 2645, 'scheinst': 2646, 'geeignet': 2647, 'schlaefst': 2648, 'kaefig': 2649, 'haelften': 2650, 'schneiden': 2651, 'abgeschnitten': 2652, 'haeltst': 2653, 'leugnen': 2654, 'aergere': 2655, 'kauf': 2656, 'geniesse': 2657, 'reihen': 2658, 'steige': 2659, 'steigt': 2660, 'entledigen': 2661, 'herzlichen': 2662, 'fuerchtet': 2663, 'haelt': 2664, 'respektiert': 2665, 'gelaehmt': 2666, 'fanatiker': 2667, 'faulpelz': 2668, 'tier': 2669, 'gesetzloser': 2670, 'bremse': 2671, 'eurem': 2672, 'schuechterner': 2673, 'hundemuede': 2674, 'london': 2675, 'befinde': 2676, 'banane': 2677, 'statt': 2678, 'zaehle': 2679, 'verachtet': 2680, 'treibe': 2681, 'uebers': 2682, 'fruehaufsteher': 2683, 'nietenhose': 2684, 'juristen': 2685, 'dreizehn': 2686, 'laster': 2687, 'nudeln': 2688, 'jagen': 2689, 'schildkroeten': 2690, 'karotten': 2691, 'hobby': 2692, 'privatsphaere': 2693, 'operiert': 2694, 'schluckauf': 2695, 'besitze': 2696, 'bezahle': 2697, 'koreanisch': 2698, 'unterrichte': 2699, 'nannte': 2700, 'bog': 2701, 'normalerweise': 2702, 'gefoltert': 2703, 'trage': 2704, 'mitbringen': 2705, 'erschiessen': 2706, 'tante': 2707, 'freier': 2708, 'reicher': 2709, 'eilig': 2710, 'meditiere': 2711, 'ferien': 2712, 'ueberarbeitet': 2713, 'aelteste': 2714, 'untalentiert': 2715, 'talent': 2716, 'laechelt': 2717, 'lecker': 2718, 'nagelneu': 2719, 'riskant': 2720, 'entschuldigt': 2721, 'ueberlasse': 2722, 'ueberlasst': 2723, 'ueberlassen': 2724, 'ueben': 2725, 'starben': 2726, 'gesetzt': 2727, 'preise': 2728, 'robben': 2729, 'bestellen': 2730, 'verehrt': 2731, 'wild': 2732, 'aergerte': 2733, 'schwanger': 2734, 'erzaehle': 2735, 'waeren': 2736, 'huhn': 2737, 'korrekt': 2738, 'illegal': 2739, 'lautet': 2740, 'dach': 2741, 'haken': 2742, 'konnten': 2743, 'gestritten': 2744, 'erreicht': 2745, 'denken': 2746, 'ueberlegen': 2747, 'ueberlegt': 2748, 'beschwert': 2749, 'grub': 2750, 'geschnappt': 2751, 'rosen': 2752, 'schritt': 2753, 'eingeschritten': 2754, 'minderjaehrig': 2755, 'hingebungsvoll': 2756, 'geizig': 2757, 'ungezogen': 2758, 'keucht': 2759, 'freut': 2760, 'egoistisch': 2761, 'besonderes': 2762, 'verwoehnt': 2763, 'unbeeindruckt': 2764, 'unversehrt': 2765, 'bleich': 2766, 'innen': 2767, 'erinnerte': 2768, 'gruessen': 2769, 'gestochen': 2770, 'gestoppt': 2771, 'heulte': 2772, 'sanft': 2773, 'empfindlich': 2774, 'verhandeln': 2775, 'eifrig': 2776, 'verbessern': 2777, 'gelaunt': 2778, 'trauert': 2779, 'mittellos': 2780, 'labil': 2781, 'wasche': 2782, 'passen': 2783, 'vermaehlt': 2784, 'anhalten': 2785, 'brauchten': 2786, 'ausgetrickst': 2787, 'haetten': 2788, 'geldautomaten': 2789, 'trinkgeld': 2790, 'widerst': 2791, 'lernst': 2792, 'summst': 2793, 'gewinnst': 2794, 'eurer': 2795, 'getraenke': 2796, 'geist': 2797, 'honig': 2798, 'benehmt': 2799, 'benehmen': 2800, 'buerste': 2801, 'aufmachen': 2802, 'raeum': 2803, 'kraehen': 2804, 'zugestimmt': 2805, 'reagiert': 2806, 'glaubst': 2807, 'vertraust': 2808, 'beleidige': 2809, 'parken': 2810, 'wunde': 2811, 'taschen': 2812, 'schoene': 2813, 'froesche': 2814, 'sachen': 2815, 'mitleid': 2816, 'kamera': 2817, 'reizt': 2818, 'maler': 2819, 'uebersinnliche': 2820, 'erwaehnt': 2821, 'lernte': 2822, 'gaertner': 2823, 'linkshaender': 2824, 'fotogen': 2825, 'album': 2826, 'gekostet': 2827, 'verabscheue': 2828, 'tokio': 2829, 'patsche': 2830, 'apfelsine': 2831, 'reserviert': 2832, 'rauch': 2833, 'genauso': 2834, 'einzukaufen': 2835, 'kaelte': 2836, 'hochzeiten': 2837, 'trockene': 2838, 'eingezogen': 2839, 'geduscht': 2840, 'niesen': 2841, 'lache': 2842, 'interesse': 2843, 'wiedergesehen': 2844, 'eingeschaetzt': 2845, 'armee': 2846, 'leiter': 2847, 'rasieren': 2848, 'schuettelte': 2849, 'roch': 2850, 'speck': 2851, 'vitamine': 2852, 'gestimmt': 2853, 'gleiche': 2854, 'zeuge': 2855, 'geboren': 2856, 'skeptisch': 2857, 'gabel': 2858, 'verteidigen': 2859, 'kooperieren': 2860, 'mitarbeiten': 2861, 'gast': 2862, 'rivale': 2863, 'detektiv': 2864, 'schuetze': 2865, 'hausfrau': 2866, 'professor': 2867, 'professorin': 2868, 'bereich': 2869, 'streite': 2870, 'beharrlich': 2871, 'peinlich': 2872, 'autistisch': 2873, 'blufft': 2874, 'kaempft': 2875, 'gutaussehend': 2876, 'freitag': 2877, 'notwendig': 2878, 'abkuerzung': 2879, 'wetter': 2880, 'laecherlich': 2881, 'rest': 2882, 'betrachte': 2883, 'serviert': 2884, 'angenehm': 2885, 'aendert': 2886, 'aufgegangen': 2887, 'feiern': 2888, 'setze': 2889, 'drogen': 2890, 'worauf': 2891, 'saengerin': 2892, 'ohrfeigte': 2893, 'erstochen': 2894, 'langgeht': 2895, 'buchstabieren': 2896, 'glatt': 2897, 'kindisch': 2898, 'kleid': 2899, 'persoenlich': 2900, 'stank': 2901, 'bezahlung': 2902, 'strom': 2903, 'trocken': 2904, 'melonen': 2905, 'verdienen': 2906, 'fuhren': 2907, 'ignorierten': 2908, 'russen': 2909, 'streiten': 2910, 'hotel': 2911, 'jene': 2912, 'zeiten': 2913, 'jedem': 2914, 'backte': 2915, 'stumm': 2916, 'verursacht': 2917, 'leistete': 2918, 'beitrag': 2919, 'bestritten': 2920, 'ruehrte': 2921, 'geniesst': 2922, 'erregt': 2923, 'gesellschaft': 2924, 'geheimnisse': 2925, 'vorschriften': 2926, 'inspiriert': 2927, 'einsiedler': 2928, 'prinz': 2929, 'rassist': 2930, 'raucher': 2931, 'komischer': 2932, 'barfuss': 2933, 'sorglos': 2934, 'charmant': 2935, 'froehlich': 2936, 'ahnungslos': 2937, 'ausschlaggebend': 2938, 'ertrinkt': 2939, 'flexibel': 2940, 'unbeweglich': 2941, 'schock': 2942, 'kniet': 2943, 'gehorsam': 2944, 'einkaufen': 2945, 'angewidert': 2946, 'unruhig': 2947, 'kontaktfreudig': 2948, 'verhungert': 2949, 'starrkoepfig': 2950, 'selbstmordgefaehrdet': 2951, 'taff': 2952, 'sprang': 2953, 'toetete': 2954, 'beugte': 2955, 'gewohnt': 2956, 'toller': 2957, 'baeren': 2958, 'bremste': 2959, 'ergeben': 2960, 'beleidigend': 2961, 'alarmiert': 2962, 'fliehen': 2963, 'charmeur': 2964, 'genial': 2965, 'aufzuhalten': 2966, 'verhafteten': 2967, 'verhaftet': 2968, 'nahmen': 2969, 'umgezogen': 2970, 'getrennt': 2971, 'seelenverwandt': 2972, 'hattest': 2973, 'sagst': 2974, 'kumpel': 2975, 'kamm': 2976, 'beitraege': 2977, 'weshalb': 2978, 'erholen': 2979, 'leidtun': 2980, 'traeumst': 2981, 'spielst': 2982, 'ans': 2983, 'katholisch': 2984, 'studierst': 2985, 'irgendwas': 2986, 'aufpassen': 2987, 'atmen': 2988, 'zwinge': 2989, 'bekennen': 2990, 'bedacht': 2991, 'unterricht': 2992, 'spiegel': 2993, 'konzentriere': 2994, 'beherrsche': 2995, 'reiss': 2996, 'normales': 2997, 'etwa': 2998, 'lebst': 2999, 'stoere': 3000, 'taeusche': 3001, 'verpetzt': 3002, 'blieben': 3003, 'gemerkt': 3004, 'erklaere': 3005, 'tank': 3006, 'getraenk': 3007, 'schirm': 3008, 'muffins': 3009, 'buk': 3010, 'verhalten': 3011, 'jagt': 3012, 'alkohol': 3013, 'freigesprochen': 3014, 'frankreich': 3015, 'gentleman': 3016, 'historiker': 3017, 'geschichtswissenschaftler': 3018, 'intelligent': 3019, 'hiess': 3020, 'seiner': 3021, 'gewalt': 3022, 'auswaerts': 3023, 'scheiss': 3024, 'schwitzen': 3025, 'beklagen': 3026, 'ertragen': 3027, 'comics': 3028, 'gestellt': 3029, 'keines': 3030, 'schmerz': 3031, 'muetze': 3032, 'schaetze': 3033, 'schlimme': 3034, 'chemie': 3035, 'pest': 3036, 'quittung': 3037, 'video': 3038, 'home': 3039, 'run': 3040, 'vornamen': 3041, 'australien': 3042, 'sprachen': 3043, 'strand': 3044, 'portemonnaie': 3045, 'abenteuer': 3046, 'klempner': 3047, 'hose': 3048, 'bestellte': 3049, 'heimgehen': 3050, 'beschuetzen': 3051, 'uebersetzerin': 3052, 'uebersetzer': 3053, 'backe': 3054, 'unzufrieden': 3055, 'amerika': 3056, 'lade': 3057, 'rechtshaenderin': 3058, 'hochzufrieden': 3059, 'eignet': 3060, 'bissig': 3061, 'zappenduster': 3062, 'stockfinster': 3063, 'bestimmt': 3064, 'bequem': 3065, 'verrichte': 3066, 'triff': 3067, 'planet': 3068, 'deutsches': 3069, 'juckt': 3070, 'kennenzulernen': 3071, 'fleiss': 3072, 'schweiss': 3073, 'stehengeblieben': 3074, 'zuruecktreten': 3075, 'reifen': 3076, 'artikel': 3077, 'tuberkulose': 3078, 'scheiden': 3079, 'bmw': 3080, 'eigensinnig': 3081, 'abgekommen': 3082, 'kamel': 3083, 'ueberraschte': 3084, 'verspaetung': 3085, 'schluck': 3086, 'duftet': 3087, 'vorhang': 3088, 'klingel': 3089, 'nennt': 3090, 'verfolgen': 3091, 'pathetisch': 3092, 'pathos': 3093, 'bewundert': 3094, 'schlug': 3095, 'warf': 3096, 'erhielt': 3097, 'aengstlich': 3098, 'aufgewachsen': 3099, 'ehrgeiz': 3100, 'immunitaet': 3101, 'oliven': 3102, 'schwarze': 3103, 'boeser': 3104, 'hellseher': 3105, 'engagiert': 3106, 'kompetent': 3107, 'gestoert': 3108, 'impulsiv': 3109, 'unausstehlich': 3110, 'widerspenstig': 3111, 'schwaecher': 3112, 'kauft': 3113, 'schob': 3114, 'arbeitsplatz': 3115, 'schalt': 3116, 'schlurfte': 3117, 'studierte': 3118, 'eingeaeschert': 3119, 'eingesperrt': 3120, 'ermordet': 3121, 'trophaee': 3122, 'stellt': 3123, 'ebenfalls': 3124, 'fruehstueck': 3125, 'meditieren': 3126, 'albtraum': 3127, 'alptraum': 3128, 'ausgang': 3129, 'hamlet': 3130, 'wessen': 3131, 'zitieren': 3132, 'therapie': 3133, 'rotes': 3134, 'hosenstall': 3135, 'kerzen': 3136, 'hierhergekommen': 3137, 'beschaeftigten': 3138, 'maisgruetze': 3139, 'enttaeusch': 3140, 'enttaeuschen': 3141, 'fehle': 3142, 'schrien': 3143, 'irgendwo': 3144, 'braune': 3145, 'braunes': 3146, 'kurzes': 3147, 'kleine': 3148, 'verdrehte': 3149, 'gleichen': 3150, 'verlange': 3151, 'sauerkraut': 3152, 'gemocht': 3153, 'zurueckgelassen': 3154, 'schwebe': 3155, 'gruess': 3156, 'potzdonner': 3157, 'donnerwetter': 3158, 'huelf': 3159, 'aha': 3160, 'stehenbleiben': 3161, 'hingefallen': 3162, 'gestuerzt': 3163, 'ausgeschlossen': 3164, 'keinster': 3165, 'leb': 3166, 'tschuess': 3167, 'schlagt': 3168, 'druecken': 3169, \"halt's\": 3170, 'maul': 3171, 'laeufst': 3172, 'beheben': 3173, 'behebe': 3174, 'hinlegen': 3175, 'greif': 3176, 'runden': 3177, 'trete': 3178, 'dageblieben': 3179, 'gegaehnt': 3180, 'glatzkoepfig': 3181, 'zutritt': 3182, 'kuesse': 3183, 'heirate': 3184, 'rettet': 3185, 'gezahlt': 3186, 'warne': 3187, 'ausgeschieden': 3188, 'fange': 3189, 'fuehl': 3190, \"hol's\": 3191, 'plattenaufleger': 3192, \"versprech's\": 3193, 'verspreche': 3194, 'kasse': 3195, 'geheilt': 3196, 'brannte': 3197, 'verbrannte': 3198, 'fuenfundvierzig': 3199, 'neun': 3200, 'kuehl': 3201, 'unsers': 3202, 'lieg': 3203, 'hinten': 3204, 'rutsch': 3205, 'selbstverstaendlich': 3206, 'ah': 3207, 'siehe': 3208, 'unterschreibe': 3209, 'unterschreib': 3210, 'harre': 3211, 'uebernehmt': 3212, 'k': 3213, \"war's\": 3214, 'fielen': 3215, 'stuerzten': 3216, 'schwammen': 3217, 'verneigte': 3218, 'erstarrte': 3219, 'strickt': 3220, 'entsperr': 3221, 'stimmten': 3222, 'herrlich': 3223, 'faehrst': 3224, 'faengst': 3225, 'stinkst': 3226, \"hast's\": 3227, 'zielt': 3228, 'antwortet': 3229, 'obacht': 3230, 'pruefen': 3231, 'volltanken': 3232, 'existiert': 3233, 'fies': 3234, 'schweizer': 3235, 'absurd': 3236, 'tragisch': 3237, 'geb': 3238, 'kaue': 3239, 'kaugummi': 3240, 'getrunkten': 3241, 'vernommen': 3242, 'gefaellst': 3243, 'tust': 3244, 'gekotzt': 3245, 'erbrochen': 3246, 'ruppig': 3247, 'reingehen': 3248, 'blutarmut': 3249, 'mollig': 3250, 'immun': 3251, 'reif': 3252, 'ausgeruht': 3253, 'modeerscheinung': 3254, 'voruebergehende': 3255, 'sperrig': 3256, 'unhandlich': 3257, 'glaenzt': 3258, 'lasset': 3259, 'abstimmen': 3260, 'vorausschauend': 3261, 'kuck': 3262, 'draus': 3263, 'beruhigt': 3264, 'ersetze': 3265, 'tausche': 3266, 'tauschen': 3267, 'ersetzt': 3268, 'tauscht': 3269, 'beginne': 3270, 'lern': 3271, 'schmeck': 3272, 'betrueblich': 3273, 'mogeln': 3274, 'schummeln': 3275, 'betruegen': 3276, 'schliefen': 3277, 'abgestimmt': 3278, 'genuegen': 3279, 'stiess': 3280, 'mogelt': 3281, 'tanzte': 3282, 'versagte': 3283, 'japste': 3284, 'dummen': 3285, 'gehorchte': 3286, 'fuegte': 3287, 'gefuegt': 3288, 'inne': 3289, 'geraucht': 3290, 'heulen': 3291, 'abbiegen': 3292, \"wart'\": 3293, 'unseren': 3294, 'rasteten': 3295, 'quitt': 3296, 'bestimmst': 3297, 'troeste': 3298, 'troestet': 3299, 'troesten': 3300, 'streitet': 3301, 'starr': 3302, 'starrt': 3303, 'vergebt': 3304, 'verhasst': 3305, 'stinkreich': 3306, 'stockbetrunken': 3307, \"steht's\": 3308, 'geschwaenzt': 3309, 'gezoegert': 3310, 'beides': 3311, 'kleber': 3312, 'fliegende': 3313, 'untertasse': 3314, 'ergebe': 3315, 'bares': 3316, 'langweilte': 3317, 'einsteigen': 3318, 'baecker': 3319, 'faste': 3320, 'verschuldet': 3321, 'hinweg': 3322, 'pappsatt': 3323, 'ignorieren': 3324, 'gesetzlich': 3325, \"schmeckt's\": 3326, 'nebel': 3327, 'fuenfzig': 3328, 'bewoelkt': 3329, 'gift': 3330, 'eilt': 3331, 'dringlich': 3332, 'hinueber': 3333, 'nachpruefen': 3334, 'angriff': 3335, 'hochgehen': 3336, 'praeg': 3337, 'praegt': 3338, 'praegen': 3339, 'regiert': 3340, 'timing': 3341, 'schiesst': 3342, 'verabschiede': 3343, 'verabschiedet': 3344, 'erroetete': 3345, 'beiss': 3346, 'handele': 3347, 'geil': 3348, 'gratis': 3349, 'brannten': 3350, 'riefen': 3351, 'tanzten': 3352, 'drueckten': 3353, 'kuessten': 3354, 'veraenderte': 3355, 'atmete': 3356, 'runzelte': 3357, 'stirn': 3358, 'finster': 3359, 'freute': 3360, 'haemisch': 3361, 'zwaengen': 3362, 'zwangserkrankung': 3363, 'eingeatmet': 3364, 'schallplattenunterhalter': 3365, 'kahl': 3366, 'hammertyp': 3367, 'ruepel': 3368, 'weggelaufen': 3369, 'entspannte': 3370, 'rutschte': 3371, 'ausgerutscht': 3372, 'nieste': 3373, 'gestolpert': 3374, 'angesagt': 3375, 'cnn': 3376, 'hoelle': 3377, 'drecksloch': 3378, 'verlust': 3379, 'team': 3380, 'ego': 3381, 'gejubelt': 3382, 'zubereiten': 3383, 'woran': 3384, 'gehoerst': 3385, 'melde': 3386, 'meldet': 3387, 'tretet': 3388, 'melden': 3389, 'beschreibe': 3390, 'unterschrieben': 3391, 'rauchst': 3392, 'lehrst': 3393, 'merkt': 3394, 'graeme': 3395, 'porzellankiste': 3396, 'holt': 3397, 'existieren': 3398, 'drumrum': 3399, 'haendige': 3400, 'schneidet': 3401, 'stinkig': 3402, 'speist': 3403, 'soeben': 3404, 'treuherzig': 3405, 'religioeser': 3406, 'eiferer': 3407, 'unterstuetzen': 3408, 'unterstuetzt': 3409, 'ehrlichkeit': 3410, 'zahlt': 3411, 'beruehrend': 3412, 'chinese': 3413, 'chinesin': 3414, 'bete': 3415, 'kaviar': 3416, 'ruelpse': 3417, 'zeichnen': 3418, 'verdiene': 3419, 'tests': 3420, 'nesselsucht': 3421, 'umarmung': 3422, 'loewen': 3423, 'stern': 3424, 'vorbeikommen': 3425, 'kriege': 3426, 'verfallen': 3427, 'blute': 3428, 'bluffe': 3429, 'einigermassen': 3430, 'ertrinke': 3431, 'ertrinken': 3432, 'legastheniker': 3433, 'legasthenikerin': 3434, 'friere': 3435, 'hausarrest': 3436, 'perth': 3437, 'stau': 3438, 'aufstaendischer': 3439, 'aufstaendische': 3440, 'ruhelos': 3441, 'schiesse': 3442, 'untroestlich': 3443, 'kitzlig': 3444, 'nachgeschaut': 3445, 'spinne': 3446, 'eisen': 3447, 'hirsch': 3448, 'wolf': 3449, 'begonnen': 3450, 'frucht': 3451, 'pflanze': 3452, 'schnaeppchen': 3453, 'fuers': 3454, 'hagelt': 3455, 'geruecht': 3456, 'niedrig': 3457, 'rauskommst': 3458, 'red': 3459, 'dazwischengehen': 3460, 'huefte': 3461, 'scherte': 3462, 'enspannt': 3463, 'enspann': 3464, 'fassung': 3465, 'glotzen': 3466, 'traeum': 3467, \"nimm's\": 3468, 'jubelten': 3469, 'weigerten': 3470, 'entspannten': 3471, 'erholten': 3472, 'hielten': 3473, 'schwitzten': 3474, 'merken': 3475, 'mitkriegen': 3476, 'gefaelscht': 3477, 'grauslich': 3478, 'klappen': 3479, 'billigt': 3480, 'eingebrochen': 3481, 'baute': 3482, 'gluckste': 3483, 'anwerben': 3484, 'verirrte': 3485, 'grimassierte': 3486, 'verzog': 3487, 'murrte': 3488, 'maulte': 3489, 'motzte': 3490, 'akne': 3491, 'beharrte': 3492, 'bestand': 3493, 'brutal': 3494, 'gebrechlich': 3495, 'beglueckt': 3496, 'fettleibig': 3497, 'pfiffig': 3498, 'albern': 3499, 'veganer': 3500, 'weisser': 3501, 'erhob': 3502, 'einspruch': 3503, 'versprach': 3504, 'eingelenkt': 3505, 'nachgegeben': 3506, 'zitterte': 3507, 'zuckte': 3508, 'achseln': 3509, 'geblinzelt': 3510, 'stottert': 3511, 'keinem': 3512, 'abwarten': 3513, 'araber': 3514, 'bereiteten': 3515, 'blickten': 3516, 'trauen': 3517, 'greifen': 3518, 'angreifen': 3519, 'null': 3520, 'schande': 3521, 'dankst': 3522, 'daumen': 3523, 'vergingen': 3524, 'amuesierst': 3525, 'mitkommen': 3526, 'erhitzt': 3527, 'beaengstigst': 3528, 'beaengstigen': 3529, 'bleibst': 3530, 'liegst': 3531, 'eklig': 3532, 'durchtrieben': 3533, 'drueckst': 3534, 'angefahren': 3535, 'langweilst': 3536, 'untergliedere': 3537, 'abreissen': 3538, 'detailliere': 3539, 'buchstabier': 3540, 'skaten': 3541, 'kapierst': 3542, 'beachtet': 3543, 'schubs': 3544, 'schubst': 3545, 'reagier': 3546, 'hetz': 3547, 'kreis': 3548, 'spuel': 3549, 'erbsen': 3550, 'ausatmen': 3551, 'fuettere': 3552, 'fuettert': 3553, 'bluehen': 3554, 'spiegelei': 3555, 'ruhen': 3556, 'verzisch': 3557, 'segne': 3558, 'augenblickchen': 3559, 'schinken': 3560, 'beraet': 3561, 'netztagebuch': 3562, 'zahnspange': 3563, 'skateboard': 3564, 'skatet': 3565, 'vorzeitig': 3566, 'belogen': 3567, 'fortgeschickt': 3568, 'bemueht': 3569, 'gesteinigt': 3570, 'oesterreicher': 3571, 'noergler': 3572, 'meckerfritze': 3573, 'jesuit': 3574, 'autist': 3575, 'bedien': 3576, 'bedienen': 3577, 'hieressen': 3578, 'amerikanerin': 3579, 'spueren': 3580, 'herbeigefuehrt': 3581, 'beigetragen': 3582, 'verachte': 3583, 'hingesehen': 3584, 'spuere': 3585, 'flau': 3586, 'schlechtes': 3587, 'gewissen': 3588, 'ausgeflippt': 3589, 'ausgerastet': 3590, 'sellerie': 3591, 'schnupfen': 3592, 'leide': 3593, 'verabredung': 3594, 'visum': 3595, 'gesuendigt': 3596, 'franzoesische': 3597, 'uhren': 3598, 'kamele': 3599, 'spielfilme': 3600, 'aufgegossen': 3601, 'rausgehen': 3602, 'weigern': 3603, 'ankaempfen': 3604, 'kredit': 3605, 'briefmarken': 3606, 'zurueckgetan': 3607, 'bedankte': 3608, 'krone': 3609, \"kann's\": 3610, 'pferdchen': 3611, 'pony': 3612, 'schwimmbecken': 3613, 'geschaemt': 3614, 'zugesehen': 3615, 'lieder': 3616, 'ausrufen': 3617, 'uebernehme': 3618, \"sag's\": 3619, 'krueppel': 3620, 'patientin': 3621, 'suechtiger': 3622, 'waisenkind': 3623, 'depressiv': 3624, 'gang': 3625, 'fledermaus': 3626, 'auseinander': 3627, 'ueblen': 3628, 'geruch': 3629, 'frostig': 3630, 'wehtun': 3631, 'abends': 3632, 'pilz': 3633, 'unmenschlich': 3634, 'mitternacht': 3635, 'veraltet': 3636, 'bullen': 3637, 'schiech': 3638, 'entsperrt': 3639, 'freigeschaltet': 3640, \"kontrollier's\": 3641, \"kontrolliert's\": 3642, 'verzieht': 3643, 'verschwindet': 3644, 'beschaeftige': 3645, 'trab': 3646, 'klettere': 3647, 'klettern': 3648, 'klettert': 3649, 'fasse': 3650, 'paddel': 3651, 'paddeln': 3652, 'belassen': 3653, 'sterblich': 3654, 'kreischte': 3655, 'gefressen': 3656, 'nacken': 3657, 'nackenschmerzen': 3658, 'oh': 3659, 'beliebige': 3660, 'bademantel': 3661, 'schinden': 3662, 'wiederschauen': 3663, 'bueckte': 3664, 'verabscheute': 3665, 'falsche': 3666, 'hoffnungen': 3667, 'vorgemacht': 3668, 'hoerig': 3669, 'schnelle': 3670, 'wut': 3671, 'blauaeugig': 3672, 'ruehrt': 3673, 'zusammenbleiben': 3674, 'feg': 3675, 'duschen': 3676, 'abfuehren': 3677, 'geschmaecker': 3678, 'unsres': 3679, 'unsrer': 3680, 'unsre': 3681, 'saturn': 3682, 'faktum': 3683, 'mythos': 3684, 'baum': 3685, 'machbar': 3686, 'laeutete': 3687, 'zerbrach': 3688, 'siegten': 3689, 'gesiegt': 3690, 'kuendigten': 3691, 'asiaten': 3692, 'zornig': 3693, 'dummkoepfe': 3694, 'spione': 3695, 'wortspiel': 3696, 'wahnsinn': 3697, 'himmelt': 3698, 'applaudierte': 3699, 'spendete': 3700, 'geklatscht': 3701, 'applaudiert': 3702, 'gestand': 3703, 'beichtete': 3704, 'ertuechtigte': 3705, 'ertuechtigt': 3706, 'hochschule': 3707, 'abschluss': 3708, 'geknuddelt': 3709, 'chaot': 3710, 'weichei': 3711, 'parteiisch': 3712, 'pummel': 3713, 'gerissen': 3714, 'doest': 3715, 'schlummert': 3716, 'witzelt': 3717, 'liebevoll': 3718, 'raffiniert': 3719, 'gesellte': 3720, 'protestierte': 3721, 'schubste': 3722, 'aufgezogen': 3723, 'wankte': 3724, 'davor': 3725, 'achtzig': 3726, 'aufdringlich': 3727, 'wortkarg': 3728, 'angetrunken': 3729, 'gen': 3730, 'durchfallen': 3731, 'erstaunlich': 3732, 'erstickt': 3733, 'wuergen': 3734, 'fuessen': 3735, 'geschnarcht': 3736, 'rueckendeckung': 3737, 'bohnere': 3738, 'fussboden': 3739, \"haben's\": 3740, 'halfen': 3741, 'einziehen': 3742, \"werden's\": 3743, 'schaemen': 3744, 'rechtsanwaelte': 3745, 'stocken': 3746, 'gewinner': 3747, 'wurdest': 3748, 'zirkus': 3749, 'zugetragen': 3750, 'uebriggeblieben': 3751, 'uebrig': 3752, 'zuschieben': 3753, 'hilfst': 3754, 'irrst': 3755, 'aussichtslos': 3756, 'schaust': 3757, 'scheitern': 3758, 'befangen': 3759, 'beliebst': 3760, 'belieben': 3761, 'verlierst': 3762, 'bezahlst': 3763, 'niedertraechtig': 3764, 'cola': 3765, 'kleinen': 3766, 'gestatten': 3767, 'junggeselle': 3768, 'voegeln': 3769, 'boote': 3770, 'untergehen': 3771, 'bereiten': 3772, 'behilflich': 3773, 'gesellen': 3774, 'reinige': 3775, 'gras': 3776, 'mitten': 3777, 'halbiere': 3778, 'entzwei': 3779, 'sagtet': 3780, \"mach'\": 3781, 'erledige': 3782, 'schnurren': 3783, 'leugnest': 3784, 'betreibst': 3785, 'betreibt': 3786, 'betreiben': 3787, 'recyceln': 3788, 'recycelst': 3789, 'recycelt': 3790, 'aergern': 3791, 'beschwer': 3792, 'kuemmer': 3793, 'gehorch': 3794, 'fuehren': 3795, 'bezahlten': 3796, 'bildet': 3797, 'bilden': 3798, 'federn': 3799, 'entledige': 3800, 'ran': 3801, 'leih': 3802, 'helfende': 3803, 'kuess': 3804, 'frohes': 3805, 'glueckliches': 3806, 'geburtstag': 3807, 'feiertage': 3808, 'gebeten': 3809, 'kandidiert': 3810, 'zwoelf': 3811, 'zierlich': 3812, 'rasch': 3813, 'fleischhauer': 3814, 'samurai': 3815, 'jasager': 3816, 'autor': 3817, 'exknacki': 3818, 'pantoffelheld': 3819, 'schlichtweg': 3820, 'versteck': 3821, 'hoehe': 3822, 'vergeht': 3823, 'breit': 3824, 'entgegen': 3825, 'geheult': 3826, 'ungar': 3827, 'ungarin': 3828, 'leihe': 3829, 'deinetwegen': 3830, 'verwendung': 3831, 'gebrauchen': 3832, 'durchgefallen': 3833, 'gluecksspiel': 3834, 'kapier': 3835, 'tomaten': 3836, 'folgte': 3837, 'garantiere': 3838, 'herbeigewinkt': 3839, 'herbeigewunken': 3840, 'montage': 3841, 'absolut': 3842, 'buegeln': 3843, 'karaoke': 3844, 'spinat': 3845, 'pick': 3846, 'up': 3847, 'camion': 3848, 'gedaechtnis': 3849, 'gedaechtnisverlust': 3850, 'ehefrau': 3851, 'schloesser': 3852, 'angle': 3853, 'ketchup': 3854, 'mahjong': 3855, 'mahjongg': 3856, 'austern': 3857, 'saschimi': 3858, 'meeresfruechte': 3859, 'geschichten': 3860, 'unterhalte': 3861, 'sonne': 3862, 'angel': 3863, 'harvard': 3864, 'mandeln': 3865, 'nachtisch': 3866, 'lasagne': 3867, 'ipod': 3868, 'partys': 3869, 'puzzles': 3870, 'sonnenuntergaenge': 3871, 'universitaet': 3872, 'zigarette': 3873, 'briefmarke': 3874, 'unterstuetzung': 3875, 'hickse': 3876, 'bekenne': 3877, 'zuechte': 3878, 'vieh': 3879, 'rauskommt': 3880, 'koechin': 3881, 'verkaufe': 3882, 'diene': 3883, 'franzoesischunterricht': 3884, 'gepaeck': 3885, 'hundewelpen': 3886, 'gehaltserhoehung': 3887, 'popcorn': 3888, 'ventilator': 3889, 'kuendigen': 3890, 'angeheuert': 3891, 'brillentraeger': 3892, 'anzeigen': 3893, 'runterkommen': 3894, 'hinfahren': 3895, 'schimpfen': 3896, 'unterrichten': 3897, 'anstrengen': 3898, 'anfaengerin': 3899, 'anfaenger': 3900, 'botaniker': 3901, 'botanikerin': 3902, 'diabetikerin': 3903, 'musiker': 3904, 'musikerin': 3905, 'netter': 3906, 'pazifist': 3907, 'pazifistin': 3908, 'strafgefangener': 3909, 'strafgefangene': 3910, 'gefangener': 3911, 'verkaeufer': 3912, 'handelsvertreter': 3913, 'vertreter': 3914, 'teenager': 3915, 'leider': 3916, 'atheist': 3917, 'offizier': 3918, 'todmuede': 3919, 'weitsichtig': 3920, 'amuesiere': 3921, 'analphabet': 3922, 'analphabetin': 3923, 'bereite': 3924, 'aufgibt': 3925, 'optimistisch': 3926, 'uebergewicht': 3927, 'eintopf': 3928, 'baer': 3929, 'wink': 3930, 'becher': 3931, 'gebuehr': 3932, 'absicht': 3933, 'schneite': 3934, 'bestens': 3935, 'mittwoch': 3936, 'abgemacht': 3937, 'klassiker': 3938, 'neuer': 3939, 'bewundernswert': 3940, 'ueberfall': 3941, 'hinterhalt': 3942, 'beleidigung': 3943, 'brandneu': 3944, 'koestlich': 3945, 'anderes': 3946, 'inkorrekt': 3947, 'sinnlos': 3948, 'ueberfluessig': 3949, 'hauptverkehrszeit': 3950, 'hauptgeschaeftszeit': 3951, 'stosszeit': 3952, 'entscheidung': 3953, 'geschieht': 3954, 'knaben': 3955, 'vorangehen': 3956, 'anschliessen': 3957, 'dazusetzen': 3958, 'hinsetzen': 3959, 'habgierig': 3960, 'doofkoepfe': 3961, 'schlicht': 3962, 'brust': 3963, 'gelenke': 3964, 'handgelenk': 3965, 'bruellte': 3966, 'kenntnis': 3967, 'begreifst': 3968, 'begreift': 3969, 'begreifen': 3970, 'schmoll': 3971, 'zeug': 3972, 'melodie': 3973, 'entferne': 3974, 'weitergehen': 3975, 'unterlassen': 3976, 'gestiegen': 3977, 'wissenschaft': 3978, 'ernaehren': 3979, 'hinreissend': 3980, 'schwaermt': 3981, 'erwuergt': 3982, 'genarrt': 3983, 'krankenpflegerin': 3984, 'unbeholfen': 3985, 'bach': 3986, 'tippt': 3987, 'schaedlich': 3988, 'murren': 3989, 'schnueffeln': 3990, 'sprache': 3991, 'ideal': 3992, 'zauberhaft': 3993, 'selbstverstaendlichkeit': 3994, 'turm': 3995, 'satz': 3996, 'plastik': 3997, 'typisch': 3998, 'bellte': 3999, 'stieg': 4000, 'leckt': 4001, 'abgefahren': 4002, 'applaudierten': 4003, 'spendeten': 4004, 'hassten': 4005, 'ruinierten': 4006, 'tuechtig': 4007, 'defekt': 4008, 'trost': 4009, 'ueberleg': 4010, 'aergert': 4011, 'beisst': 4012, 'bissiger': 4013, 'test': 4014, 'haarstraeubend': 4015, 'aufzustehen': 4016, 'naeherte': 4017, 'zusammengeschlagen': 4018, 'radelte': 4019, 'zusammengebrochen': 4020, 'notruf': 4021, 'beklagt': 4022, 'beklagte': 4023, 'unterbrochen': 4024, 'zeichnet': 4025, 'gegraben': 4026, 'muehelos': 4027, 'anruf': 4028, 'dicker': 4029, 'gehackt': 4030, 'zuechtete': 4031, 'baut': 4032, 'dr': 4033, 'phil': 4034, 'asthma': 4035, 'skorbut': 4036, 'ratten': 4037, 'reh': 4038, 'beachtete': 4039, 'radfahrer': 4040, 'motorradfahrer': 4041, 'trinker': 4042, 'zwerg': 4043, 'waechter': 4044, 'wachmann': 4045, 'verlierer': 4046, 'bergmann': 4047, 'minenarbeiter': 4048, 'pilot': 4049, 'rabbi': 4050, 'schaemt': 4051, 'durchschnittlich': 4052, 'ungelenk': 4053, 'gefuehllos': 4054, 'vielschichtig': 4055, 'zynisch': 4056, 'fragwuerdig': 4057, 'staubt': 4058, 'schnappt': 4059, 'griesgram': 4060, 'abscheulich': 4061, 'intensiv': 4062, 'idol': 4063, 'neutral': 4064, 'nickt': 4065, 'obszoen': 4066, 'praezise': 4067, 'uebersinnlich': 4068, 'radikal': 4069, 'oberflaechlich': 4070, 'aehnlich': 4071, 'klueger': 4072, 'schluchzt': 4073, 'vollgegessen': 4074, 'taktvoll': 4075, 'neckisch': 4076, 'beruehrt': 4077, 'unbewegt': 4078, 'boesartig': 4079, 'jammert': 4080, 'willig': 4081, 'gaehnt': 4082, 'pistolen': 4083, 'nuesse': 4084, 'thunfisch': 4085, 'ueberblick': 4086, 'weggezogen': 4087, 'gezwickt': 4088, 'umgeschrieben': 4089, 'anscheinend': 4090, 'netten': 4091, 'verschlief': 4092, 'gerochen': 4093, 'gestartet': 4094, 'tatenlos': 4095, 'hintergrund': 4096, 'zurueckgehalten': 4097, 'notizen': 4098, 'hinters': 4099, 'abwesend': 4100, 'flennte': 4101, 'muerrisch': 4102, 'zweiter': 4103, 'naehen': 4104, 'naehte': 4105, 'spiesser': 4106, 'beissen': 4107, 'grinsen': 4108, 'bauchgefuehl': 4109, 'suessigkeit': 4110, 'charme': 4111, 'ewig': 4112, 'zogen': 4113, 'mordsspass': 4114, 'streit': 4115, 'bauernhof': 4116, 'gaeste': 4117, 'helden': 4118, 'kapitulierten': 4119, 'meldeten': 4120, 'schi': 4121, 'sternhagelvoll': 4122, 'begraben': 4123, 'anmalen': 4124, 'genies': 4125, 'gedanke': 4126, 'passieren': 4127, 'nuetzt': 4128, 'verletzen': 4129, 'beisammen': 4130, 'wisch': 4131, 'wischen': 4132, 'widern': 4133, 'schmeichelst': 4134, 'verstoert': 4135, 'wirds': 4136, 'schaffst': 4137, 'feiges': 4138, 'fit': 4139, 'nichtsnutze': 4140, 'fuenfzehn': 4141, 'kenterte': 4142, 'guckst': 4143, 'rentner': 4144, 'laechelst': 4145, 'stattdessen': 4146, 'baelle': 4147, 'rund': 4148, 'bienen': 4149, 'ehemann': 4150, 'tuete': 4151, 'anschaffen': 4152, 'beteiligen': 4153, 'danach': 4154, 'auslassen': 4155, \"du's\": 4156, 'kartons': 4157, 'klatsche': 4158, 'klapp': 4159, 'grunde': 4160, 'protestiert': 4161, 'gemundet': 4162, 'liebtest': 4163, 'meintest': 4164, 'meinten': 4165, 'grabe': 4166, 'tiefes': 4167, 'rap': 4168, 'erinnerst': 4169, 'moechtet': 4170, 'snob': 4171, 'knausrig': 4172, 'flipp': 4173, 'betrink': 4174, 'beleidigen': 4175, 'unterbrich': 4176, 'uebertreib': 4177, 'widersetze': 4178, 'streu': 4179, 'erschiesse': 4180, 'necke': 4181, 'schaf': 4182, \"sich's\": 4183, 'beteten': 4184, 'werkzeugkiste': 4185, 'goenne': 4186, 'goennen': 4187, 'goennt': 4188, 'fackelt': 4189, 'morgengrauen': 4190, 'erfuellte': 4191, 'holte': 4192, 'strebsam': 4193, 'aethiopier': 4194, 'unmoeglicher': 4195, 'traeumer': 4196, 'medium': 4197, 'geisteskraefte': 4198, 'kraefte': 4199, 'schlauer': 4200, 'fussballfreund': 4201, 'vertreibt': 4202, 'radios': 4203, 'whisky': 4204, 'zugewinkt': 4205, 'wellenreiten': 4206, 'komoediant': 4207, 'studentenverbindung': 4208, 'verbindungsstudent': 4209, 'unsozial': 4210, 'bekommt': 4211, 'querschnittsgelaehmt': 4212, 'helium': 4213, 'hellte': 4214, 'heiterer': 4215, 'ausweis': 4216, 'getuerkt': 4217, 'hisst': 4218, 'segel': 4219, 'dreiviertel': 4220, 'gewagt': 4221, 'fuehlen': 4222, 'enden': 4223, 'totmuede': 4224, 'einzudoesen': 4225, 'spanien': 4226, 'sitze': 4227, 'entkleide': 4228, 'schaetzen': 4229, 'geruelpst': 4230, 'verleugnen': 4231, 'zurueckkehren': 4232, 'ungeschehen': 4233, 'beriet': 4234, 'kontaktiert': 4235, 'tode': 4236, 'schippe': 4237, 'fiebrig': 4238, 'isoliert': 4239, 'uebergangen': 4240, 'aussen': 4241, 'gefuehlt': 4242, 'erhalten': 4243, 'beerdigungen': 4244, 'politik': 4245, 'waschbaeren': 4246, 'reptilien': 4247, 'kriechtiere': 4248, 'esel': 4249, 'laptop': 4250, 'trommel': 4251, 'ellbogen': 4252, 'grad': 4253, 'gespieben': 4254, 'andauernd': 4255, 'typen': 4256, 'gelernt': 4257, 'cartoons': 4258, 'zeichentrickfilme': 4259, 'auberginen': 4260, 'broccoli': 4261, 'komoedien': 4262, 'western': 4263, 'zufuegen': 4264, 'eventuell': 4265, 'unbedingt': 4266, 'internet': 4267, 'brauch': 4268, 'eimer': 4269, 'taschentuch': 4270, 'koffein': 4271, 'konzentrieren': 4272, 'treffe': 4273, 'rechnungen': 4274, 'bevorzuge': 4275, 'aufgesetzt': 4276, 'ausgelesen': 4277, 'empfehle': 4278, 'geahnt': 4279, 'ahnte': 4280, 'giraffe': 4281, 'muster': 4282, 'schwedisch': 4283, 'unterstuetzte': 4284, 'duschbad': 4285, 'duschte': 4286, 'dasselbe': 4287, 'zuschauen': 4288, 'gedemuetigt': 4289, 'gingest': 4290, 'dauern': 4291, 'nachgeben': 4292, 'einlenken': 4293, 'notiert': 4294, 'aufgeschrieben': 4295, 'limonade': 4296, 'ausprobieren': 4297, 'bliebe': 4298, 'umhoeren': 4299, \"ruf'\": 4300, 'begleite': 4301, 'informieren': 4302, 'nachschlagen': 4303, 'erwaehnen': 4304, 'bestelle': 4305, 'jackson': 4306, 'tv': 4307, 'fernsehsuechtig': 4308, 'zimmermann': 4309, 'schreiner': 4310, 'tischler': 4311, 'chauffeur': 4312, 'stadtmaedchen': 4313, 'kommunistin': 4314, 'gluecklicher': 4315, 'masochist': 4316, 'nachteule': 4317, 'nachtmensch': 4318, 'nachtschwaermer': 4319, 'risikofreudig': 4320, 'abenteuerlustig': 4321, 'sternzeichen': 4322, 'wassermann': 4323, 'ingenieur': 4324, 'optimistin': 4325, 'langerweile': 4326, 'farbenblind': 4327, 'farbenfehlsichtig': 4328, 'verstopfung': 4329, 'kooperiere': 4330, 'tagtraeumen': 4331, 'altere': 4332, 'eigener': 4333, 'kurzsichtig': 4334, 'schlitzohr': 4335, 'diebin': 4336, 'schreie': 4337, 'ersetzbar': 4338, 'spontan': 4339, 'copilot': 4340, 'gucke': 4341, 'kellner': 4342, 'faxen': 4343, 'dicke': 4344, 'plappert': 4345, 'infiziert': 4346, 'aerztin': 4347, 'zebra': 4348, 'erlaubt': 4349, 'cafe': 4350, 'ethisch': 4351, 'umgehauen': 4352, 'kaputtgegangen': 4353, 'eigenartig': 4354, 'erscheinen': 4355, 'schmeckte': 4356, 'suessen': 4357, 'geschmack': 4358, 'herrschte': 4359, 'frost': 4360, 'schmerzlos': 4361, 'gelohnt': 4362, 'spassig': 4363, \"'ne\": 4364, 'arge': 4365, 'sackgasse': 4366, 'fasan': 4367, 'akzeptabel': 4368, 'annehmbar': 4369, 'spottbillig': 4370, 'verdientes': 4371, 'schoenes': 4372, 'unpassend': 4373, 'irrelevant': 4374, 'belanglos': 4375, 'belang': 4376, 'zauberei': 4377, 'irrefuehrend': 4378, 'bombe': 4379, 'langt': 4380, 'erschreckend': 4381, 'uebe': 4382, 'uebt': 4383, 'bewahren': 4384, 'knete': 4385, 'teig': 4386, 'blei': 4387, 'metall': 4388, 'hinterlasse': 4389, 'hinterlassen': 4390, 'verlasst': 4391, 'zitronen': 4392, 'vortritt': 4393, 'saufen': 4394, 'betrinken': 4395, 'giessen': 4396, 'improvisieren': 4397, 'zuckerschlecken': 4398, 'ponyhof': 4399, 'entscheide': 4400, 'verkleinere': 4401, 'kleiner': 4402, 'verwitwet': 4403, 'unvermeidlich': 4404, 'benoetigt': 4405, 'jeans': 4406, 'eingelaufen': 4407, 'quietschen': 4408, 'erkennen': 4409, 'oktober': 4410, 'streiche': 4411, 'zaun': 4412, 'schael': 4413, 'druecke': 4414, 'druckknopf': 4415, 'puzzlespielen': 4416, 'zurueckweisung': 4417, 'donut': 4418, 'naturwissenschaften': 4419, 'sichere': 4420, 'hinauswill': 4421, 'schicke': 4422, 'haie': 4423, 'vergab': 4424, 'huebsche': 4425, 'botengaenge': 4426, 'sturkopf': 4427, 'gekniffen': 4428, 'erstach': 4429, 'fuehrte': 4430, 'fesselte': 4431, 'gefesselt': 4432, 'weisse': 4433, 'durchsetzungsvermoegen': 4434, 'aufrecht': 4435, 'spanisch': 4436, 'stiehl': 4437, 'unterlasse': 4438, 'wimmern': 4439, 'aspirin': 4440, 'geschichtchen': 4441, 'freiheraus': 4442, 'kostete': 4443, 'pagode': 4444, 'betrug': 4445, 'bezweifeln': 4446, 'zweifelhaft': 4447, 'gewiss': 4448, 'zeugs': 4449, 'feucht': 4450, 'knurrte': 4451, 'erstarb': 4452, 'blaetter': 4453, 'eroetete': 4454, 'meer': 4455, 'wind': 4456, 'keinerlei': 4457, 'redeten': 4458, 'piloten': 4459, 'scheren': 4460, 'vermissten': 4461, 'fehlte': 4462, 'besuchten': 4463, 'dreckig': 4464, 'lagen': 4465, 'denen': 4466, 'vettern': 4467, 'praktikanten': 4468, 'assistenzaerzte': 4469, 'pfirsich': 4470, 'schicksal': 4471, 'stumpfsinnig': 4472, 'unnuetz': 4473, 'neuigkeit': 4474, 'beschleunigte': 4475, 'beschleunigt': 4476, 'handelte': 4477, 'betrunkener': 4478, 'dazugegeben': 4479, 'zugegeben': 4480, 'ums': 4481, 'genehmigt': 4482, 'lippe': 4483, 'malen': 4484, 'verfolgte': 4485, 'ausgecheckt': 4486, 'hinterging': 4487, 'entworfen': 4488, 'gejagt': 4489, 'ekelt': 4490, 'duckte': 4491, 'uebertrieb': 4492, 'uebertreibt': 4493, 'verstummte': 4494, 'ungutes': 4495, 'gefuehl': 4496, 'narren': 4497, 'wehrte': 4498, 'flippte': 4499, 'geaergert': 4500, 'panisch': 4501, 'husten': 4502, 'buckel': 4503, 'gewisser': 4504, 'hicks': 4505, 'ausgesorgt': 4506, 'mehrere': 4507, 'moeglichkeiten': 4508, 'durchhaltevermoegen': 4509, 'oper': 4510, 'barbier': 4511, 'eremit': 4512, 'legende': 4513, 'pirat': 4514, 'toepfer': 4515, 'priester': 4516, 'wahnsinniger': 4517, 'rapper': 4518, 'einsteiger': 4519, 'seemann': 4520, 'senior': 4521, 'wellenreiter': 4522, 'schneider': 4523, 'kauz': 4524, 'schraeger': 4525, 'agnostisch': 4526, 'magersuechtig': 4527, 'hustet': 4528, 'glaubwuerdig': 4529, 'kultiviert': 4530, 'geistesgestoert': 4531, 'untreu': 4532, 'umstaenden': 4533, 'entsprechend': 4534, 'unschluessig': 4535, 'durchnaesst': 4536, 'gebildet': 4537, 'beredt': 4538, 'ueberzeugend': 4539, 'flieht': 4540, 'ausgehungert': 4541, 'kraftvoll': 4542, 'kichert': 4543, 'grinst': 4544, 'stoehnt': 4545, 'beinen': 4546, 'heimwehkrank': 4547, 'humorvoll': 4548, 'unreif': 4549, 'involviert': 4550, 'klopft': 4551, 'verwaltet': 4552, 'barmherzig': 4553, 'neurotisch': 4554, 'pervers': 4555, 'rational': 4556, 'reformiert': 4557, 'rastlos': 4558, 'verrichtet': 4559, 'einkaeufe': 4560, 'uebermuetig': 4561, 'aufgekratzt': 4562, 'niest': 4563, 'temperamentvoll': 4564, 'schwitzt': 4565, 'taktlos': 4566, 'talentiert': 4567, 'endstadium': 4568, 'kitzelig': 4569, 'unermuedlich': 4570, 'entnervt': 4571, 'kleinlich': 4572, 'smart': 4573, 'erschien': 4574, 'freilassung': 4575, 'kaution': 4576, 'gerichtsverhandlung': 4577, 'guckte': 4578, 'weitergegessen': 4579, 'weiterbewegt': 4580, 'weiterversucht': 4581, 'blues': 4582, 'salsa': 4583, 'streichholz': 4584, 'kaltem': 4585, 'verfroren': 4586, 'flott': 4587, 'festgefahren': 4588, 'chili': 4589, 'supergerne': 4590, 'aussagen': 4591, 'moeglicherweise': 4592, 'vermisste': 4593, 'ausserhalb': 4594, 'ueberreagiert': 4595, 'verschied': 4596, 'rugby': 4597, 'aufgenommen': 4598, 'bereitwillig': 4599, 'stoisch': 4600, 'tenor': 4601, 'schlueckchen': 4602, 'bewahrte': 4603, 'badete': 4604, 'fotos': 4605, 'dressiert': 4606, 'warnte': 4607, 'unnachgiebig': 4608, 'geblendet': 4609, 'gemobbt': 4610, 'niedergeschmettert': 4611, 'trotzig': 4612, 'bedenken': 4613, 'betagt': 4614, 'ausweichend': 4615, 'nachsichtig': 4616, 'unartig': 4617, 'keuchte': 4618, 'schluchzte': 4619, 'niedergestochen': 4620, 'taser': 4621, 'beschossen': 4622, 'begleitete': 4623, 'empfaengt': 4624, 'benuetzen': 4625, 'medaille': 4626, 'einwendungen': 4627, 'ruehren': 4628, 'handschuhe': 4629, 'experte': 4630, 'sank': 4631, 'gesunken': 4632, 'saukomisch': 4633, 'verantwortlich': 4634, 'abstossend': 4635, 'gaehnen': 4636, 'schaltet': 4637, 'schalten': 4638, 'waende': 4639, 'hintrittst': 4640, 'zehen': 4641, 'nennen': 4642, 'machten': 4643, 'erklaerten': 4644, 'rohen': 4645, 'picknicks': 4646, 'waffeln': 4647, 'fachleute': 4648, 'duschten': 4649, 'zurueckhaben': 4650, 'wiederhaben': 4651, 'lager': 4652, 'aufschlagen': 4653, 'kampieren': 4654, 'kooperativ': 4655, 'hinkommen': 4656, 'angler': 4657, 'stammen': 4658, 'nachbarn': 4659, 'optimisten': 4660, 'verwandte': 4661, 'gefuerchtet': 4662, 'riesiger': 4663, 'schlips': 4664, 'grober': 4665, 'motivation': 4666, 'wieviel': 4667, 'schiefgelaufen': 4668, 'worum': 4669, 'gewinn': 4670, 'beruflich': 4671, 'ruder': 4672, 'beschimpft': 4673, 'ergab': 4674, 'fragten': 4675, 'waerest': 4676, 'betreffende': 4677, 'versteckst': 4678, 'dahinter': 4679, 'schoenheit': 4680, 'sexist': 4681, 'stoerst': 4682, 'nervst': 4683, 'enervierend': 4684, 'blutest': 4685, 'bluten': 4686, 'taeuschst': 4687, 'betruegst': 4688, 'schummelst': 4689, 'partnerin': 4690, 'bemitleidenswert': 4691, 'abgelaufen': 4692, 'weniger': 4693, 'bellt': 4694, 'des': 4695, 'wegs': 4696, 'sicherung': 4697, 'durchgebrannt': 4698, 'unsichtbar': 4699, 'zauberer': 4700, 'sportlich': 4701, 'erroetest': 4702, 'erroeten': 4703, 'erroetet': 4704, \"interessiert's\": 4705, 'atlantis': 4706, 'achtung': 4707, 'fluegel': 4708, 'zuegele': 4709, 'atme': 4710, 'putzt': 4711, 'putzen': 4712, 'fordere': 4713, 'irgendwann': 4714, 'leihen': 4715, 'irgendjemand': 4716, 'erlauben': 4717, 'kirschen': 4718, 'schliesst': 4719, 'graben': 4720, 'grabt': 4721, 'riemen': 4722, 'ueberquere': 4723, 'gedraengt': 4724, 'gebellt': 4725, 'je': 4726, 'kanntest': 4727, \"riech'\": 4728, 'weinst': 4729, 'lehnst': 4730, 'pasta': 4731, 'ruhst': 4732, 'tofu': 4733, 'besitzen': 4734, 'solch': 4735, 'unbesorgt': 4736, 'taeuscht': 4737, 'stoer': 4738, 'rase': 4739, 'belaestige': 4740, 'weitermachst': 4741, 'laerme': 4742, 'treib': 4743, 'spielchen': 4744, 'bescheiss': 4745, 'verpetz': 4746, 'verpetzen': 4747, 'linie': 4748, 'erfuellung': 4749, 'eiweis': 4750, 'sprangen': 4751, 'merkten': 4752, 'aufgefallen': 4753, 'fuell': 4754, 'beende': 4755, 'befolge': 4756, 'welchem': 4757, 'weiche': 4758, 'zurueckgekehrt': 4759, 'wunderschoenen': 4760, 'aufgegessen': 4761, 'verstiess': 4762, 'fremdgegangen': 4763, 'mittags': 4764, 'kurzem': 4765, 'erfuellt': 4766, 'faszinierte': 4767, 'rueckwaerts': 4768, 'reparierte': 4769, 'flog': 4770, 'graues': 4771, 'picasso': 4772, 'langes': 4773, 'verabscheut': 4774, 'hoeflicher': 4775, 'bub': 4776, 'aggressiv': 4777, 'italiener': 4778, 'ungesellig': 4779, 'heimgekommen': 4780, 'tagebuch': 4781, 'diesbezueglich': 4782, 'orangen': 4783, 'tierlieb': 4784, 'fischt': 4785, 'hisste': 4786, 'flagge': 4787, 'geschuettelt': 4788, 'stunde': 4789, 'geworfen': 4790, 'belog': 4791, 'wendete': 4792, 'schlafanzug': 4793, 'sonntags': 4794, 'erwachsener': 4795, 'rettungsschwimmer': 4796, 'nichtraucher': 4797, 'kluger': 4798, 'gespannt': 4799, 'senil': 4800, 'klasse': 4801, 'knauserig': 4802, 'brieftasche': 4803, 'plaedieren': 4804, 'sonderbar': 4805, 'ungemein': 4806, 'verkuehlung': 4807, 'katarrh': 4808, 'pflichte': 4809, 'runtergehauen': 4810, 'auslaender': 4811, 'brasilien': 4812, 'norwegen': 4813, 'brate': 4814, 'hexe': 4815, 'verbeugte': 4816, 'erretten': 4817, 'behaupten': 4818, 'bunt': 4819, 'zurueckhalten': 4820, 'eingefangen': 4821, 'sammle': 4822, 'entgegengetreten': 4823, 'erwaegung': 4824, 'gezogen': 4825, 'pizzalieferant': 4826, 'pizzalieferantin': 4827, 'akzeptiere': 4828, 'keins': 4829, 'fremd': 4830, 'allesesser': 4831, 'gebauchpinselt': 4832, 'beschuetzt': 4833, 'erquickt': 4834, 'beruf': 4835, 'geholt': 4836, 'impfen': 4837, 'gruende': 4838, 'rechner': 4839, 'heuchelei': 4840, 'granate': 4841, 'roller': 4842, 'wenige': 4843, 'heuschnupfen': 4844, 'sodbrennen': 4845, 'anweisungen': 4846, 'zukunft': 4847, 'lungenentzuendung': 4848, 'zwanzig': 4849, 'erzielt': 4850, 'erzielte': 4851, 'muehsam': 4852, 'rechte': 4853, 'uebung': 4854, 'erlaubte': 4855, 'hereinzukommen': 4856, 'samstage': 4857, 'astrologie': 4858, 'schokolade': 4859, 'elefanten': 4860, 'frische': 4861, 'frischen': 4862, 'roman': 4863, 'popmusik': 4864, 'ueberraschungen': 4865, 'achte': 4866, 'suchte': 4867, 'pfund': 4868, 'fotoapparat': 4869, 'astronomie': 4870, 'sternenkunde': 4871, 'dinosaurier': 4872, 'gartenarbeit': 4873, 'eiscreme': 4874, 'afroamerikanische': 4875, 'kueche': 4876, 'seelennahrung': 4877, 'wald': 4878, 'weggeschickt': 4879, 'begangen': 4880, 'angefertigt': 4881, 'kochte': 4882, 'spaghetti': 4883, 'brechstange': 4884, 'brecheisen': 4885, 'umschlaege': 4886, 'ueberlistet': 4887, 'passte': 4888, 'schlagzeug': 4889, 'sprit': 4890, 'tinte': 4891, 'times': 4892, 'etikett': 4893, 'hoffen': 4894, 'erkannte': 4895, 'erkannt': 4896, 'rieb': 4897, 'ausgegeben': 4898, 'regelmaessig': 4899, 'selbstgespraeche': 4900, 'scheidung': 4901, 'i': 4902, 'martini': 4903, 'aufessen': 4904, 'frustriert': 4905, 'damals': 4906, 'erniedrigt': 4907, 'siegreich': 4908, 'uebersetzen': 4909, 'freuen': 4910, 'hierbleiben': 4911, 'bestrafen': 4912, 'allem': 4913, 'verzeihen': 4914, 'langgehen': 4915, 'abnehmen': 4916, 'abwasch': 4917, 'fuenfundzwanzig': 4918, 'mentor': 4919, 'buerger': 4920, 'vereinigten': 4921, 'staaten': 4922, 'groggy': 4923, 'langschlaefer': 4924, 'fotonarr': 4925, 'hobbyfotograf': 4926, 'alleinerziehende': 4927, 'verdrossen': 4928, 'beidhaenderin': 4929, 'beidhaender': 4930, 'haenden': 4931, 'gleichermassen': 4932, 'ehemaliger': 4933, 'marinesoldat': 4934, 'vermeide': 4935, 'uebertreibe': 4936, 'high': 4937, \"werd'\": 4938, 'dicht': 4939, 'dachboden': 4940, 'lobby': 4941, 'foyer': 4942, 'quicklebendig': 4943, 'ueberdrehe': 4944, 'stolz': 4945, 'komplett': 4946, 'bankrott': 4947, 'pensioniert': 4948, 'gestresst': 4949, 'vorurteilsfrei': 4950, 'riesendurst': 4951, 'diener': 4952, 'ausfindig': 4953, 'verfuegbar': 4954, 'selbstsicher': 4955, 'erreichbar': 4956, 'ansteckend': 4957, 'blume': 4958, 'verkaeuflich': 4959, 'euro': 4960, 'interessierte': 4961, 'stockdunkel': 4962, 'springt': 4963, 'bedeutung': 4964, 'erscheint': 4965, 'warmer': 4966, 'dauert': 4967, 'gruppe': 4968, 'handy': 4969, 'angewohnheit': 4970, 'messe': 4971, 'traumjob': 4972, 'vollmond': 4973, 'verrueckte': 4974, 'sonnenblume': 4975, 'sonniger': 4976, 'windiger': 4977, 'illusion': 4978, 'mild': 4979, 'bitterkalt': 4980, 'klart': 4981, 'denkbar': 4982, 'hergeholt': 4983, 'gefroren': 4984, 'reine': 4985, 'glueckssache': 4986, 'waschtag': 4987, 'affenfleisch': 4988, 'trick': 4989, 'gesetzeswidrig': 4990, 'sofa': 4991, 'regnerisch': 4992, 'bedauerlich': 4993, 'deren': 4994, 'transparent': 4995, 'unnoetig': 4996, 'bitter': 4997, 'klebrig': 4998, 'schwuel': 4999, 'stickig': 5000, 'privatvergnuegen': 5001, 'asien': 5002, 'nenn': 5003, 'nenne': 5004, 'werk': 5005, 'kuehlen': 5006, 'ruebergehen': 5007, \"lass'\": 5008, 'steck': 5009, 'zuende': 5010, 'unsterblich': 5011, 'senke': 5012, 'senken': 5013, 'leiser': 5014, 'sende': 5015, 'mars': 5016, 'wildfang': 5017, 'verpasste': 5018, 'nachher': 5019, 'deutschen': 5020, 'floehe': 5021, 'entzuendet': 5022, 'zuckt': 5023, 'goldfisch': 5024, 'winzig': 5025, 'posteingang': 5026, 'langweilige': 5027, 'socken': 5028, 'bauchschmerzen': 5029, 'magenschmerzen': 5030, 'geldbeutel': 5031, 'schlaegt': 5032, 'interessieren': 5033, 'unterrichtete': 5034, 'nix': 5035, 'gehorche': 5036, 'wenden': 5037, 'pumpen': 5038, 'pump': 5039, 'beschweren': 5040, 'begrabbeln': 5041, 'eher': 5042, 'wirklichkeit': 5043, 'rom': 5044, 'italien': 5045, 'griff': 5046, 'angelaufen': 5047, 'bezwungen': 5048, 'bezwang': 5049, 'verachtete': 5050, 'trockenes': 5051, 'vergoetterte': 5052, 'vergoettert': 5053, 'beleidigte': 5054, 'pianistin': 5055, 'laessig': 5056, 'hartnaeckig': 5057, 'angeschaut': 5058, 'zurueckgewiesen': 5059, 'geritten': 5060, 'ritt': 5061, 'lebewohl': 5062, 'angelaechelt': 5063, 'wucht': 5064, 'haeuschen': 5065, 'schlangen': 5066, 'deswegen': 5067, 'starte': 5068, 'meckern': 5069, 'unterlass': 5070, 'tagtraeumerei': 5071, 'hauen': 5072, 'einzumischen': 5073, 'anzuluegen': 5074, 'beluegen': 5075, 'erschrecken': 5076, 'prahlen': 5077, 'sekkieren': 5078, 'supermann': 5079, 'pille': 5080, 'vorkehrungen': 5081, 'vorsichtsmassnahmen': 5082, 'trefft': 5083, 'sicherheitsvorkehrungen': 5084, 'jemandem': 5085, 'neuigkeiten': 5086, 'hingehauen': 5087, 'ergibt': 5088, 'ungeschickt': 5089, 'vermeiden': 5090, 'umgehen': 5091, 'ueberfragt': 5092, 'freudige': 5093, 'irrsinnig': 5094, 'eitles': 5095, 'geschwaetz': 5096, 'unheilbar': 5097, 'lachhaft': 5098, 'angelegenheit': 5099, 'weder': 5100, 'punkt': 5101, 'aergerlich': 5102, 'schaedel': 5103, 'zweiundvierzig': 5104, 'batterie': 5105, 'beule': 5106, 'riesig': 5107, 'gequietscht': 5108, 'ziege': 5109, 'meckerte': 5110, 'loeste': 5111, 'gilt': 5112, 'mikrophon': 5113, 'untergegangen': 5114, 'party': 5115, 'fete': 5116, 'beendet': 5117, 'vereist': 5118, 'rau': 5119, 'stuermisch': 5120, 'schalter': 5121, 'zwillinge': 5122, 'ertoente': 5123, 'verheilte': 5124, 'ausgehoben': 5125, 'achten': 5126, 'entdeckt': 5127, 'gedankt': 5128, 'verschlossen': 5129, 'wiederkehren': 5130, 'klatschnass': 5131, 'knabe': 5132, 'kritisch': 5133, 'trainer': 5134, 'schwachsinn': 5135, 'sabotage': 5136, \"tom's\": 5137, 'stoppte': 5138, 'ereignen': 5139, 'schluchzen': 5140, 'broetchen': 5141, 'tagesanbruch': 5142, 'hervor': 5143, 'angerannt': 5144, 'gewechselt': 5145, 'eindeutig': 5146, 'kletterte': 5147, 'konzentrierte': 5148, 'berichtigte': 5149, 'verbesserte': 5150, 'korrigierte': 5151, 'erschaffen': 5152, 'dekoriert': 5153, 'einwaende': 5154, 'h': 5155, 'kleidet': 5156, 'weiteten': 5157, 'verliebte': 5158, 'behandelt': 5159, 'verzeiht': 5160, 'vergibt': 5161, 'briet': 5162, 'taetowieren': 5163, 'vision': 5164, 'alibi': 5165, 'hausdiener': 5166, 'geschwuer': 5167, 'charisma': 5168, 'huehner': 5169, 'fertiggemacht': 5170, 'sommersprossen': 5171, 'schlafstoerungen': 5172, 'leukaemie': 5173, 'trunkenheit': 5174, 'steuer': 5175, 'belangt': 5176, 'sueden': 5177, 'sirenen': 5178, 'hoffte': 5179, 'summte': 5180, 'verletzte': 5181, 'beeindruckte': 5182, 'marie': 5183, 'marys': 5184, 'hochstapler': 5185, 'schlagzeuger': 5186, 'schlagzeugspieler': 5187, 'faschist': 5188, 'turner': 5189, 'pianist': 5190, 'installateur': 5191, 'realist': 5192, 'makler': 5193, 'immobilienmakler': 5194, 'fluechtling': 5195, 'lastwagenfahrer': 5196, 'lasterfahrer': 5197, 'sager': 5198, 'jodler': 5199, 'anpassungsfaehig': 5200, 'selbstbewusst': 5201, 'abkoemmlich': 5202, 'bartlos': 5203, 'bilingual': 5204, 'verpflichtet': 5205, 'zuvorkommend': 5206, 'betruegerisch': 5207, 'defensiv': 5208, 'delirium': 5209, 'anspruchsvoll': 5210, 'unehrlich': 5211, 'exzentrisch': 5212, 'effektiv': 5213, 'effizient': 5214, 'woanders': 5215, 'emotional': 5216, 'energisch': 5217, 'ausgezeichnet': 5218, 'ueberschwaenglich': 5219, 'fanatisch': 5220, 'tollkuehn': 5221, 'grotesk': 5222, 'murrt': 5223, 'urkomisch': 5224, 'ehrenhaft': 5225, 'hitzkoepfig': 5226, 'unlogisch': 5227, 'unparteiisch': 5228, 'teilnahmslos': 5229, 'fortschritte': 5230, 'bande': 5231, 'unaufrichtig': 5232, 'luestern': 5233, 'legendaer': 5234, 'unbarmherzig': 5235, 'miserabel': 5236, 'murmelt': 5237, 'obsessiv': 5238, 'organisiert': 5239, 'fuehrer': 5240, 'freimuetig': 5241, 'uebergluecklich': 5242, 'perplex': 5243, 'besessen': 5244, 'praktisch': 5245, 'bedauert': 5246, 'zurueckhaltend': 5247, 'serioes': 5248, 'belastbar': 5249, 'sarkastisch': 5250, 'geheimnisvoll': 5251, 'sensibel': 5252, 'schamlos': 5253, 'hemdlos': 5254, 'skizziert': 5255, 'hockt': 5256, 'suspendiert': 5257, 'unentschieden': 5258, 'alleinstehend': 5259, 'unbeliebt': 5260, 'begriff': 5261, 'wacht': 5262, 'pfeift': 5263, 'jude': 5264, 'langweiler': 5265, 'familienmitglied': 5266, 'aufgefuehrt': 5267, 'stabil': 5268, 'drogeneinfluss': 5269, 'geniest': 5270, 'zugeschaut': 5271, 'wuehlte': 5272, 'packte': 5273, 'weitergesungen': 5274, 'textete': 5275, 'menschenkenntnis': 5276, 'naturfreund': 5277, 'ponys': 5278, 'boxt': 5279, 'vorn': 5280, 'angesehen': 5281, 'geistreich': 5282, 'wackelig': 5283, 'anmerken': 5284, 'genickt': 5285, 'belauscht': 5286, 'zwickte': 5287, 'bridge': 5288, 'vorhergesagt': 5289, 'senden': 5290, 'druck': 5291, 'wahrscheinlich': 5292, 'gekuendigt': 5293, 'romane': 5294, 'achtet': 5295, 'baumstamm': 5296, 'nachrichten': 5297, 'punktete': 5298, 'herrisch': 5299, 'widerstandsfaehig': 5300, 'gutzugehen': 5301, 'scheusslich': 5302, 'stiehlt': 5303, 'erstarrt': 5304, 'vorgeschlagen': 5305, 'flucht': 5306, 'yogaunterricht': 5307, 'kitzelte': 5308, 'quaelte': 5309, 'veraenderung': 5310, 'landwirt': 5311, 'plapperte': 5312, 'bluffte': 5313, 'prahlte': 5314, 'aufgeraeumt': 5315, 'aufmunternd': 5316, 'besiegt': 5317, 'deportiert': 5318, 'treulos': 5319, 'traeumte': 5320, 'ekstatisch': 5321, 'hingerichtet': 5322, 'starke': 5323, 'begnadigt': 5324, 'freigelassen': 5325, 'ausgewaehlt': 5326, 'hungerte': 5327, 'unrasiert': 5328, 'beobachtete': 5329, 'jogging': 5330, 'bettnaesser': 5331, 'wettlauf': 5332, 'bemerken': 5333, 'akzeptieren': 5334, 'zusagen': 5335, 'einwilligen': 5336, 'wahnhafte': 5337, 'stoerungen': 5338, 'erbleichte': 5339, 'hysterisch': 5340, 'innovativ': 5341, 'klingelte': 5342, 'ungeschlagen': 5343, 'folter': 5344, 'auszubrechen': 5345, 'biegen': 5346, 'heizung': 5347, 'lauft': 5348, 'giess': 5349, 'fingen': 5350, 'verlangen': 5351, 'stoerten': 5352, 'verabscheuen': 5353, 'vernahmen': 5354, 'schuesse': 5355, 'armen': 5356, 'wollten': 5357, 'kennengelernt': 5358, 'irrten': 5359, 'gestrandet': 5360, 'sieg': 5361, 'davongetragen': 5362, 'schrieben': 5363, 'nachfolgen': 5364, 'klassenkameraden': 5365, 'nicken': 5366, 'osten': 5367, 'analphabeten': 5368, 'furchtsam': 5369, 'verwandt': 5370, 'umzingelt': 5371, 'ausprobiert': 5372, 'aussicht': 5373, 'ausblick': 5374, 'lustiger': 5375, 'schwere': 5376, 'heuchler': 5377, 'kluges': 5378, 'kerlchen': 5379, 'besagt': 5380, 'wovon': 5381, 'ziehst': 5382, 'wunsch': 5383, 'zoll': 5384, 'sitzplatz': 5385, 'mami': 5386, 'festgenommen': 5387, 'hergebracht': 5388, 'dame': 5389, 'benachrichtigt': 5390, 'gesperrt': 5391, 'eigelbe': 5392, 'gelb': 5393, 'vermasselt': 5394, 'kucken': 5395, 'leistest': 5396, 'steckenpferd': 5397, 'schienst': 5398, 'loegest': 5399, 'loeget': 5400, 'loegen': 5401, 'freundin': 5402, 'starrsinnig': 5403, 'schreist': 5404, 'versicherung': 5405, 'vogelscheuche': 5406, 'wertlos': 5407, 'regnete': 5408, 'heftig': 5409, 'heftiger': 5410, 'gewitter': 5411, 'unwetter': 5412, 'fuegen': 5413, 'einzige': 5414, 'ammoniak': 5415, 'lauge': 5416, 'bettwanzen': 5417, 'vampire': 5418, 'vampir': 5419, 'zweisprachig': 5420, 'buergermeister': 5421, 'polizisten': 5422, 'schutzmann': 5423, 'meide': 5424, 'schlechten': 5425, 'umgang': 5426, 'warnung': 5427, 'dieben': 5428, 'bauen': 5429, 'nester': 5430, 'faszinieren': 5431, 'ausleihen': 5432, 'bissen': 5433, 'verschieben': 5434, 'springschnurspringen': 5435, 'schleife': 5436, 'binden': 5437, 'rausschmeissen': 5438, 'feuern': 5439, 'champagner': 5440, 'kokain': 5441, 'vergleiche': 5442, 'fakten': 5443, 'rueckgeld': 5444, 'verhandlung': 5445, 'vertagt': 5446, 'lohnt': 5447, 'verteidigt': 5448, 'genannt': 5449, 'rausgeworfen': 5450, 'gezeichnet': 5451, 'wohntest': 5452, 'wohntet': 5453, 'wohnten': 5454, 'alarmanlage': 5455, 'ameisen': 5456, 'zuliebe': 5457, 'stimmst': 5458, 'rose': 5459, 'verkaufst': 5460, 'sahne': 5461, 'gewogen': 5462, 'relevant': 5463, 'palme': 5464, 'erwaehne': 5465, 'wiederhol': 5466, 'wiederholen': 5467, 'menschenseele': 5468, 'droh': 5469, 'erde': 5470, 'mutti': 5471, 'mamma': 5472, 'busse': 5473, 'jede': 5474, 'krischen': 5475, 'ueberlebten': 5476, 'butter': 5477, 'heiz': 5478, 'grill': 5479, 'teuer': 5480, 'brat': 5481, 'bratet': 5482, 'braten': 5483, 'bettfertig': 5484, 'decken': 5485, 'tempotuch': 5486, 'geradeaus': 5487, 'damen': 5488, 'hamster': 5489, 'gelaeutet': 5490, 'heu': 5491, 'wohlbehalten': 5492, 'rasend': 5493, 'erpresste': 5494, 'erpresst': 5495, 'blockierte': 5496, 'neigte': 5497, 'stock': 5498, 'aufgetaucht': 5499, 'letztes': 5500, 'verstorben': 5501, 'abgekratzt': 5502, 'abgegeben': 5503, 'lotus': 5504, 'pickup': 5505, 'vase': 5506, 'lebensunterhalt': 5507, 'erfroren': 5508, 'schachtel': 5509, 'steckte': 5510, 'tipp': 5511, 'ermuedete': 5512, 'erholte': 5513, 'genas': 5514, 'ergriff': 5515, 'erhaengte': 5516, 'haengte': 5517, 'blonde': 5518, 'blondes': 5519, 'gruene': 5520, 'reue': 5521, 'geborener': 5522, 'mutiger': 5523, 'draufgaenger': 5524, 'dramatiker': 5525, 'physiker': 5526, 'echter': 5527, 'wissenschaftler': 5528, 'ungefaehr': 5529, 'unrettbar': 5530, 'inkompetent': 5531, 'unfaehig': 5532, 'einflussreich': 5533, 'vertrauenswuerdig': 5534, 'momentan': 5535, 'sms': 5536, 'beging': 5537, 'selbstmord': 5538, 'hals': 5539, 'abgereist': 5540, 'kyoto': 5541, 'osaka': 5542, 'ehre': 5543, 'augenlicht': 5544, 'offenbar': 5545, 'beiseite': 5546, 'hob': 5547, 'meilen': 5548, 'chinesisch': 5549, 'russisch': 5550, 'aufgeblieben': 5551, 'stahl': 5552, 'lehrt': 5553, 'freigenommen': 5554, 'uebte': 5555, 'verrat': 5556, 'verstossen': 5557, 'uebertreten': 5558, 'strahlte': 5559, 'aeusserst': 5560, 'rastete': 5561, 'hinwegkommen': 5562, 'studienanfaenger': 5563, 'anfangssemestern': 5564, 'hochverschuldet': 5565, 'georgia': 5566, 'georgien': 5567, 'knast': 5568, 'sahnt': 5569, 'vertrauensselig': 5570, 'naegel': 5571, 'bitteschoen': 5572, 'adresse': 5573, 'gelaender': 5574, 'schatz': 5575, 'waer': 5576, 'wende': 5577, 'pflichtete': 5578, 'vierundzwanzig': 5579, 'ecuador': 5580, 'england': 5581, 'taeglich': 5582, 'vw': 5583, 'bulli': 5584, 'kaktus': 5585, 'hybrid': 5586, 'ploetzlich': 5587, 'finger': 5588, 'buerstete': 5589, 'anbrennen': 5590, 'wachschutz': 5591, 'wachdienst': 5592, 'chopin': 5593, 'heiraten': 5594, 'einordnen': 5595, 'aufs': 5596, 'ertrage': 5597, 'umentschieden': 5598, 'gekriegt': 5599, 'rueckverguetung': 5600, 'besseres': 5601, 'universitaetsabschluss': 5602, 'gekannt': 5603, 'steuererklaerung': 5604, 'werfe': 5605, 'pool': 5606, 'bedauere': 5607, 'durchgefahren': 5608, 'klausur': 5609, 'schliesslich': 5610, 'letztendlich': 5611, 'schal': 5612, 'ausweg': 5613, 'note': 5614, 'reifenpanne': 5615, 'umsonst': 5616, 'blauen': 5617, 'eingefallen': 5618, 'unfall': 5619, 'interviews': 5620, 'vorstellungsgespraeche': 5621, 'regnerische': 5622, 'regentage': 5623, 'wueste': 5624, 'tochter': 5625, 'schnelles': 5626, 'schnellen': 5627, 'rosa': 5628, 'rosafarbenes': 5629, 'vorschlag': 5630, 'loesung': 5631, 'ohrenschmerzen': 5632, 'altes': 5633, 'mundgeruch': 5634, 'vorstehende': 5635, 'sonnenbrille': 5636, 'nichten': 5637, 'unterbrach': 5638, 'marine': 5639, 'hierhergezogen': 5640, 'fliegt': 5641, 'selbstvertrauen': 5642, 'herausforderungen': 5643, 'volkslieder': 5644, 'rockmusik': 5645, 'sandwiches': 5646, 'farben': 5647, 'modell': 5648, 'komfortabel': 5649, 'scharfes': 5650, 'photo': 5651, 'feilsche': 5652, 'hingerissen': 5653, \"hab'\": 5654, 'serie': 5655, 'minuten': 5656, 'kalender': 5657, 'tastatur': 5658, 'zahnpasta': 5659, 'verschlafe': 5660, 'football': 5661, 'zerrung': 5662, 'zugezogen': 5663, 'ampel': 5664, 'treibstoff': 5665, 'huegel': 5666, 'empfohlen': 5667, 'sonnenaufgang': 5668, 'geschaut': 5669, 'mitteilen': 5670, 'unterschrieb': 5671, 'formular': 5672, 'kaefer': 5673, 'verschluckt': 5674, 'erdkundelehrer': 5675, 'erdkundelehrerin': 5676, 'deucht': 5677, 'highway': 5678, 'fernstrasse': 5679, 'geraecht': 5680, 'gewoehnlich': 5681, 'wasserbett': 5682, 'teller': 5683, 'hereinkommen': 5684, 'jacke': 5685, 'mitgefuehl': 5686, 'sympathie': 5687, 'pfadfinder': 5688, 'schuechternes': 5689, 'fremder': 5690, 'entmutigt': 5691, 'daemmerte': 5692, 'ueberwaeltigt': 5693, 'gewaschen': 5694, 'getraeumt': 5695, 'herumgeschaekert': 5696, 'aufgewacht': 5697, 'lotto': 5698, 'anziehen': 5699, 'arbeitszeit': 5700, 'ausfuehren': 5701, 'besorge': 5702, 'zurueckgeben': 5703, 'hinkriegen': 5704, 'freilassen': 5705, 'ueberraschen': 5706, 'verstaendigen': 5707, 'zahnarzt': 5708, 'opa': 5709, 'frisoer': 5710, 'verheirateter': 5711, 'geduldiger': 5712, 'voelliges': 5713, 'wrack': 5714, 'astronom': 5715, 'einzelkind': 5716, 'gewissenhaft': 5717, 'erwarte': 5718, 'baff': 5719, 'springe': 5720, 'unersetzlich': 5721, 'austauschbar': 5722, 'lediglich': 5723, 'vermute': 5724, 'fanatikerin': 5725, 'spielerin': 5726, 'ungeheuer': 5727, 'monster': 5728, 'hellsehen': 5729, 'kuenstlerin': 5730, 'eigentuemer': 5731, 'eigentuemerin': 5732, 'besitzer': 5733, 'besitzerin': 5734, 'allzu': 5735, 'dienstmaedchen': 5736, 'altmodisch': 5737, 'siebten': 5738, 'wolke': 5739, 'atem': 5740, 'direkt': 5741, 'mitbewohner': 5742, 'mitbewohnerin': 5743, 'vertrieben': 5744}\n"
          ],
          "name": "stdout"
        }
      ]
    },
    {
      "cell_type": "code",
      "metadata": {
        "id": "VQcusxb7qb2H"
      },
      "source": [
        "sentences_to_tokens = tokenizer.texts_to_sequences(lines_German)"
      ],
      "execution_count": 14,
      "outputs": []
    },
    {
      "cell_type": "code",
      "metadata": {
        "colab": {
          "base_uri": "https://localhost:8080/"
        },
        "id": "eFxge8-HuNHP",
        "outputId": "1ee6d9e9-5faf-4b26-ccbb-f20b49f150c4"
      },
      "source": [
        "import random\n",
        "#printing 5 sentences at random\n",
        "for i in range(5):\n",
        "    index = random.randint(0,len(lines_English)-1)\n",
        "    print(\"Example \",i,\"\\n\")\n",
        "    print(\"English sentence: \", lines_English[index])\n",
        "    print(\"German sentence: \", lines_German[index])\n",
        "    print(\"Tokenized German sentence: \", sentences_to_tokens[index],\"\\n\")"
      ],
      "execution_count": 15,
      "outputs": [
        {
          "output_type": "stream",
          "text": [
            "Example  0 \n",
            "\n",
            "English sentence:  you aren't alone .\n",
            "German sentence:  <start> sie sind nicht allein . <end>\n",
            "Tokenized German sentence:  [2, 9, 24, 13, 140, 4, 3] \n",
            "\n",
            "Example  1 \n",
            "\n",
            "English sentence:  do you know where ?\n",
            "German sentence:  <start> weisst du , wo ? <end>\n",
            "Tokenized German sentence:  [2, 534, 14, 26, 84, 8, 3] \n",
            "\n",
            "Example  2 \n",
            "\n",
            "English sentence:  i prefer coffee .\n",
            "German sentence:  <start> ich bevorzuge kaffee . <end>\n",
            "Tokenized German sentence:  [2, 5, 4275, 319, 4, 3] \n",
            "\n",
            "Example  3 \n",
            "\n",
            "English sentence:  what caused that ?\n",
            "German sentence:  <start> was hat das verursacht ? <end>\n",
            "Tokenized German sentence:  [2, 39, 17, 12, 2917, 8, 3] \n",
            "\n",
            "Example  4 \n",
            "\n",
            "English sentence:  we laughed .\n",
            "German sentence:  <start> wir lachten . <end>\n",
            "Tokenized German sentence:  [2, 18, 1827, 4, 3] \n",
            "\n"
          ],
          "name": "stdout"
        }
      ]
    },
    {
      "cell_type": "code",
      "metadata": {
        "colab": {
          "base_uri": "https://localhost:8080/"
        },
        "id": "8GxT48Avto1S",
        "outputId": "b1e84f64-a5e8-4a8d-b862-aa577c5548b5"
      },
      "source": [
        "max_len = len(max(sentences_to_tokens, key=len)) #length of longest sentence\n",
        "print(max_len)"
      ],
      "execution_count": 16,
      "outputs": [
        {
          "output_type": "stream",
          "text": [
            "14\n"
          ],
          "name": "stdout"
        }
      ]
    },
    {
      "cell_type": "code",
      "metadata": {
        "colab": {
          "base_uri": "https://localhost:8080/"
        },
        "id": "JS__LOGxzaTq",
        "outputId": "13865bb4-a74a-4685-eaa1-bf410c6ed3ea"
      },
      "source": [
        "#pad the sequences\n",
        "from tensorflow.keras.preprocessing.sequence import pad_sequences\n",
        "padded_sequences = pad_sequences(sentences_to_tokens, maxlen=14, padding='post', value=0)\n",
        "padded_sequences.shape #(batch, sequence_length)"
      ],
      "execution_count": 17,
      "outputs": [
        {
          "output_type": "execute_result",
          "data": {
            "text/plain": [
              "(20000, 14)"
            ]
          },
          "metadata": {
            "tags": []
          },
          "execution_count": 17
        }
      ]
    },
    {
      "cell_type": "code",
      "metadata": {
        "colab": {
          "base_uri": "https://localhost:8080/"
        },
        "id": "3t3EdkOH027I",
        "outputId": "df46d19b-3133-4b30-ef7a-2643e508c1d8"
      },
      "source": [
        "#batch into a numpy arrray\n",
        "import numpy as np\n",
        "#padded_sequences = np.expand_dims(padded_sequences, -1) #add feature dimension\n",
        "print(type(padded_sequences))\n",
        "print(padded_sequences.shape)"
      ],
      "execution_count": 18,
      "outputs": [
        {
          "output_type": "stream",
          "text": [
            "<class 'numpy.ndarray'>\n",
            "(20000, 14)\n"
          ],
          "name": "stdout"
        }
      ]
    },
    {
      "cell_type": "markdown",
      "metadata": {
        "id": "foL7Ihs21iaP"
      },
      "source": [
        "## 2. Prepare the data"
      ]
    },
    {
      "cell_type": "markdown",
      "metadata": {
        "id": "-9rCEE4z1iaQ"
      },
      "source": [
        "#### Load the embedding layer\n",
        "As part of the dataset preproceessing for this project, you will use a pre-trained English word embedding module from TensorFlow Hub. The URL for the module is https://tfhub.dev/google/tf2-preview/nnlm-en-dim128-with-normalization/1.\n",
        "\n",
        "This embedding takes a batch of text tokens in a 1-D tensor of strings as input. It then embeds the separate tokens into a 128-dimensional space. \n",
        "\n",
        "The code to load and test the embedding layer is provided for you below.\n",
        "\n",
        "**NB:** this model can also be used as a sentence embedding module. The module will process each token by removing punctuation and splitting on spaces. It then averages the word embeddings over a sentence to give a single embedding vector. However, we will use it only as a word embedding module, and will pass each word in the input sentence as a separate token."
      ]
    },
    {
      "cell_type": "code",
      "metadata": {
        "id": "ywZgobCh1iaR"
      },
      "source": [
        "# Load embedding module from Tensorflow Hub\n",
        "\n",
        "embedding_layer = hub.KerasLayer(\"https://tfhub.dev/google/tf2-preview/nnlm-en-dim128/1\", \n",
        "                                 output_shape=[128], input_shape=[], dtype=tf.string)"
      ],
      "execution_count": 19,
      "outputs": []
    },
    {
      "cell_type": "code",
      "metadata": {
        "id": "TiY8QEDp1iaV",
        "colab": {
          "base_uri": "https://localhost:8080/"
        },
        "outputId": "cc098472-5483-4ff5-e58d-abfc610db71a"
      },
      "source": [
        "# Test the layer\n",
        "\n",
        "embedding_layer(tf.constant([\"these\", \"aren't\", \"the\", \"droids\", \"you're\", \"looking\", \"for\"])).shape"
      ],
      "execution_count": 20,
      "outputs": [
        {
          "output_type": "execute_result",
          "data": {
            "text/plain": [
              "TensorShape([7, 128])"
            ]
          },
          "metadata": {
            "tags": []
          },
          "execution_count": 20
        }
      ]
    },
    {
      "cell_type": "markdown",
      "metadata": {
        "id": "KjuzXc-z1iaY"
      },
      "source": [
        "You should now prepare the training and validation Datasets.\n",
        "\n",
        "* Create a random training and validation set split of the data, reserving e.g. 20% of the data for validation (NB: each English dataset example is a single sentence string, and each German dataset example is a sequence of padded integer tokens).\n",
        "* Load the training and validation sets into a tf.data.Dataset object, passing in a tuple of English and German data for both training and validation sets.\n",
        "* Create a function to map over the datasets that splits each English sentence at spaces. Apply this function to both Dataset objects using the map method. _Hint: look at the tf.strings.split function._\n",
        "* Create a function to map over the datasets that embeds each sequence of English words using the loaded embedding layer/model. Apply this function to both Dataset objects using the map method.\n",
        "* Create a function to filter out dataset examples where the English sentence is greater than or equal to than 13 (embedded) tokens in length. Apply this function to both Dataset objects using the filter method.\n",
        "* Create a function to map over the datasets that pads each English sequence of embeddings with some distinct padding value before the sequence, so that each sequence is length 13. Apply this function to both Dataset objects using the map method. _Hint: look at the tf.pad function. You can extract a Tensor shape using tf.shape; you might also find the tf.math.maximum function useful._\n",
        "* Batch both training and validation Datasets with a batch size of 16.\n",
        "* Print the `element_spec` property for the training and validation Datasets. \n",
        "* Using the Dataset `.take(1)` method, print the shape of the English data example from the training Dataset.\n",
        "* Using the Dataset `.take(1)` method, print the German data example Tensor from the validation Dataset."
      ]
    },
    {
      "cell_type": "code",
      "metadata": {
        "id": "Q-BUJOl_1iaZ"
      },
      "source": [
        "# creating training and validation data\n",
        "\n",
        "m = len(lines_English) #total number of examples\n",
        "train_size = int(m * 0.8)\n",
        "val_size = int(m * 0.2)\n",
        "rand_indx = list(enumerate(np.random.permutation(m)))\n",
        "\n",
        "data_eng = []\n",
        "data_ger = []\n",
        "\n",
        "# random shuffling of dataset\n",
        "for i, j in rand_indx:\n",
        "    data_eng.append(lines_English[j])\n",
        "    data_ger.append(padded_sequences[j])\n",
        "\n",
        "data_eng = np.array(data_eng)\n",
        "data_ger = np.array(data_ger)\n",
        "\n",
        "# create training dataset\n",
        "train_data_eng = data_eng[:train_size]\n",
        "train_data_ger = data_ger[:train_size]\n",
        "\n",
        "train_dataset = tf.data.Dataset.from_tensor_slices((train_data_eng, train_data_ger))\n",
        "\n",
        "# create test dataset\n",
        "val_data_eng = data_eng[train_size:]\n",
        "val_data_ger = data_ger[train_size:]\n",
        "\n",
        "val_dataset = tf.data.Dataset.from_tensor_slices((val_data_eng, val_data_ger))"
      ],
      "execution_count": 21,
      "outputs": []
    },
    {
      "cell_type": "code",
      "metadata": {
        "colab": {
          "base_uri": "https://localhost:8080/"
        },
        "id": "azIfLwo1E_K8",
        "outputId": "f9915b59-0c9c-4b38-cbd8-707dd2d73f95"
      },
      "source": [
        "print(train_dataset)\n",
        "print(type(data_eng))"
      ],
      "execution_count": 22,
      "outputs": [
        {
          "output_type": "stream",
          "text": [
            "<TensorSliceDataset shapes: ((), (14,)), types: (tf.string, tf.int32)>\n",
            "<class 'numpy.ndarray'>\n"
          ],
          "name": "stdout"
        }
      ]
    },
    {
      "cell_type": "markdown",
      "metadata": {
        "id": "JU-HW2zhY-y7"
      },
      "source": [
        "<font size=2>The x and y taken by the lambda function represent the english data and the german data of each example</font>"
      ]
    },
    {
      "cell_type": "code",
      "metadata": {
        "id": "D7bn3mRs1iaj",
        "colab": {
          "base_uri": "https://localhost:8080/"
        },
        "outputId": "75457985-85d5-4ee9-f11c-434df3de9bd6"
      },
      "source": [
        "# function for splitting english sentences\n",
        "def split_eng(dataset):\n",
        "    return dataset.map(lambda x, y: [tf.strings.split(x, ' '), y]) \n",
        "\n",
        "train_dataset = split_eng(train_dataset)\n",
        "val_dataset = split_eng(val_dataset)\n",
        "\n",
        "print(train_dataset)\n",
        "print(val_dataset)\n"
      ],
      "execution_count": 23,
      "outputs": [
        {
          "output_type": "stream",
          "text": [
            "<MapDataset shapes: ((None,), (14,)), types: (tf.string, tf.int32)>\n",
            "<MapDataset shapes: ((None,), (14,)), types: (tf.string, tf.int32)>\n"
          ],
          "name": "stdout"
        }
      ]
    },
    {
      "cell_type": "code",
      "metadata": {
        "id": "q0Fdso381ian",
        "colab": {
          "base_uri": "https://localhost:8080/"
        },
        "outputId": "61734e47-e045-4f38-e4b3-7fe3143199ea"
      },
      "source": [
        "# function to map English word sequences to their respective embedding vectors\n",
        "def eng_embed(dataset):\n",
        "    return dataset.map(lambda x, y: [embedding_layer(x), y])\n",
        "\n",
        "train_dataset_embed = eng_embed(train_dataset)\n",
        "val_dataset_embed = eng_embed(val_dataset)\n",
        "\n",
        "print(train_dataset_embed)\n",
        "print(val_dataset_embed)"
      ],
      "execution_count": 24,
      "outputs": [
        {
          "output_type": "stream",
          "text": [
            "<MapDataset shapes: ((None, 128), (14,)), types: (tf.float32, tf.int32)>\n",
            "<MapDataset shapes: ((None, 128), (14,)), types: (tf.float32, tf.int32)>\n"
          ],
          "name": "stdout"
        }
      ]
    },
    {
      "cell_type": "code",
      "metadata": {
        "colab": {
          "base_uri": "https://localhost:8080/"
        },
        "id": "Glop_wvdkul4",
        "outputId": "ec68c296-e7b0-41d1-a0f0-b6862f70531d"
      },
      "source": [
        "k = iter(train_dataset_embed)\n",
        "print(k.get_next()[0].shape)"
      ],
      "execution_count": 25,
      "outputs": [
        {
          "output_type": "stream",
          "text": [
            "(4, 128)\n"
          ],
          "name": "stdout"
        }
      ]
    },
    {
      "cell_type": "code",
      "metadata": {
        "id": "epy9xnxbzbIi"
      },
      "source": [
        "# function to filter out examples where no. of english tokens>= 13\n",
        "def func(x, m):\n",
        "    print(type(x))\n",
        "    print(len(x))\n",
        "    return len(x)<=m\n",
        "    \n",
        "def filter_dataset(dataset, max_tokens=13):\n",
        "    return dataset.filter(lambda x, y: func(x, max_tokens))"
      ],
      "execution_count": 28,
      "outputs": []
    },
    {
      "cell_type": "code",
      "metadata": {
        "colab": {
          "base_uri": "https://localhost:8080/"
        },
        "id": "efrQHzwYpyAN",
        "outputId": "e8f7034d-90e5-46e4-8d16-edb778ece091"
      },
      "source": [
        "train_dataset_filtered = filter_dataset(train_dataset_embed)\n",
        "val_dataset_filtered = filter_dataset(val_dataset_embed)"
      ],
      "execution_count": 29,
      "outputs": [
        {
          "output_type": "stream",
          "text": [
            "<class 'tensorflow.python.framework.ops.Tensor'>\n",
            "Tensor(\"strided_slice:0\", shape=(), dtype=int32)\n",
            "<class 'tensorflow.python.framework.ops.Tensor'>\n",
            "Tensor(\"strided_slice:0\", shape=(), dtype=int32)\n"
          ],
          "name": "stdout"
        }
      ]
    },
    {
      "cell_type": "code",
      "metadata": {
        "colab": {
          "base_uri": "https://localhost:8080/"
        },
        "id": "S1Ivjzf5qA2A",
        "outputId": "35425827-fc5d-4fee-8af5-9b1593aa461b"
      },
      "source": [
        "print(train_dataset_filtered)"
      ],
      "execution_count": 30,
      "outputs": [
        {
          "output_type": "stream",
          "text": [
            "<FilterDataset shapes: ((None, 128), (14,)), types: (tf.float32, tf.int32)>\n"
          ],
          "name": "stdout"
        }
      ]
    },
    {
      "cell_type": "code",
      "metadata": {
        "colab": {
          "base_uri": "https://localhost:8080/"
        },
        "id": "Fpnx-Nfup7PO",
        "outputId": "3f480353-f63c-42ad-8300-b3d9d3860d64"
      },
      "source": [
        "p = iter(train_dataset_filtered) # creating an iterator from train_dataset_filtered\n",
        "print(np.shape(p.get_next()[0])) # display shape of the english sentence embedding of the first element\n",
        "print(p)"
      ],
      "execution_count": 31,
      "outputs": [
        {
          "output_type": "stream",
          "text": [
            "(4, 128)\n",
            "<tensorflow.python.data.ops.iterator_ops.OwnedIterator object at 0x7fe5801a4710>\n"
          ],
          "name": "stdout"
        }
      ]
    },
    {
      "cell_type": "markdown",
      "metadata": {
        "id": "Nq9NI_1-UKeb"
      },
      "source": [
        "<font size=2>tf.pad pads a tensor according to the paddings you specify. paddings is an integer tensor with shape [n, 2], where n is the rank of tensor. For each dimension D of input, paddings[D, 0] indicates how many values to add before the contents of tensor in that dimension, and paddings[D, 1] indicates how many values to add after the contents of tensor in that dimension. If mode is \"REFLECT\" then both paddings[D, 0] and paddings[D, 1] must be no greater than tensor.dim_size(D) - 1. If mode is \"SYMMETRIC\" then both paddings[D, 0] and paddings[D, 1] must be no greater than tensor.dim_size(D).<br/><br/>\n",
        "\n",
        "The padded size of each dimension D of the output is:<br/>\n",
        "paddings[D, 0] + tensor.dim_size(D) + paddings[D, 1]<br/>This is why padding with 13 0s gives a size of 13+#(tokens before) and so we have to return the last 13 tokens from the padded sequence.<br/><br/>\n",
        "For example, this paddings: [[1, 2], [1, 1], [2, 2], [3, 1]], indicates the rank of the tensor is 4(4 dimensions). For the 0 dimension we add 1 row ahead and 2 rows behind([1, 2]); the 1 dimension we add 1 column ahead and 1 column behind([1, 1]); the dimension 2, 2 ahead and 2 behind([2, 2]); the last dimension, 3 ahead and 1 behind([3, 1]). </font>"
      ]
    },
    {
      "cell_type": "code",
      "metadata": {
        "id": "9KGZl1EGLu9N"
      },
      "source": [
        "# padding english sentences using tf.pad\n",
        "def pad_English(dataset, pad_len):\n",
        "    padding = tf.constant([[pad_len, 0], [0, 0]])\n",
        "    return dataset.map(lambda x, y: [tf.pad(x, padding, \"CONSTANT\")[-13: , :], y])"
      ],
      "execution_count": 34,
      "outputs": []
    },
    {
      "cell_type": "code",
      "metadata": {
        "id": "leCd02PtVTKf"
      },
      "source": [
        "train_dataset_eng_padded = pad_English(train_dataset_filtered, 13)\n",
        "val_dataset_eng_padded = pad_English(val_dataset_filtered, 13)"
      ],
      "execution_count": 36,
      "outputs": []
    },
    {
      "cell_type": "code",
      "metadata": {
        "colab": {
          "base_uri": "https://localhost:8080/"
        },
        "id": "SUpeVRtAV1Zf",
        "outputId": "6e68bbe5-aab3-4570-fab4-4ee7785947a0"
      },
      "source": [
        "p = iter(train_dataset_eng_padded)\n",
        "print(np.shape(p.get_next()[0]))"
      ],
      "execution_count": 37,
      "outputs": [
        {
          "output_type": "stream",
          "text": [
            "(13, 128)\n"
          ],
          "name": "stdout"
        }
      ]
    },
    {
      "cell_type": "code",
      "metadata": {
        "id": "P9tsUdi0U24a"
      },
      "source": [
        "batch_size = 16"
      ],
      "execution_count": 38,
      "outputs": []
    },
    {
      "cell_type": "code",
      "metadata": {
        "id": "5EgQ5F4U2n6Y"
      },
      "source": [
        "# creating batches of 16\n",
        "\n",
        "train_data_batched = train_dataset_eng_padded.batch(batch_size=batch_size)\n",
        "val_data_batched = val_dataset_eng_padded.batch(batch_size=batch_size)"
      ],
      "execution_count": 39,
      "outputs": []
    },
    {
      "cell_type": "code",
      "metadata": {
        "colab": {
          "base_uri": "https://localhost:8080/"
        },
        "id": "KVU84wCU3ZOt",
        "outputId": "b0a356f6-b422-4ee4-c753-20f4b0677bff"
      },
      "source": [
        "print(train_data_batched)\n",
        "print(val_data_batched)"
      ],
      "execution_count": 40,
      "outputs": [
        {
          "output_type": "stream",
          "text": [
            "<BatchDataset shapes: ((None, None, 128), (None, 14)), types: (tf.float32, tf.int32)>\n",
            "<BatchDataset shapes: ((None, None, 128), (None, 14)), types: (tf.float32, tf.int32)>\n"
          ],
          "name": "stdout"
        }
      ]
    },
    {
      "cell_type": "code",
      "metadata": {
        "colab": {
          "base_uri": "https://localhost:8080/"
        },
        "id": "YPrrTxmQ3gTS",
        "outputId": "320586e2-4669-44f6-9b84-a41628510900"
      },
      "source": [
        "print(\"Specification of training data: \\n\", train_data_batched.element_spec)\n",
        "print(\"\\n\")\n",
        "print(\"Specification of validation data: \\n\", val_data_batched.element_spec)"
      ],
      "execution_count": 41,
      "outputs": [
        {
          "output_type": "stream",
          "text": [
            "Specification of training data: \n",
            " (TensorSpec(shape=(None, None, 128), dtype=tf.float32, name=None), TensorSpec(shape=(None, 14), dtype=tf.int32, name=None))\n",
            "\n",
            "\n",
            "Specification of validation data: \n",
            " (TensorSpec(shape=(None, None, 128), dtype=tf.float32, name=None), TensorSpec(shape=(None, 14), dtype=tf.int32, name=None))\n"
          ],
          "name": "stdout"
        }
      ]
    },
    {
      "cell_type": "code",
      "metadata": {
        "colab": {
          "base_uri": "https://localhost:8080/"
        },
        "id": "opeSteLb2Zk0",
        "outputId": "fb3f2afc-6259-4d56-9d40-0198c452b69c"
      },
      "source": [
        "print(train_data_batched.take(1))"
      ],
      "execution_count": 42,
      "outputs": [
        {
          "output_type": "stream",
          "text": [
            "<TakeDataset shapes: ((None, None, 128), (None, 14)), types: (tf.float32, tf.int32)>\n"
          ],
          "name": "stdout"
        }
      ]
    },
    {
      "cell_type": "code",
      "metadata": {
        "colab": {
          "base_uri": "https://localhost:8080/"
        },
        "id": "wIaPUjvs1dYL",
        "outputId": "91a484be-bdc3-4364-cad6-dc5a4e1a6a33"
      },
      "source": [
        "for i in train_data_batched.take(1):\n",
        "    print(i[0].shape) # (batch_size, max_word, embedding_dim)\n",
        "    print(type(i[0]))"
      ],
      "execution_count": 43,
      "outputs": [
        {
          "output_type": "stream",
          "text": [
            "(16, 13, 128)\n",
            "<class 'tensorflow.python.framework.ops.EagerTensor'>\n"
          ],
          "name": "stdout"
        }
      ]
    },
    {
      "cell_type": "code",
      "metadata": {
        "colab": {
          "base_uri": "https://localhost:8080/"
        },
        "id": "iVSLpA6iCqfj",
        "outputId": "f6c5e8ed-08a7-4b58-c6a4-33084ddbe21d"
      },
      "source": [
        "for i in val_data_batched.take(1):\n",
        "    print(i[0].shape)"
      ],
      "execution_count": 44,
      "outputs": [
        {
          "output_type": "stream",
          "text": [
            "(16, 13, 128)\n"
          ],
          "name": "stdout"
        }
      ]
    },
    {
      "cell_type": "markdown",
      "metadata": {
        "id": "isIYhjq01iay"
      },
      "source": [
        "## 3. Create the custom layer\n",
        "You will now create a custom layer to add the learned end token embedding to the encoder model:"
      ]
    },
    {
      "cell_type": "code",
      "metadata": {
        "id": "e22f1Xyh6xvE",
        "colab": {
          "base_uri": "https://localhost:8080/",
          "height": 423
        },
        "outputId": "d29efec2-203d-4502-dc16-47404c21a2a1"
      },
      "source": [
        "# Run this cell to download and view a schematic diagram for the encoder model\n",
        "\n",
        "!wget -q -O neural_translation_model.png --no-check-certificate \"https://docs.google.com/uc?export=download&id=1JrtNOzUJDaOWrK4C-xv-4wUuZaI12sQI\"\n",
        "Image(\"neural_translation_model.png\")"
      ],
      "execution_count": 45,
      "outputs": [
        {
          "output_type": "execute_result",
          "data": {
            "image/png": "[encoded data removed]",
            "text/plain": [
              "<IPython.core.display.Image object>"
            ]
          },
          "metadata": {
            "tags": []
          },
          "execution_count": 45
        }
      ]
    },
    {
      "cell_type": "markdown",
      "metadata": {
        "id": "M6gLIHG81iaz"
      },
      "source": [
        "You should now build the custom layer.\n",
        "* Using layer subclassing, create a custom layer that takes a batch of English data examples from one of the Datasets, and adds a learned embedded ‘end’ token to the end of each sequence. \n",
        "* This layer should create a TensorFlow Variable (that will be learned during training) that is 128-dimensional (the size of the embedding space). _Hint: you may find it helpful in the call method to use the tf.tile function to replicate the end token embedding across every element in the batch._\n",
        "* Using the Dataset `.take(1)` method, extract a batch of English data examples from the training Dataset and print the shape. Test the custom layer by calling the layer on the English data batch Tensor and print the resulting Tensor shape (the layer should increase the sequence length by one)."
      ]
    },
    {
      "cell_type": "code",
      "metadata": {
        "id": "yg9hjZz11ia0",
        "colab": {
          "base_uri": "https://localhost:8080/"
        },
        "outputId": "a164169a-64e2-4ed5-fcad-61d2d65bd084"
      },
      "source": [
        "for i in train_data_batched.take(1):\n",
        "    for j in i[0]:\n",
        "        shape = j.shape\n",
        "        print(shape)\n",
        "        break"
      ],
      "execution_count": 46,
      "outputs": [
        {
          "output_type": "stream",
          "text": [
            "(13, 128)\n"
          ],
          "name": "stdout"
        }
      ]
    },
    {
      "cell_type": "markdown",
      "metadata": {
        "id": "VlrO4U6BlMtm"
      },
      "source": [
        "<font size=2>The end token will have shape (1,128). We have to reshape it as (1, 1, 128) to accomodate for the batch size in axis 0. We have to replicate (using tf.tile or tf.repeat) this (1, 1, 128) shaped tensor 16 times to make it (16, 1, 128).</font>"
      ]
    },
    {
      "cell_type": "code",
      "metadata": {
        "id": "ZRFyohXYoU7a"
      },
      "source": [
        "embedding_dim = 128"
      ],
      "execution_count": 47,
      "outputs": []
    },
    {
      "cell_type": "code",
      "metadata": {
        "id": "Bw8iepNG0wMv"
      },
      "source": [
        "from tensorflow.keras.layers import Layer"
      ],
      "execution_count": 48,
      "outputs": []
    },
    {
      "cell_type": "code",
      "metadata": {
        "colab": {
          "base_uri": "https://localhost:8080/"
        },
        "id": "SgMO2-CSoZwk",
        "outputId": "caa1426a-b443-49de-df77-fcc58b0e289c"
      },
      "source": [
        "# custom layer to add trainable end token embedding\n",
        "class addEndToken(Layer):\n",
        "    def __init__(self, **kwargs):\n",
        "        super(addEndToken, self).__init__(**kwargs)\n",
        "        self.end_token = tf.Variable(tf.random.uniform((1, embedding_dim)), trainable=True)\n",
        "    \n",
        "    def call(self, inputs):\n",
        "        end_token = tf.expand_dims(self.end_token, 0)\n",
        "        batched_end_tokens = tf.tile(end_token, [tf.shape(inputs)[0], 1, 1])\n",
        "        #print(inputs.shape)\n",
        "        return tf.keras.layers.concatenate([inputs, batched_end_tokens], axis=1)\n",
        "\n",
        "# check out an example\n",
        "endtokenlayer = addEndToken()\n",
        "for x, y in train_data_batched.take(1):\n",
        "    print(\"before adding end token:\\n\", x.shape, \"\\n\")\n",
        "    print(\"after adding end token:\\n\", endtokenlayer(x).shape)"
      ],
      "execution_count": 49,
      "outputs": [
        {
          "output_type": "stream",
          "text": [
            "before adding end token:\n",
            " (16, 13, 128) \n",
            "\n",
            "after adding end token:\n",
            " (16, 14, 128)\n"
          ],
          "name": "stdout"
        }
      ]
    },
    {
      "cell_type": "markdown",
      "metadata": {
        "id": "OAd3i4_y1ia-"
      },
      "source": [
        "## 4. Build the encoder network\n",
        "The encoder network follows the schematic diagram above. You should now build the RNN encoder model.\n",
        "* Using the functional API, build the encoder network according to the following spec:\n",
        "    * The model will take a batch of sequences of embedded English words as input, as given by the Dataset objects.\n",
        "    * The next layer in the encoder will be the custom layer you created previously, to add a learned end token embedding to the end of the English sequence.\n",
        "    * This is followed by a Masking layer, with the `mask_value` set to the distinct padding value you used when you padded the English sequences with the Dataset preprocessing above.\n",
        "    * The final layer is an LSTM layer with 512 units, which also returns the hidden and cell states.\n",
        "    * The encoder is a multi-output model. There should be two output Tensors of this model: the hidden state and cell states of the LSTM layer. The output of the LSTM layer is unused.\n",
        "* Using the Dataset `.take(1)` method, extract a batch of English data examples from the training Dataset and test the encoder model by calling it on the English data Tensor, and print the shape of the resulting Tensor outputs.\n",
        "* Print the model summary for the encoder network."
      ]
    },
    {
      "cell_type": "code",
      "metadata": {
        "id": "ehKaX7VKKUC6"
      },
      "source": [
        "for x, y in train_data_batched.take(1):\n",
        "    input_shape = x.shape[1:]"
      ],
      "execution_count": 50,
      "outputs": []
    },
    {
      "cell_type": "code",
      "metadata": {
        "colab": {
          "base_uri": "https://localhost:8080/"
        },
        "id": "Vg11Ydl0Kbho",
        "outputId": "adeb08e8-94f6-4c65-ded1-66ad3896fc1b"
      },
      "source": [
        "print(input_shape)"
      ],
      "execution_count": 51,
      "outputs": [
        {
          "output_type": "stream",
          "text": [
            "(13, 128)\n"
          ],
          "name": "stdout"
        }
      ]
    },
    {
      "cell_type": "markdown",
      "metadata": {
        "id": "YRyxyubtf9BK"
      },
      "source": [
        "<font size=2>final_hidden_state is the output of the last LSTM cell and final_cell_state is the memory cell value of the last LSTM cell.</font>"
      ]
    },
    {
      "cell_type": "code",
      "metadata": {
        "id": "6R2LqbfV1ia_"
      },
      "source": [
        "x = tf.keras.Input(shape=input_shape, name=\"input_layer\") # create input layer for accepting one batch at a time\n",
        "endTokenAdded = addEndToken()(x) # call layer for adding end token\n",
        "masked = tf.keras.layers.Masking(mask_value=0.0)(endTokenAdded) # call masking layer\n",
        "output_sequence, final_hidden_state, final_cell_state = tf.keras.layers.LSTM(units=512, \n",
        "                                                                             return_sequences=True, \n",
        "                                                                             return_state=True,\n",
        "                                                                             kernel_initializer=\"random_uniform\")(masked) # each LSTM cell has 512 units\n",
        "list_outputs = [final_hidden_state, final_cell_state]"
      ],
      "execution_count": 52,
      "outputs": []
    },
    {
      "cell_type": "code",
      "metadata": {
        "id": "-rrXaq1Xa9d7"
      },
      "source": [
        "modelEncoder = tf.keras.Model(inputs=x, outputs=list_outputs)"
      ],
      "execution_count": 53,
      "outputs": []
    },
    {
      "cell_type": "code",
      "metadata": {
        "colab": {
          "base_uri": "https://localhost:8080/"
        },
        "id": "7IzeimqFqfV5",
        "outputId": "0a9b0a41-47c9-43da-f12e-f42792668ec8"
      },
      "source": [
        "print(modelEncoder)"
      ],
      "execution_count": 54,
      "outputs": [
        {
          "output_type": "stream",
          "text": [
            "<tensorflow.python.keras.engine.functional.Functional object at 0x7fe5800567f0>\n"
          ],
          "name": "stdout"
        }
      ]
    },
    {
      "cell_type": "code",
      "metadata": {
        "id": "jEk9ikVh1ibL",
        "colab": {
          "base_uri": "https://localhost:8080/"
        },
        "outputId": "e9971e82-67ea-414e-f24d-db478ff94591"
      },
      "source": [
        "for x, y in train_data_batched.take(1):\n",
        "    x = modelEncoder(x)\n",
        "    print(len(x))\n",
        "    print(x[0].shape, x[1].shape)\n",
        "    modelEncoder.summary()"
      ],
      "execution_count": 55,
      "outputs": [
        {
          "output_type": "stream",
          "text": [
            "2\n",
            "(16, 512) (16, 512)\n",
            "Model: \"model\"\n",
            "_________________________________________________________________\n",
            "Layer (type)                 Output Shape              Param #   \n",
            "=================================================================\n",
            "input_layer (InputLayer)     [(None, 13, 128)]         0         \n",
            "_________________________________________________________________\n",
            "add_end_token_1 (addEndToken (None, 14, 128)           128       \n",
            "_________________________________________________________________\n",
            "masking (Masking)            (None, 14, 128)           0         \n",
            "_________________________________________________________________\n",
            "lstm (LSTM)                  [(None, 14, 512), (None,  1312768   \n",
            "=================================================================\n",
            "Total params: 1,312,896\n",
            "Trainable params: 1,312,896\n",
            "Non-trainable params: 0\n",
            "_________________________________________________________________\n"
          ],
          "name": "stdout"
        }
      ]
    },
    {
      "cell_type": "code",
      "metadata": {
        "colab": {
          "base_uri": "https://localhost:8080/"
        },
        "id": "tvllJn1J8oZ3",
        "outputId": "122d3120-fd9f-416b-9291-857a5a0a97c7"
      },
      "source": [
        "print(x[0])"
      ],
      "execution_count": 56,
      "outputs": [
        {
          "output_type": "stream",
          "text": [
            "tf.Tensor(\n",
            "[[ 0.02793093  0.02348615  0.03034187 ...  0.0656219   0.01193324\n",
            "  -0.01021894]\n",
            " [ 0.02770679  0.01233659  0.02616488 ...  0.05853548  0.01641103\n",
            "  -0.01484505]\n",
            " [ 0.02908245  0.00809846  0.02505855 ...  0.06899145  0.00647273\n",
            "  -0.01892687]\n",
            " ...\n",
            " [ 0.02681721  0.00705854  0.03239537 ...  0.06285115  0.00762557\n",
            "  -0.03325243]\n",
            " [ 0.01718802  0.00461325  0.02665865 ...  0.05685577  0.01188584\n",
            "  -0.01995228]\n",
            " [ 0.02834565  0.01550795  0.02886693 ...  0.06966488  0.01000611\n",
            "  -0.0206038 ]], shape=(16, 512), dtype=float32)\n"
          ],
          "name": "stdout"
        }
      ]
    },
    {
      "cell_type": "code",
      "metadata": {
        "colab": {
          "base_uri": "https://localhost:8080/"
        },
        "id": "qIIwAG94U6_D",
        "outputId": "cba98df9-4593-455c-fce9-6b7c51c6dcb1"
      },
      "source": [
        "modelEncoder.trainable_variables"
      ],
      "execution_count": 57,
      "outputs": [
        {
          "output_type": "execute_result",
          "data": {
            "text/plain": [
              "[<tf.Variable 'Variable:0' shape=(1, 128) dtype=float32, numpy=\n",
              " array([[0.52668536, 0.29162467, 0.46670413, 0.34513164, 0.82783484,\n",
              "         0.6568235 , 0.79476154, 0.3612113 , 0.46204317, 0.51756954,\n",
              "         0.30560136, 0.5622424 , 0.6458082 , 0.19692755, 0.1624564 ,\n",
              "         0.63814867, 0.04757488, 0.694258  , 0.49285996, 0.02304244,\n",
              "         0.2856325 , 0.5046786 , 0.00217044, 0.98293877, 0.5852686 ,\n",
              "         0.67497647, 0.39782536, 0.45995152, 0.7723521 , 0.35626101,\n",
              "         0.5185158 , 0.29139662, 0.6806172 , 0.84152925, 0.08488059,\n",
              "         0.21904027, 0.43794215, 0.6665406 , 0.38854873, 0.5888765 ,\n",
              "         0.8501407 , 0.3590021 , 0.76749516, 0.76069903, 0.43911397,\n",
              "         0.35285997, 0.01894701, 0.17588508, 0.80895555, 0.3957678 ,\n",
              "         0.3713566 , 0.54663014, 0.28865552, 0.06166995, 0.16659701,\n",
              "         0.09054565, 0.47149277, 0.3826245 , 0.30171072, 0.7575562 ,\n",
              "         0.71662164, 0.41007185, 0.8150041 , 0.4402814 , 0.37823892,\n",
              "         0.46446598, 0.02909386, 0.75645745, 0.4076997 , 0.867985  ,\n",
              "         0.8407078 , 0.23144054, 0.63281703, 0.34909296, 0.44751275,\n",
              "         0.98591864, 0.72564924, 0.31613922, 0.787233  , 0.08733523,\n",
              "         0.7202754 , 0.8212527 , 0.5009726 , 0.45569253, 0.78424275,\n",
              "         0.6112381 , 0.4353155 , 0.82999027, 0.5913892 , 0.9190819 ,\n",
              "         0.86828685, 0.90644777, 0.9593059 , 0.94161224, 0.44117582,\n",
              "         0.01282024, 0.10662568, 0.736303  , 0.7352047 , 0.83848965,\n",
              "         0.45180523, 0.70841634, 0.8746612 , 0.8303877 , 0.3803618 ,\n",
              "         0.08893442, 0.39605057, 0.5496105 , 0.01799226, 0.34635532,\n",
              "         0.8090892 , 0.11655951, 0.1713705 , 0.8608744 , 0.96590817,\n",
              "         0.1436925 , 0.6983564 , 0.9407574 , 0.8159214 , 0.8277774 ,\n",
              "         0.5274086 , 0.8447286 , 0.34459305, 0.19511163, 0.10844266,\n",
              "         0.19191372, 0.39796245, 0.5451914 ]], dtype=float32)>,\n",
              " <tf.Variable 'lstm/lstm_cell/kernel:0' shape=(128, 2048) dtype=float32, numpy=\n",
              " array([[ 0.02140397,  0.00397973, -0.00213296, ..., -0.01627823,\n",
              "          0.02845038,  0.02027556],\n",
              "        [ 0.04095943, -0.03923403, -0.04475796, ..., -0.01834326,\n",
              "          0.00309978, -0.01421295],\n",
              "        [-0.02633913,  0.00685052, -0.04374921, ...,  0.0200215 ,\n",
              "         -0.04269644, -0.03033689],\n",
              "        ...,\n",
              "        [-0.02381067,  0.00816511, -0.01908282, ..., -0.03738102,\n",
              "          0.00163299, -0.04163927],\n",
              "        [-0.01520503,  0.04442999,  0.02449152, ..., -0.03391212,\n",
              "         -0.01546152, -0.01922979],\n",
              "        [ 0.02746825,  0.0327672 , -0.03618692, ..., -0.01054683,\n",
              "          0.01595866, -0.0093623 ]], dtype=float32)>,\n",
              " <tf.Variable 'lstm/lstm_cell/recurrent_kernel:0' shape=(512, 2048) dtype=float32, numpy=\n",
              " array([[-0.03837526, -0.01091741, -0.0091108 , ..., -0.01988691,\n",
              "         -0.02002301, -0.02838325],\n",
              "        [ 0.0287668 ,  0.015944  ,  0.03135852, ..., -0.03916212,\n",
              "          0.03972302,  0.00885448],\n",
              "        [ 0.01516506,  0.01698069, -0.00202596, ...,  0.01111707,\n",
              "          0.01158993,  0.05246392],\n",
              "        ...,\n",
              "        [ 0.00658798, -0.03456903,  0.01743794, ..., -0.0151582 ,\n",
              "         -0.02167009, -0.0222862 ],\n",
              "        [ 0.00938091, -0.0130411 , -0.01648025, ..., -0.02959589,\n",
              "          0.03381474,  0.04461728],\n",
              "        [ 0.0252885 ,  0.0383024 ,  0.00555941, ..., -0.01401171,\n",
              "          0.03386369,  0.03132188]], dtype=float32)>,\n",
              " <tf.Variable 'lstm/lstm_cell/bias:0' shape=(2048,) dtype=float32, numpy=array([0., 0., 0., ..., 0., 0., 0.], dtype=float32)>]"
            ]
          },
          "metadata": {
            "tags": []
          },
          "execution_count": 57
        }
      ]
    },
    {
      "cell_type": "markdown",
      "metadata": {
        "id": "KvkzpCeZ1ibR"
      },
      "source": [
        "## 5. Build the decoder network\n",
        "The decoder network follows the schematic diagram below. "
      ]
    },
    {
      "cell_type": "code",
      "metadata": {
        "id": "yOjEb7cH7Y4S",
        "colab": {
          "base_uri": "https://localhost:8080/",
          "height": 501
        },
        "outputId": "f5aa3bd1-8df2-4e00-d9d0-c84b9fc8429c"
      },
      "source": [
        "# Run this cell to download and view a schematic diagram for the decoder model\n",
        "\n",
        "!wget -q -O neural_translation_model.png --no-check-certificate \"https://docs.google.com/uc?export=download&id=1DTeaXD8tA8RjkpVrB2mr9csSBOY4LQiW\"\n",
        "Image(\"neural_translation_model.png\")"
      ],
      "execution_count": 58,
      "outputs": [
        {
          "output_type": "execute_result",
          "data": {
            "image/png": "[encoded data removed]",
            "text/plain": [
              "<IPython.core.display.Image object>"
            ]
          },
          "metadata": {
            "tags": []
          },
          "execution_count": 58
        }
      ]
    },
    {
      "cell_type": "markdown",
      "metadata": {
        "id": "VPBK8WGL1ibS"
      },
      "source": [
        "You should now build the RNN decoder model.\n",
        "* Using Model subclassing, build the decoder network according to the following spec:\n",
        "    * The initializer should create the following layers:\n",
        "        * An Embedding layer with vocabulary size set to the number of unique German tokens, embedding dimension 128, and set to mask zero values in the input.\n",
        "        * An LSTM layer with 512 units, that returns its hidden and cell states, and also returns sequences.\n",
        "        * A Dense layer with number of units equal to the number of unique German tokens, and no activation function.\n",
        "    * The call method should include the usual `inputs` argument, as well as the additional keyword arguments `hidden_state` and `cell_state`. The default value for these keyword arguments should be `None`.\n",
        "    * The call method should pass the inputs through the Embedding layer, and then through the LSTM layer. If the `hidden_state` and `cell_state` arguments are provided, these should be used for the initial state of the LSTM layer. _Hint: use the_ `initial_state` _keyword argument when calling the LSTM layer on its input._\n",
        "    * The call method should pass the LSTM output sequence through the Dense layer, and return the resulting Tensor, along with the hidden and cell states of the LSTM layer.\n",
        "* Using the Dataset `.take(1)` method, extract a batch of English and German data examples from the training Dataset. Test the decoder model by first calling the encoder model on the English data Tensor to get the hidden and cell states, and then call the decoder model on the German data Tensor and hidden and cell states, and print the shape of the resulting decoder Tensor outputs.\n",
        "* Print the model summary for the decoder network."
      ]
    },
    {
      "cell_type": "code",
      "metadata": {
        "id": "l50qhnXD1ibT",
        "colab": {
          "base_uri": "https://localhost:8080/"
        },
        "outputId": "e8e47869-84cb-4e5e-c9dd-989ada187610"
      },
      "source": [
        "german_word_count = len(word_to_index)\n",
        "print(german_word_count)"
      ],
      "execution_count": 59,
      "outputs": [
        {
          "output_type": "stream",
          "text": [
            "5744\n"
          ],
          "name": "stdout"
        }
      ]
    },
    {
      "cell_type": "code",
      "metadata": {
        "id": "vEzwvJAPoj1H"
      },
      "source": [
        "from tensorflow.keras.models import Model"
      ],
      "execution_count": 60,
      "outputs": []
    },
    {
      "cell_type": "markdown",
      "metadata": {
        "id": "YB-M8v9-cSxC"
      },
      "source": [
        "<font size=2>Feeding target outputs to decoder. Teacher forcing.</font>"
      ]
    },
    {
      "cell_type": "code",
      "metadata": {
        "id": "vG5CRIXV1ibi"
      },
      "source": [
        "class Decoder(Model):\n",
        "    def __init__(self):\n",
        "        super(Decoder, self).__init__()\n",
        "        self.embedding_layer = tf.keras.layers.Embedding(input_length=14, input_dim=german_word_count+1, output_dim=128, mask_zero=True)\n",
        "        self.LSTM_layer = tf.keras.layers.LSTM(units=512, return_sequences=True, return_state=True, kernel_initializer=\"random_uniform\")\n",
        "        self.dense_layer = tf.keras.layers.Dense(units=german_word_count+1)\n",
        "\n",
        "    def call(self, inputs, hidden_state=None, cell_state=None):\n",
        "        x = self.embedding_layer(inputs)\n",
        "        initial_state = [hidden_state, cell_state]\n",
        "        if initial_state==[None, None]:\n",
        "            op_seq, hidden_state, cell_state = self.LSTM_layer(x)\n",
        "        else:\n",
        "            op_seq, hidden_state, cell_state = self.LSTM_layer(x, initial_state=[hidden_state, cell_state])\n",
        "        op_from_dense = self.dense_layer(op_seq)\n",
        "        return [op_from_dense, hidden_state, cell_state]"
      ],
      "execution_count": 61,
      "outputs": []
    },
    {
      "cell_type": "code",
      "metadata": {
        "id": "bmINtDcJSeTt"
      },
      "source": [
        "modelDecoder = Decoder()"
      ],
      "execution_count": 62,
      "outputs": []
    },
    {
      "cell_type": "code",
      "metadata": {
        "id": "SvqqT_ET1ibl",
        "colab": {
          "base_uri": "https://localhost:8080/"
        },
        "outputId": "13912ad2-0b40-4386-c9d3-ef156d41d276"
      },
      "source": [
        "for eng, ger in train_data_batched.take(1):\n",
        "    encoder_hidden_state, encoder_cell_state = modelEncoder(eng)\n",
        "    decoder_op, decoder_hidden_state, decoder_cell_state = modelDecoder(ger, encoder_hidden_state, encoder_cell_state)\n",
        "    print(ger)\n",
        "    print(tf.math.argmax(decoder_op, axis=2))\n",
        "    print(decoder_hidden_state.shape)\n",
        "    print(decoder_cell_state.shape)"
      ],
      "execution_count": 63,
      "outputs": [
        {
          "output_type": "stream",
          "text": [
            "tf.Tensor(\n",
            "[[   2    7    6 4955    8    3    0    0    0    0    0    0    0    0]\n",
            " [   2    7   15   64  594    8    3    0    0    0    0    0    0    0]\n",
            " [   2   14  237   99   42    4    3    0    0    0    0    0    0    0]\n",
            " [   2   27 1757    7  301    4    3    0    0    0    0    0    0    0]\n",
            " [   2    6  106  155    4    3    0    0    0    0    0    0    0    0]\n",
            " [   2   15   25 5560  129    4    3    0    0    0    0    0    0    0]\n",
            " [   2    9 1157   12    4    3    0    0    0    0    0    0    0    0]\n",
            " [   2   59   14   11  102    8    3    0    0    0    0    0    0    0]\n",
            " [   2   75   56   22   26  232    8    3    0    0    0    0    0    0]\n",
            " [   2    9   17   23 2601    4    3    0    0    0    0    0    0    0]\n",
            " [   2   90  103   10    3    0    0    0    0    0    0    0    0    0]\n",
            " [   2    5   67   72  630    4    3    0    0    0    0    0    0    0]\n",
            " [   2    9   17   45 5048    4    3    0    0    0    0    0    0    0]\n",
            " [   2    5  173 1133 5683    4    3    0    0    0    0    0    0    0]\n",
            " [   2    5   16   78   29   64    4    3    0    0    0    0    0    0]\n",
            " [   2    9   24  180    4    3    0    0    0    0    0    0    0    0]], shape=(16, 14), dtype=int32)\n",
            "tf.Tensor(\n",
            "[[2673 2673 2673 3279 3279 3007    0    0    0    0    0    0    0    0]\n",
            " [3658 3279 1356 3007  305 2744 3007    0    0    0    0    0    0    0]\n",
            " [3658 4079 4079 3279 3279 3279 5548    0    0    0    0    0    0    0]\n",
            " [3658 3007 3007 3007 3279 3279 5548    0    0    0    0    0    0    0]\n",
            " [2673 2673 2673 2673 1491 5548    0    0    0    0    0    0    0    0]\n",
            " [3658 2673 2592 3279 3279 3279 3279    0    0    0    0    0    0    0]\n",
            " [3658 3658  551 1356 3279 5548    0    0    0    0    0    0    0    0]\n",
            " [3658  551  551 3279 3279 3007 3007    0    0    0    0    0    0    0]\n",
            " [2673 2673 3279 3279 3279 2225 2744  507    0    0    0    0    0    0]\n",
            " [3658  551  551  551 2744 5548 5548    0    0    0    0    0    0    0]\n",
            " [3658 2673 3279 3279 3279    0    0    0    0    0    0    0    0    0]\n",
            " [2673 2673 2673 2744 2744 2744 5548    0    0    0    0    0    0    0]\n",
            " [3658 3658  551  551 5548 5548 5548    0    0    0    0    0    0    0]\n",
            " [2673 2673 2673 2673  551 5548 5548    0    0    0    0    0    0    0]\n",
            " [2673 2673 2673 3279 3279  305 5548 5548    0    0    0    0    0    0]\n",
            " [3658 4079  551  551  551 5548    0    0    0    0    0    0    0    0]], shape=(16, 14), dtype=int64)\n",
            "(16, 512)\n",
            "(16, 512)\n"
          ],
          "name": "stdout"
        }
      ]
    },
    {
      "cell_type": "code",
      "metadata": {
        "colab": {
          "base_uri": "https://localhost:8080/"
        },
        "id": "6KJyM2VhTszW",
        "outputId": "95b05bae-13c4-45af-b7b5-0bb978735569"
      },
      "source": [
        "modelDecoder.summary()"
      ],
      "execution_count": 64,
      "outputs": [
        {
          "output_type": "stream",
          "text": [
            "Model: \"decoder\"\n",
            "_________________________________________________________________\n",
            "Layer (type)                 Output Shape              Param #   \n",
            "=================================================================\n",
            "embedding (Embedding)        multiple                  735360    \n",
            "_________________________________________________________________\n",
            "lstm_1 (LSTM)                multiple                  1312768   \n",
            "_________________________________________________________________\n",
            "dense (Dense)                multiple                  2947185   \n",
            "=================================================================\n",
            "Total params: 4,995,313\n",
            "Trainable params: 4,995,313\n",
            "Non-trainable params: 0\n",
            "_________________________________________________________________\n"
          ],
          "name": "stdout"
        }
      ]
    },
    {
      "cell_type": "markdown",
      "metadata": {
        "id": "pST9XGJ81ibo"
      },
      "source": [
        "## 6. Make a custom training loop\n",
        "You should now write a custom training loop to train your custom neural translation model.\n",
        "* Define a function that takes a Tensor batch of German data (as extracted from the training Dataset), and returns a tuple containing German inputs and outputs for the decoder model (refer to schematic diagram above).\n",
        "* Define a function that computes the forward and backward pass for your translation model. This function should take an English input, German input and German output as arguments, and should do the following:\n",
        "    * Pass the English input into the encoder, to get the hidden and cell states of the encoder LSTM.\n",
        "    * These hidden and cell states are then passed into the decoder, along with the German inputs, which returns a sequence of outputs (the hidden and cell state outputs of the decoder LSTM are unused in this function).\n",
        "    * The loss should then be computed between the decoder outputs and the German output function argument.\n",
        "    * The function returns the loss and gradients with respect to the encoder and decoder’s trainable variables.\n",
        "    * Decorate the function with `@tf.function`\n",
        "* Define and run a custom training loop for a number of epochs (for you to choose) that does the following:\n",
        "    * Iterates through the training dataset, and creates decoder inputs and outputs from the German sequences.\n",
        "    * Updates the parameters of the translation model using the gradients of the function above and an optimizer object.\n",
        "    * Every epoch, compute the validation loss on a number of batches from the validation and save the epoch training and validation losses.\n",
        "* Plot the learning curves for loss vs epoch for both training and validation sets.\n",
        "\n",
        "_Hint: This model is computationally demanding to train. The quality of the model or length of training is not a factor in the grading rubric. However, to obtain a better model we recommend using the GPU accelerator hardware on Colab._"
      ]
    },
    {
      "cell_type": "code",
      "metadata": {
        "id": "7hJHbWqs1ibr"
      },
      "source": [
        "def generate_dec_in_out(batch_ger_in, hidden_state=None, cell_state=None):\n",
        "    ger_in = []\n",
        "    ger_out = []\n",
        "\n",
        "    z = tf.expand_dims(batch_ger_in, 2) #add feature dimension\n",
        "    masking = tf.keras.layers.Masking(mask_value=3) #mask out elements with value 3 (token for <end>)\n",
        "    z = masking(z)\n",
        "    w = z._keras_mask #get the tensor with boolean mask\n",
        "\n",
        "    for i in range(w.shape[0]):\n",
        "        a = np.zeros((w.shape[1]))\n",
        "        ger_in.append(tf.where(w[i], batch_ger_in[i], a)) #replace elements with value 3 with 0\n",
        "    \n",
        "    ger_in = tf.convert_to_tensor(ger_in)\n",
        "    \n",
        "    for i in batch_ger_in:\n",
        "        ger_out.append(tf.concat([i[1:], [0]], 0))\n",
        "\n",
        "    ger_out = tf.convert_to_tensor(ger_out)\n",
        "    return ger_in, ger_out"
      ],
      "execution_count": 65,
      "outputs": []
    },
    {
      "cell_type": "code",
      "metadata": {
        "id": "P7332ni8_3jA"
      },
      "source": [
        "optimizer = tf.keras.optimizers.Adam()\n",
        "loss_function = tf.keras.losses.SparseCategoricalCrossentropy(from_logits=True, reduction='none')"
      ],
      "execution_count": 70,
      "outputs": []
    },
    {
      "cell_type": "code",
      "metadata": {
        "id": "Jvu4J4-u1ibu"
      },
      "source": [
        "@tf.function\n",
        "def train_step(eng_in, ger_in, ger_out):\n",
        "    loss = 0\n",
        "\n",
        "    with tf.GradientTape() as tape:\n",
        "        enc_hidden_state, enc_cell_state = modelEncoder(eng_in)\n",
        "        dec_op, dec_hidden_state, dec_cell_state = modelDecoder(ger_in, enc_hidden_state, enc_cell_state)\n",
        "        loss = loss_function(ger_out, dec_op)\n",
        "    \n",
        "    trainable_variables = modelEncoder.trainable_variables + modelDecoder.trainable_variables\n",
        "    gradients = tape.gradient(loss, trainable_variables)\n",
        "    optimizer.apply_gradients(zip(gradients, trainable_variables))\n",
        "\n",
        "    return dec_op, loss, gradients"
      ],
      "execution_count": 81,
      "outputs": []
    },
    {
      "cell_type": "code",
      "metadata": {
        "id": "c49ZO2i4KOrr"
      },
      "source": [
        "def val_step(eng_in, ger_in, ger_out):\n",
        "    with tf.GradientTape() as tape:\n",
        "        enc_hidden_state, enc_cell_state = modelEncoder(eng_in)\n",
        "        dec_op, dec_hidden_state, dec_cell_state = modelDecoder(ger_in, enc_hidden_state, enc_cell_state)\n",
        "        loss = loss_function(ger_out, dec_op)\n",
        "    return dec_op, loss"
      ],
      "execution_count": 80,
      "outputs": []
    },
    {
      "cell_type": "code",
      "metadata": {
        "id": "6VSmBdwT1ib4",
        "colab": {
          "base_uri": "https://localhost:8080/"
        },
        "outputId": "862c4a1d-1a73-48b0-dd54-973a087abc9e"
      },
      "source": [
        "epochs = 8\n",
        "train_loss = []\n",
        "val_loss = []\n",
        "\n",
        "train_acc = []\n",
        "val_acc = []\n",
        "\n",
        "for i in range(epochs):\n",
        "    epoch_loss_avg = tf.keras.metrics.Mean()\n",
        "    epoch_accuracy = tf.keras.metrics.Accuracy()\n",
        "\n",
        "    epoch_loss_train = 0\n",
        "    j = 0\n",
        "    for x, y in train_data_batched:\n",
        "        ger_in, ger_out = generate_dec_in_out(y)\n",
        "        dec_op, batch_loss, gradients = train_step(x, ger_in, ger_out)\n",
        "        epoch_loss_avg(batch_loss)\n",
        "        if j%100 == 0:\n",
        "            print(\"average train loss in epoch \", i, \"after batch: \", j, \" loss: \", epoch_loss_avg.result())\n",
        "        \n",
        "        epoch_accuracy(y, tf.math.argmax(dec_op, 2))\n",
        "        j = j + 1\n",
        "\n",
        "    train_loss.append(epoch_loss_avg.result())\n",
        "    train_acc.append(epoch_accuracy.result())\n",
        "    print('Train accuracy after epoch ', i, ': ', epoch_accuracy.result())\n",
        "\n",
        "    j=0\n",
        "    epoch_loss_avg = tf.keras.metrics.Mean()\n",
        "    epoch_accuracy = tf.keras.metrics.Accuracy()\n",
        "    for x, y in val_data_batched:\n",
        "        ger_in, ger_out = generate_dec_in_out(y)\n",
        "        dec_op, batch_loss = val_step(x, ger_in, ger_out)\n",
        "        epoch_loss_avg(batch_loss)\n",
        "        if j%100 == 0 or j==249:\n",
        "            print(\"average val loss in epoch \", i, \"after batch: \", j, \" loss: \", epoch_loss_avg.result())\n",
        "\n",
        "        epoch_accuracy(y, tf.math.argmax(dec_op, 2))\n",
        "        j = j + 1\n",
        "\n",
        "    val_loss.append(epoch_loss_avg.result())\n",
        "    val_acc.append(epoch_accuracy.result())\n",
        "    print('Val accuracy after epoch ', i, ': ', epoch_accuracy.result())\n",
        "\n",
        "    print(\"\\n\")"
      ],
      "execution_count": 83,
      "outputs": [
        {
          "output_type": "stream",
          "text": [
            "average train loss in epoch  0 after batch:  0  loss:  tf.Tensor(8.5361185, shape=(), dtype=float32)\n",
            "average train loss in epoch  0 after batch:  100  loss:  tf.Tensor(7.057767, shape=(), dtype=float32)\n",
            "average train loss in epoch  0 after batch:  200  loss:  tf.Tensor(6.8301315, shape=(), dtype=float32)\n",
            "average train loss in epoch  0 after batch:  300  loss:  tf.Tensor(6.6739655, shape=(), dtype=float32)\n",
            "average train loss in epoch  0 after batch:  400  loss:  tf.Tensor(6.5594807, shape=(), dtype=float32)\n",
            "average train loss in epoch  0 after batch:  500  loss:  tf.Tensor(6.46515, shape=(), dtype=float32)\n",
            "average train loss in epoch  0 after batch:  600  loss:  tf.Tensor(6.3766327, shape=(), dtype=float32)\n",
            "average train loss in epoch  0 after batch:  700  loss:  tf.Tensor(6.293954, shape=(), dtype=float32)\n",
            "average train loss in epoch  0 after batch:  800  loss:  tf.Tensor(6.219318, shape=(), dtype=float32)\n",
            "average train loss in epoch  0 after batch:  900  loss:  tf.Tensor(6.147673, shape=(), dtype=float32)\n",
            "Train accuracy after epoch  0 :  tf.Tensor(0.52258927, shape=(), dtype=float32)\n",
            "average val loss in epoch  0 after batch:  0  loss:  tf.Tensor(5.294744, shape=(), dtype=float32)\n",
            "average val loss in epoch  0 after batch:  100  loss:  tf.Tensor(5.3904686, shape=(), dtype=float32)\n",
            "average val loss in epoch  0 after batch:  200  loss:  tf.Tensor(5.3955965, shape=(), dtype=float32)\n",
            "average val loss in epoch  0 after batch:  249  loss:  tf.Tensor(5.4062376, shape=(), dtype=float32)\n",
            "Val accuracy after epoch  0 :  tf.Tensor(0.5248214, shape=(), dtype=float32)\n",
            "\n",
            "\n",
            "average train loss in epoch  1 after batch:  0  loss:  tf.Tensor(5.2511053, shape=(), dtype=float32)\n",
            "average train loss in epoch  1 after batch:  100  loss:  tf.Tensor(5.30808, shape=(), dtype=float32)\n",
            "average train loss in epoch  1 after batch:  200  loss:  tf.Tensor(5.2484617, shape=(), dtype=float32)\n",
            "average train loss in epoch  1 after batch:  300  loss:  tf.Tensor(5.1883764, shape=(), dtype=float32)\n",
            "average train loss in epoch  1 after batch:  400  loss:  tf.Tensor(5.137925, shape=(), dtype=float32)\n",
            "average train loss in epoch  1 after batch:  500  loss:  tf.Tensor(5.0875616, shape=(), dtype=float32)\n",
            "average train loss in epoch  1 after batch:  600  loss:  tf.Tensor(5.035148, shape=(), dtype=float32)\n",
            "average train loss in epoch  1 after batch:  700  loss:  tf.Tensor(4.980046, shape=(), dtype=float32)\n",
            "average train loss in epoch  1 after batch:  800  loss:  tf.Tensor(4.928016, shape=(), dtype=float32)\n",
            "average train loss in epoch  1 after batch:  900  loss:  tf.Tensor(4.875159, shape=(), dtype=float32)\n",
            "Train accuracy after epoch  1 :  tf.Tensor(0.5243437, shape=(), dtype=float32)\n",
            "average val loss in epoch  1 after batch:  0  loss:  tf.Tensor(4.2663245, shape=(), dtype=float32)\n",
            "average val loss in epoch  1 after batch:  100  loss:  tf.Tensor(4.401056, shape=(), dtype=float32)\n",
            "average val loss in epoch  1 after batch:  200  loss:  tf.Tensor(4.4066687, shape=(), dtype=float32)\n",
            "average val loss in epoch  1 after batch:  249  loss:  tf.Tensor(4.418399, shape=(), dtype=float32)\n",
            "Val accuracy after epoch  1 :  tf.Tensor(0.525625, shape=(), dtype=float32)\n",
            "\n",
            "\n",
            "average train loss in epoch  2 after batch:  0  loss:  tf.Tensor(4.2025456, shape=(), dtype=float32)\n",
            "average train loss in epoch  2 after batch:  100  loss:  tf.Tensor(4.247882, shape=(), dtype=float32)\n",
            "average train loss in epoch  2 after batch:  200  loss:  tf.Tensor(4.186222, shape=(), dtype=float32)\n",
            "average train loss in epoch  2 after batch:  300  loss:  tf.Tensor(4.130546, shape=(), dtype=float32)\n",
            "average train loss in epoch  2 after batch:  400  loss:  tf.Tensor(4.0813627, shape=(), dtype=float32)\n",
            "average train loss in epoch  2 after batch:  500  loss:  tf.Tensor(4.032674, shape=(), dtype=float32)\n",
            "average train loss in epoch  2 after batch:  600  loss:  tf.Tensor(3.9829884, shape=(), dtype=float32)\n",
            "average train loss in epoch  2 after batch:  700  loss:  tf.Tensor(3.9315917, shape=(), dtype=float32)\n",
            "average train loss in epoch  2 after batch:  800  loss:  tf.Tensor(3.8820238, shape=(), dtype=float32)\n",
            "average train loss in epoch  2 after batch:  900  loss:  tf.Tensor(3.8316872, shape=(), dtype=float32)\n",
            "Train accuracy after epoch  2 :  tf.Tensor(0.52366966, shape=(), dtype=float32)\n",
            "average val loss in epoch  2 after batch:  0  loss:  tf.Tensor(3.3503385, shape=(), dtype=float32)\n",
            "average val loss in epoch  2 after batch:  100  loss:  tf.Tensor(3.5001023, shape=(), dtype=float32)\n",
            "average val loss in epoch  2 after batch:  200  loss:  tf.Tensor(3.5079, shape=(), dtype=float32)\n",
            "average val loss in epoch  2 after batch:  249  loss:  tf.Tensor(3.519995, shape=(), dtype=float32)\n",
            "Val accuracy after epoch  2 :  tf.Tensor(0.52433926, shape=(), dtype=float32)\n",
            "\n",
            "\n",
            "average train loss in epoch  3 after batch:  0  loss:  tf.Tensor(3.193074, shape=(), dtype=float32)\n",
            "average train loss in epoch  3 after batch:  100  loss:  tf.Tensor(3.2487113, shape=(), dtype=float32)\n",
            "average train loss in epoch  3 after batch:  200  loss:  tf.Tensor(3.1887186, shape=(), dtype=float32)\n",
            "average train loss in epoch  3 after batch:  300  loss:  tf.Tensor(3.135312, shape=(), dtype=float32)\n",
            "average train loss in epoch  3 after batch:  400  loss:  tf.Tensor(3.0884006, shape=(), dtype=float32)\n",
            "average train loss in epoch  3 after batch:  500  loss:  tf.Tensor(3.0418253, shape=(), dtype=float32)\n",
            "average train loss in epoch  3 after batch:  600  loss:  tf.Tensor(2.9956093, shape=(), dtype=float32)\n",
            "average train loss in epoch  3 after batch:  700  loss:  tf.Tensor(2.9476767, shape=(), dtype=float32)\n",
            "average train loss in epoch  3 after batch:  800  loss:  tf.Tensor(2.901203, shape=(), dtype=float32)\n",
            "average train loss in epoch  3 after batch:  900  loss:  tf.Tensor(2.854291, shape=(), dtype=float32)\n",
            "Train accuracy after epoch  3 :  tf.Tensor(0.5227902, shape=(), dtype=float32)\n",
            "average val loss in epoch  3 after batch:  0  loss:  tf.Tensor(2.5399735, shape=(), dtype=float32)\n",
            "average val loss in epoch  3 after batch:  100  loss:  tf.Tensor(2.6745975, shape=(), dtype=float32)\n",
            "average val loss in epoch  3 after batch:  200  loss:  tf.Tensor(2.6826115, shape=(), dtype=float32)\n",
            "average val loss in epoch  3 after batch:  249  loss:  tf.Tensor(2.6956282, shape=(), dtype=float32)\n",
            "Val accuracy after epoch  3 :  tf.Tensor(0.5236607, shape=(), dtype=float32)\n",
            "\n",
            "\n",
            "average train loss in epoch  4 after batch:  0  loss:  tf.Tensor(2.2721522, shape=(), dtype=float32)\n",
            "average train loss in epoch  4 after batch:  100  loss:  tf.Tensor(2.3143754, shape=(), dtype=float32)\n",
            "average train loss in epoch  4 after batch:  200  loss:  tf.Tensor(2.2606273, shape=(), dtype=float32)\n",
            "average train loss in epoch  4 after batch:  300  loss:  tf.Tensor(2.212048, shape=(), dtype=float32)\n",
            "average train loss in epoch  4 after batch:  400  loss:  tf.Tensor(2.1699529, shape=(), dtype=float32)\n",
            "average train loss in epoch  4 after batch:  500  loss:  tf.Tensor(2.1276584, shape=(), dtype=float32)\n",
            "average train loss in epoch  4 after batch:  600  loss:  tf.Tensor(2.087404, shape=(), dtype=float32)\n",
            "average train loss in epoch  4 after batch:  700  loss:  tf.Tensor(2.0463197, shape=(), dtype=float32)\n",
            "average train loss in epoch  4 after batch:  800  loss:  tf.Tensor(2.0061913, shape=(), dtype=float32)\n",
            "average train loss in epoch  4 after batch:  900  loss:  tf.Tensor(1.9658452, shape=(), dtype=float32)\n",
            "Train accuracy after epoch  4 :  tf.Tensor(0.5224732, shape=(), dtype=float32)\n",
            "average val loss in epoch  4 after batch:  0  loss:  tf.Tensor(1.8393072, shape=(), dtype=float32)\n",
            "average val loss in epoch  4 after batch:  100  loss:  tf.Tensor(1.9709148, shape=(), dtype=float32)\n",
            "average val loss in epoch  4 after batch:  200  loss:  tf.Tensor(1.977373, shape=(), dtype=float32)\n",
            "average val loss in epoch  4 after batch:  249  loss:  tf.Tensor(1.9926337, shape=(), dtype=float32)\n",
            "Val accuracy after epoch  4 :  tf.Tensor(0.5231072, shape=(), dtype=float32)\n",
            "\n",
            "\n",
            "average train loss in epoch  5 after batch:  0  loss:  tf.Tensor(1.4664015, shape=(), dtype=float32)\n",
            "average train loss in epoch  5 after batch:  100  loss:  tf.Tensor(1.5108056, shape=(), dtype=float32)\n",
            "average train loss in epoch  5 after batch:  200  loss:  tf.Tensor(1.4671111, shape=(), dtype=float32)\n",
            "average train loss in epoch  5 after batch:  300  loss:  tf.Tensor(1.4290566, shape=(), dtype=float32)\n",
            "average train loss in epoch  5 after batch:  400  loss:  tf.Tensor(1.3973076, shape=(), dtype=float32)\n",
            "average train loss in epoch  5 after batch:  500  loss:  tf.Tensor(1.365479, shape=(), dtype=float32)\n",
            "average train loss in epoch  5 after batch:  600  loss:  tf.Tensor(1.3364062, shape=(), dtype=float32)\n",
            "average train loss in epoch  5 after batch:  700  loss:  tf.Tensor(1.3068129, shape=(), dtype=float32)\n",
            "average train loss in epoch  5 after batch:  800  loss:  tf.Tensor(1.2785877, shape=(), dtype=float32)\n",
            "average train loss in epoch  5 after batch:  900  loss:  tf.Tensor(1.2500646, shape=(), dtype=float32)\n",
            "Train accuracy after epoch  5 :  tf.Tensor(0.5223705, shape=(), dtype=float32)\n",
            "average val loss in epoch  5 after batch:  0  loss:  tf.Tensor(1.3526899, shape=(), dtype=float32)\n",
            "average val loss in epoch  5 after batch:  100  loss:  tf.Tensor(1.4822878, shape=(), dtype=float32)\n",
            "average val loss in epoch  5 after batch:  200  loss:  tf.Tensor(1.4886295, shape=(), dtype=float32)\n",
            "average val loss in epoch  5 after batch:  249  loss:  tf.Tensor(1.5067526, shape=(), dtype=float32)\n",
            "Val accuracy after epoch  5 :  tf.Tensor(0.5230357, shape=(), dtype=float32)\n",
            "\n",
            "\n",
            "average train loss in epoch  6 after batch:  0  loss:  tf.Tensor(0.9284014, shape=(), dtype=float32)\n",
            "average train loss in epoch  6 after batch:  100  loss:  tf.Tensor(0.9433652, shape=(), dtype=float32)\n",
            "average train loss in epoch  6 after batch:  200  loss:  tf.Tensor(0.9119431, shape=(), dtype=float32)\n",
            "average train loss in epoch  6 after batch:  300  loss:  tf.Tensor(0.88680005, shape=(), dtype=float32)\n",
            "average train loss in epoch  6 after batch:  400  loss:  tf.Tensor(0.86839586, shape=(), dtype=float32)\n",
            "average train loss in epoch  6 after batch:  500  loss:  tf.Tensor(0.8497699, shape=(), dtype=float32)\n",
            "average train loss in epoch  6 after batch:  600  loss:  tf.Tensor(0.8330498, shape=(), dtype=float32)\n",
            "average train loss in epoch  6 after batch:  700  loss:  tf.Tensor(0.8165549, shape=(), dtype=float32)\n",
            "average train loss in epoch  6 after batch:  800  loss:  tf.Tensor(0.80081826, shape=(), dtype=float32)\n",
            "average train loss in epoch  6 after batch:  900  loss:  tf.Tensor(0.78475183, shape=(), dtype=float32)\n",
            "Train accuracy after epoch  6 :  tf.Tensor(0.52225894, shape=(), dtype=float32)\n",
            "average val loss in epoch  6 after batch:  0  loss:  tf.Tensor(1.1017877, shape=(), dtype=float32)\n",
            "average val loss in epoch  6 after batch:  100  loss:  tf.Tensor(1.2149038, shape=(), dtype=float32)\n",
            "average val loss in epoch  6 after batch:  200  loss:  tf.Tensor(1.2216786, shape=(), dtype=float32)\n",
            "average val loss in epoch  6 after batch:  249  loss:  tf.Tensor(1.2405565, shape=(), dtype=float32)\n",
            "Val accuracy after epoch  6 :  tf.Tensor(0.5230357, shape=(), dtype=float32)\n",
            "\n",
            "\n",
            "average train loss in epoch  7 after batch:  0  loss:  tf.Tensor(0.5895297, shape=(), dtype=float32)\n",
            "average train loss in epoch  7 after batch:  100  loss:  tf.Tensor(0.6147666, shape=(), dtype=float32)\n",
            "average train loss in epoch  7 after batch:  200  loss:  tf.Tensor(0.5936595, shape=(), dtype=float32)\n",
            "average train loss in epoch  7 after batch:  300  loss:  tf.Tensor(0.5772433, shape=(), dtype=float32)\n",
            "average train loss in epoch  7 after batch:  400  loss:  tf.Tensor(0.5678697, shape=(), dtype=float32)\n",
            "average train loss in epoch  7 after batch:  500  loss:  tf.Tensor(0.5569746, shape=(), dtype=float32)\n",
            "average train loss in epoch  7 after batch:  600  loss:  tf.Tensor(0.54762614, shape=(), dtype=float32)\n",
            "average train loss in epoch  7 after batch:  700  loss:  tf.Tensor(0.5394822, shape=(), dtype=float32)\n",
            "average train loss in epoch  7 after batch:  800  loss:  tf.Tensor(0.5308064, shape=(), dtype=float32)\n",
            "average train loss in epoch  7 after batch:  900  loss:  tf.Tensor(0.5215509, shape=(), dtype=float32)\n",
            "Train accuracy after epoch  7 :  tf.Tensor(0.5222009, shape=(), dtype=float32)\n",
            "average val loss in epoch  7 after batch:  0  loss:  tf.Tensor(1.0063231, shape=(), dtype=float32)\n",
            "average val loss in epoch  7 after batch:  100  loss:  tf.Tensor(1.0986602, shape=(), dtype=float32)\n",
            "average val loss in epoch  7 after batch:  200  loss:  tf.Tensor(1.1034579, shape=(), dtype=float32)\n",
            "average val loss in epoch  7 after batch:  249  loss:  tf.Tensor(1.1222007, shape=(), dtype=float32)\n",
            "Val accuracy after epoch  7 :  tf.Tensor(0.5230893, shape=(), dtype=float32)\n",
            "\n",
            "\n"
          ],
          "name": "stdout"
        }
      ]
    },
    {
      "cell_type": "code",
      "metadata": {
        "id": "HwQfclZucX5x"
      },
      "source": [
        "modelEncoder.save_weights('/content/gdrive/MyDrive/Colab Notebooks/NMT_encoder_weights')\n",
        "modelDecoder.save_weights('/content/gdrive/MyDrive/Colab Notebooks/NMT_decoder_weights')"
      ],
      "execution_count": null,
      "outputs": []
    },
    {
      "cell_type": "code",
      "metadata": {
        "id": "kJgwAlRrcpwq"
      },
      "source": [
        "modelEncoder.save_weights('/content/gdrive/MyDrive/Colab Notebooks/NMT_encoder_weights1.h5')\n",
        "modelDecoder.save_weights('/content/gdrive/MyDrive/Colab Notebooks/NMT_decoder_weights1.h5')"
      ],
      "execution_count": null,
      "outputs": []
    },
    {
      "cell_type": "code",
      "metadata": {
        "id": "MuOTjXR-c0CE"
      },
      "source": [
        "from matplotlib import pyplot as plt"
      ],
      "execution_count": 84,
      "outputs": []
    },
    {
      "cell_type": "code",
      "metadata": {
        "colab": {
          "base_uri": "https://localhost:8080/",
          "height": 295
        },
        "id": "OUtoiNdnkkxw",
        "outputId": "88fa0a6f-e754-41af-8806-f2093c1b3fe0"
      },
      "source": [
        "plt.plot(train_loss)\n",
        "plt.plot(val_loss)\n",
        "plt.title('Loss')\n",
        "plt.ylabel('loss')\n",
        "plt.xlabel('epochs')\n",
        "plt.legend(['train', 'test'], loc='upper right')\n",
        "plt.show()"
      ],
      "execution_count": 91,
      "outputs": [
        {
          "output_type": "display_data",
          "data": {
            "image/png": "[encoded data removed]",
            "text/plain": [
              "<Figure size 432x288 with 1 Axes>"
            ]
          },
          "metadata": {
            "tags": [],
            "needs_background": "light"
          }
        }
      ]
    },
    {
      "cell_type": "code",
      "metadata": {
        "colab": {
          "base_uri": "https://localhost:8080/",
          "height": 295
        },
        "id": "Ckf_OMMKlz6t",
        "outputId": "a9f1968f-b312-4e5d-9814-39894f723156"
      },
      "source": [
        "plt.plot(train_acc)\n",
        "plt.plot(val_acc)\n",
        "plt.title('Accuracy')\n",
        "plt.ylabel('accuracy')\n",
        "plt.xlabel('epochs')\n",
        "plt.legend(['train', 'test'], loc='upper right')\n",
        "plt.show()"
      ],
      "execution_count": 90,
      "outputs": [
        {
          "output_type": "display_data",
          "data": {
            "image/png": "[encoded data removed]",
            "text/plain": [
              "<Figure size 432x288 with 1 Axes>"
            ]
          },
          "metadata": {
            "tags": [],
            "needs_background": "light"
          }
        }
      ]
    },
    {
      "cell_type": "markdown",
      "metadata": {
        "id": "xM2gvBM11ib-"
      },
      "source": [
        "## 7. Use the model to translate\n",
        "Now it's time to put your model into practice! You should run your translation for five randomly sampled English sentences from the dataset. For each sentence, the process is as follows:\n",
        "* Preprocess and embed the English sentence according to the model requirements.\n",
        "* Pass the embedded sentence through the encoder to get the encoder hidden and cell states.\n",
        "* Starting with the special  `\"<start>\"` token, use this token and the final encoder hidden and cell states to get the one-step prediction from the decoder, as well as the decoder’s updated hidden and cell states.\n",
        "* Create a loop to get the next step prediction and updated hidden and cell states from the decoder, using the most recent hidden and cell states. Terminate the loop when the `\"<end>\"` token is emitted, or when the sentence has reached a maximum length.\n",
        "* Decode the output token sequence into German text and print the English text and the model's German translation."
      ]
    },
    {
      "cell_type": "code",
      "metadata": {
        "id": "bGnQtE7L1icA"
      },
      "source": [
        "random_English_5 = []\n",
        "random_German_5 = []\n",
        "ger_start_tokens = []\n",
        "for i in range(5):\n",
        "    index = random.randint(0,len(lines_English)-1)\n",
        "    random_English_5.append(lines_English[index])\n",
        "    random_German_5.append(lines_German[index])\n",
        "    ger_start_tokens.append('<start>')"
      ],
      "execution_count": null,
      "outputs": []
    },
    {
      "cell_type": "code",
      "metadata": {
        "id": "GFKzVHofCWdN"
      },
      "source": [
        "ger_start_tokens = tokenizer.texts_to_sequences(ger_start_tokens)"
      ],
      "execution_count": null,
      "outputs": []
    },
    {
      "cell_type": "code",
      "metadata": {
        "id": "C_jsscAZCpNT"
      },
      "source": [
        "dataset = tf.data.Dataset.from_tensor_slices((random_English_5, ger_start_tokens))"
      ],
      "execution_count": null,
      "outputs": []
    },
    {
      "cell_type": "code",
      "metadata": {
        "colab": {
          "base_uri": "https://localhost:8080/"
        },
        "id": "KYlb_cYcGqmU",
        "outputId": "1e5fcd3d-39b6-4b96-c547-f02247676c70"
      },
      "source": [
        "dataset = split_eng(dataset) # split english sequences as sequence of words\n",
        "dataset = eng_embed(dataset) # embed english sequences\n",
        "dataset = filter_dataset(dataset) # filter out english sequences of length greater than 13\n",
        "dataset = pad_English(dataset, 13) # pad englisg sequences\n",
        "dataset_batched = dataset.batch(batch_size=5)"
      ],
      "execution_count": null,
      "outputs": [
        {
          "output_type": "stream",
          "text": [
            "<class 'tensorflow.python.framework.ops.Tensor'>\n",
            "Tensor(\"strided_slice:0\", shape=(), dtype=int32)\n"
          ],
          "name": "stdout"
        }
      ]
    },
    {
      "cell_type": "code",
      "metadata": {
        "id": "SuWOXvyNJydt"
      },
      "source": [
        "# create inference encoder model\n",
        "enc_input = tf.keras.Input(shape=input_shape, name=\"input_layer\") # create input layer for accepting one batch at a time\n",
        "endTokenAdded = addEndToken()(enc_input) # call layer for adding end token\n",
        "masked = tf.keras.layers.Masking(mask_value=0.0)(endTokenAdded) # call masking layer\n",
        "output_sequence, final_hidden_state, final_cell_state = tf.keras.layers.LSTM(units=512, \n",
        "                                                                             return_sequences=True, \n",
        "                                                                             return_state=True,\n",
        "                                                                             kernel_initializer=\"random_uniform\")(masked) # each LSTM cell has 512 units\n",
        "list_outputs = [final_hidden_state, final_cell_state]"
      ],
      "execution_count": null,
      "outputs": []
    },
    {
      "cell_type": "code",
      "metadata": {
        "id": "VHfh2wrrJCVj"
      },
      "source": [
        "inference_encoder = tf.keras.Model(inputs=enc_input, outputs=list_outputs)\n",
        "inference_decoder = Decoder()"
      ],
      "execution_count": null,
      "outputs": []
    },
    {
      "cell_type": "code",
      "metadata": {
        "colab": {
          "base_uri": "https://localhost:8080/"
        },
        "id": "KRmb6PZHKOc-",
        "outputId": "a4ba1e4b-fef8-4b6a-ea78-a39df5303490"
      },
      "source": [
        "inference_encoder.load_weights('/content/gdrive/MyDrive/Colab Notebooks/NMT_encoder_weights')\n",
        "inference_decoder.load_weights('/content/gdrive/MyDrive/Colab Notebooks/NMT_decoder_weights')"
      ],
      "execution_count": null,
      "outputs": [
        {
          "output_type": "execute_result",
          "data": {
            "text/plain": [
              "<tensorflow.python.training.tracking.util.CheckpointLoadStatus at 0x7fcf14509630>"
            ]
          },
          "metadata": {
            "tags": []
          },
          "execution_count": 67
        }
      ]
    },
    {
      "cell_type": "code",
      "metadata": {
        "id": "SYOS0b4RI9Me"
      },
      "source": [
        "count = 1\n",
        "for eng, ger_start in dataset_batched:\n",
        "    result = []\n",
        "    done = []\n",
        "    encoderHiddenState, encoderCellState = inference_encoder(eng)\n",
        "    ger_next = ger_start\n",
        "    decoderHiddenState = encoderHiddenState\n",
        "    decoderCellState = encoderCellState\n",
        "    while count!=5:\n",
        "        decoderOutSeq, decoderHiddenState, decoderCellState = inference_decoder(ger_next, decoderHiddenState, decoderCellState)\n",
        "        ger_next = tf.argmax(decoderOutSeq, 2)\n",
        "        if count==1:\n",
        "            for i in range(5):\n",
        "                next_word_index = tf.argmax(decoderOutSeq[i], 1).numpy()[0]\n",
        "                next_word = index_to_words[str(next_word_index)]\n",
        "                if next_word=='<end>':\n",
        "                    done.append(i)\n",
        "                result.append(next_word)\n",
        "        else:\n",
        "            for i in range(5):\n",
        "                if i not in done:\n",
        "                    next_word_index = tf.argmax(decoderOutSeq[i], 1).numpy()[0]\n",
        "                    next_word = index_to_words[str(next_word_index)]\n",
        "                    if next_word=='<end>':\n",
        "                        done.append(i)\n",
        "                    result[i] = result[i]+' '+next_word\n",
        "        count = count + 1"
      ],
      "execution_count": null,
      "outputs": []
    },
    {
      "cell_type": "code",
      "metadata": {
        "colab": {
          "base_uri": "https://localhost:8080/"
        },
        "id": "TVI0EyO1VtHW",
        "outputId": "96de4159-7988-457c-cc1d-1663500ef678"
      },
      "source": [
        "for i in range(5):\n",
        "    print('English: ',random_English_5[i])\n",
        "    print('True German: ',random_German_5[i])\n",
        "    print('Output: ', result[i])"
      ],
      "execution_count": null,
      "outputs": [
        {
          "output_type": "stream",
          "text": [
            "English:  i opened the door .\n",
            "True German:  <start> ich oeffnete die tuer . <end>\n",
            "Output:  ich habe die tuer\n",
            "English:  you need us .\n",
            "True German:  <start> sie brauchen uns . <end>\n",
            "Output:  du brauchst freunde .\n",
            "English:  is she nice ?\n",
            "True German:  <start> ist sie nett ? <end>\n",
            "Output:  ist sie versalzen ?\n",
            "English:  that looks good .\n",
            "True German:  <start> das sieht gut aus . <end>\n",
            "Output:  das sieht gut aus\n",
            "English:  are you happy ?\n",
            "True German:  <start> bist du gluecklich ? <end>\n",
            "Output:  bist du grosszuegig ?\n"
          ],
          "name": "stdout"
        }
      ]
    },
    {
      "cell_type": "code",
      "metadata": {
        "id": "U7OJZ6CMyDkQ"
      },
      "source": [
        ""
      ],
      "execution_count": null,
      "outputs": []
    }
  ]
}